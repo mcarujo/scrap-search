{
 "cells": [
  {
   "cell_type": "code",
   "execution_count": 25,
   "metadata": {
    "Collapsed": "false"
   },
   "outputs": [],
   "source": [
    "%load_ext lab_black"
   ]
  },
  {
   "cell_type": "markdown",
   "metadata": {
    "Collapsed": "false"
   },
   "source": [
    "### Aluno Marco Antonio Moreira Carujo"
   ]
  },
  {
   "cell_type": "markdown",
   "metadata": {
    "Collapsed": "false"
   },
   "source": [
    "# ATIVIDADE 3\n",
    "Utilizando os arquivos baixados no Lab 1 e a estrutura do Lab 2 para busca-los no Elasticsearch\n",
    "\n",
    "E tambem utilizar a biblioteca python **ElasticSearch** (baixo nivel), cuja a documentação pode ser acessada no link [aqui](https://elasticsearch-py.readthedocs.io/en/master/index.html) para fazer uma busca genérica."
   ]
  },
  {
   "cell_type": "code",
   "execution_count": 26,
   "metadata": {
    "Collapsed": "false"
   },
   "outputs": [
    {
     "name": "stdout",
     "output_type": "stream",
     "text": [
      "ElasticSearch ONLINE !\n"
     ]
    }
   ],
   "source": [
    "from elasticsearch import Elasticsearch\n",
    "\n",
    "es = Elasticsearch()\n",
    "if es.ping():\n",
    "    print(\"ElasticSearch ONLINE !\")"
   ]
  },
  {
   "cell_type": "markdown",
   "metadata": {
    "Collapsed": "false"
   },
   "source": [
    "# Busca\n",
    "**Search(body=None, index=None, params=None, headers=None)**\n",
    "- Returns results matching a query. https://www.elastic.co/guide/en/elasticsearch/reference/master/search-search.html\n",
    "\n",
    "**Parameters:**\n",
    "   - body – The search definition using the Query DSL\n",
    "   - index – A comma-separated list of index names to search; use _all or empty string to perform the operation on all indices\n",
    "   - _source – True or false to return the _source field or not, or a list of fields to return\n",
    "   - _source_excludes – A list of fields to exclude from the returned _source field\n",
    "   - _source_includes – A list of fields to extract and return from the _source field\n",
    "   - allow_no_indices – Whether to ignore if a wildcard indices expression resolves into no concrete indices. (This includes _all string or when no indices have been specified)\n",
    "   - allow_partial_search_results – Indicate if an error should be returned if there is a partial search failure or timeout Default: True\n",
    "   - analyze_wildcard – Specify whether wildcard and prefix queries should be analyzed (default: false)\n",
    "   - analyzer – The analyzer to use for the query string\n",
    "   - batched_reduce_size – The number of shard results that should be reduced at once on the coordinating node. This value should be used as a protection mechanism to reduce the memory overhead per search request if the potential number of shards in the request can be large. Default: 512\n",
    "   - ccs_minimize_roundtrips – Indicates whether network round- trips should be minimized as part of cross-cluster search requests execution Default: true\n",
    "   - default_operator – The default operator for query string query (AND or OR) Valid choices: AND, OR Default: OR\n",
    "   - df – The field to use as default where no field prefix is given in the query string\n",
    "   - docvalue_fields – A comma-separated list of fields to return as the docvalue representation of a field for each hit\n",
    "   - expand_wildcards – Whether to expand wildcard expression to concrete indices that are open, closed or both. Valid choices: open, closed, hidden, none, all Default: open\n",
    "   - explain – Specify whether to return detailed information about score computation as part of a hit\n",
    "   - from_ – Starting offset (default: 0)\n",
    "   - ignore_throttled – Whether specified concrete, expanded or aliased indices should be ignored when throttled\n",
    "   - ignore_unavailable – Whether specified concrete indices should be ignored when unavailable (missing or closed)\n",
    "   - lenient – Specify whether format-based query failures (such as providing text to a numeric field) should be ignored\n",
    "   - max_concurrent_shard_requests – The number of concurrent shard requests per node this search executes concurrently. This value should be used to limit the impact of the search on the cluster in order to limit the number of concurrent shard requests Default: 5\n",
    "   - pre_filter_shard_size – A threshold that enforces a pre- filter roundtrip to prefilter search shards based on query rewriting if the number of shards the search request expands to exceeds the threshold. This filter roundtrip can limit the number of shards significantly if for instance a shard can not match any documents based on its rewrite method ie. if date filters are mandatory to match but the shard bounds and the query are disjoint.\n",
    "   - preference – Specify the node or shard the operation should be performed on (default: random)\n",
    "   - q – Query in the Lucene query string syntax\n",
    "   - request_cache – Specify if request cache should be used for this request or not, defaults to index level setting\n",
    "   - rest_total_hits_as_int – Indicates whether hits.total should be rendered as an integer or an object in the rest search response\n",
    "   - routing – A comma-separated list of specific routing values\n",
    "   - scroll – Specify how long a consistent view of the index should be maintained for scrolled search\n",
    "   - search_type – Search operation type Valid choices: query_then_fetch, dfs_query_then_fetch\n",
    "   - seq_no_primary_term – Specify whether to return sequence number and primary term of the last modification of each hit\n",
    "   - size – Number of hits to return (default: 10)\n",
    "   - sort – A comma-separated list of <field>:<direction> pairs\n",
    "   - stats – Specific ‘tag’ of the request for logging and statistical purposes\n",
    "   - stored_fields – A comma-separated list of stored fields to return as part of a hit\n",
    "   - suggest_field – Specify which field to use for suggestions\n",
    "   - suggest_mode – Specify suggest mode Valid choices: missing, popular, always Default: missing\n",
    "   - suggest_size – How many suggestions to return in response\n",
    "   - suggest_text – The source text for which the suggestions should be returned\n",
    "   - terminate_after – The maximum number of documents to collect for each shard, upon reaching which the query execution will terminate early.\n",
    "   - timeout – Explicit operation timeout\n",
    "   - track_scores – Whether to calculate and return scores even if they are not used for sorting\n",
    "   - track_total_hits – Indicate if the number of documents that match the query should be tracked. A number can also be specified, to accurately track the total hit count up to the number.\n",
    "   - typed_keys – Specify whether aggregation and suggester names should be prefixed by their respective types in the response\n",
    "   - version – Specify whether to return document version as part of a hit"
   ]
  },
  {
   "cell_type": "code",
   "execution_count": 27,
   "metadata": {
    "Collapsed": "false"
   },
   "outputs": [],
   "source": [
    "import pandas as pd\n",
    "from IPython.display import display\n",
    "\n",
    "# função para auxiliar o print\n",
    "def eprint(response):\n",
    "    results = []\n",
    "    for doc in response[\"hits\"][\"hits\"]:\n",
    "        line = {}\n",
    "        line[\"id\"] = doc[\"_id\"]\n",
    "        line[\"score\"] = doc[\"_score\"]\n",
    "        line[\"titulo\"] = doc[\"_source\"][\"titulo\"]\n",
    "        line[\"autor\"] = doc[\"_source\"][\"autor\"]\n",
    "        line[\"texto\"] = doc[\"_source\"][\"texto\"]\n",
    "        results.append(line)\n",
    "    display(pd.DataFrame.from_dict(results, orient=\"columns\"))"
   ]
  },
  {
   "cell_type": "markdown",
   "metadata": {
    "Collapsed": "false"
   },
   "source": [
    "### Procurando em qualquer campo"
   ]
  },
  {
   "cell_type": "markdown",
   "metadata": {
    "Collapsed": "false"
   },
   "source": [
    "Passando como busca \"realidade aumentada\" em qualquer campo do documento e limitando o tamanho da busca como 10 documentos."
   ]
  },
  {
   "cell_type": "code",
   "execution_count": 28,
   "metadata": {
    "Collapsed": "false"
   },
   "outputs": [
    {
     "data": {
      "text/html": [
       "<div>\n",
       "<style scoped>\n",
       "    .dataframe tbody tr th:only-of-type {\n",
       "        vertical-align: middle;\n",
       "    }\n",
       "\n",
       "    .dataframe tbody tr th {\n",
       "        vertical-align: top;\n",
       "    }\n",
       "\n",
       "    .dataframe thead th {\n",
       "        text-align: right;\n",
       "    }\n",
       "</style>\n",
       "<table border=\"1\" class=\"dataframe\">\n",
       "  <thead>\n",
       "    <tr style=\"text-align: right;\">\n",
       "      <th></th>\n",
       "      <th>autor</th>\n",
       "      <th>id</th>\n",
       "      <th>score</th>\n",
       "      <th>texto</th>\n",
       "      <th>titulo</th>\n",
       "    </tr>\n",
       "  </thead>\n",
       "  <tbody>\n",
       "    <tr>\n",
       "      <th>0</th>\n",
       "      <td>Alan Ferreira Alves, Cícero  Francisco Bezerra...</td>\n",
       "      <td>AemBZHMB9RWPyMKDEM_y</td>\n",
       "      <td>7.623015</td>\n",
       "      <td>IV Congresso sobre Tecnologias na Educação (Ct...</td>\n",
       "      <td>Investigação de Novas Estratégias para o Ensin...</td>\n",
       "    </tr>\n",
       "    <tr>\n",
       "      <th>1</th>\n",
       "      <td>Eduarda Queiroz, Rafaela Moura, Ellen Souza</td>\n",
       "      <td>AOmBZHMB9RWPyMKDEM_y</td>\n",
       "      <td>4.881375</td>\n",
       "      <td>IV Congresso sobre Tecnologias na Educação (Ct...</td>\n",
       "      <td>Como a Realidade Aumentada tem Auxiliado no Pr...</td>\n",
       "    </tr>\n",
       "    <tr>\n",
       "      <th>2</th>\n",
       "      <td>Deyse Mara Romualdo Soares, Gabriela Teles, Ro...</td>\n",
       "      <td>KemBZHMB9RWPyMKDEM_z</td>\n",
       "      <td>2.422138</td>\n",
       "      <td>Tecnologias Digitais nos Processos de Ensin...</td>\n",
       "      <td>Tecnologias Digitais nos Processos de Ensino e...</td>\n",
       "    </tr>\n",
       "    <tr>\n",
       "      <th>3</th>\n",
       "      <td>Elvis Medeiros de Melo, Dennys Leite Maia</td>\n",
       "      <td>DemBZHMB9RWPyMKDEM_y</td>\n",
       "      <td>2.113137</td>\n",
       "      <td>O Uso de Dispositivos Móveis para o Tratamen...</td>\n",
       "      <td>O Uso de Dispositivos Móveis para o Tratamento...</td>\n",
       "    </tr>\n",
       "    <tr>\n",
       "      <th>4</th>\n",
       "      <td>Aladir Ferreira da Silva Júnior, Leizer Fernan...</td>\n",
       "      <td>MOmBZHMB9RWPyMKDEM_z</td>\n",
       "      <td>1.927623</td>\n",
       "      <td>Programando a Várias Mãos: um Relato de Ex...</td>\n",
       "      <td>Programando a Várias Mãos: um Relato de Experi...</td>\n",
       "    </tr>\n",
       "    <tr>\n",
       "      <th>5</th>\n",
       "      <td>Amanda Maria D. de Oliveira, Adriana Virgínia ...</td>\n",
       "      <td>RemBZHMB9RWPyMKDEM_z</td>\n",
       "      <td>1.565196</td>\n",
       "      <td>Software Educativo Encantando Cordel Amanda Ma...</td>\n",
       "      <td>Software Educativo Encantando Cordel</td>\n",
       "    </tr>\n",
       "    <tr>\n",
       "      <th>6</th>\n",
       "      <td>Lucas O. Lopes, Paula R. P. Oliveira, Karoline...</td>\n",
       "      <td>JumBZHMB9RWPyMKDEM_z</td>\n",
       "      <td>1.290093</td>\n",
       "      <td>O “Maker” na Escola: uma Reflexão sobre Tecnol...</td>\n",
       "      <td>O “Maker” na Escola: uma Reflexão sobre Tecnol...</td>\n",
       "    </tr>\n",
       "    <tr>\n",
       "      <th>7</th>\n",
       "      <td>Elvis Medeiros de Melo, Dennys Leite Maia</td>\n",
       "      <td>DOmBZHMB9RWPyMKDEM_y</td>\n",
       "      <td>1.156423</td>\n",
       "      <td>O Uso do Smartphone por Estudantes de Pós-Gra...</td>\n",
       "      <td>O Uso do Smartphone por Estudantes de Pós-Grad...</td>\n",
       "    </tr>\n",
       "    <tr>\n",
       "      <th>8</th>\n",
       "      <td>Danielle Moura Santos, Raphaela Delmondes do N...</td>\n",
       "      <td>JemBZHMB9RWPyMKDEM_z</td>\n",
       "      <td>1.100505</td>\n",
       "      <td>Tecnologia Digital na Aprendizagem Baseada em ...</td>\n",
       "      <td>Tecnologia Digital na Aprendizagem Baseada em ...</td>\n",
       "    </tr>\n",
       "    <tr>\n",
       "      <th>9</th>\n",
       "      <td>Daniel de Sant'anna Martins, Anderson Paulo da...</td>\n",
       "      <td>B-mBZHMB9RWPyMKDEM_y</td>\n",
       "      <td>1.094950</td>\n",
       "      <td>LudoEscola: a Gamificação como Ferramenta...</td>\n",
       "      <td>LudoEscola: a Gamificação como Ferramenta de T...</td>\n",
       "    </tr>\n",
       "  </tbody>\n",
       "</table>\n",
       "</div>"
      ],
      "text/plain": [
       "                                               autor                    id  \\\n",
       "0  Alan Ferreira Alves, Cícero  Francisco Bezerra...  AemBZHMB9RWPyMKDEM_y   \n",
       "1        Eduarda Queiroz, Rafaela Moura, Ellen Souza  AOmBZHMB9RWPyMKDEM_y   \n",
       "2  Deyse Mara Romualdo Soares, Gabriela Teles, Ro...  KemBZHMB9RWPyMKDEM_z   \n",
       "3          Elvis Medeiros de Melo, Dennys Leite Maia  DemBZHMB9RWPyMKDEM_y   \n",
       "4  Aladir Ferreira da Silva Júnior, Leizer Fernan...  MOmBZHMB9RWPyMKDEM_z   \n",
       "5  Amanda Maria D. de Oliveira, Adriana Virgínia ...  RemBZHMB9RWPyMKDEM_z   \n",
       "6  Lucas O. Lopes, Paula R. P. Oliveira, Karoline...  JumBZHMB9RWPyMKDEM_z   \n",
       "7          Elvis Medeiros de Melo, Dennys Leite Maia  DOmBZHMB9RWPyMKDEM_y   \n",
       "8  Danielle Moura Santos, Raphaela Delmondes do N...  JemBZHMB9RWPyMKDEM_z   \n",
       "9  Daniel de Sant'anna Martins, Anderson Paulo da...  B-mBZHMB9RWPyMKDEM_y   \n",
       "\n",
       "      score                                              texto  \\\n",
       "0  7.623015  IV Congresso sobre Tecnologias na Educação (Ct...   \n",
       "1  4.881375  IV Congresso sobre Tecnologias na Educação (Ct...   \n",
       "2  2.422138     Tecnologias Digitais nos Processos de Ensin...   \n",
       "3  2.113137    O Uso de Dispositivos Móveis para o Tratamen...   \n",
       "4  1.927623      Programando a Várias Mãos: um Relato de Ex...   \n",
       "5  1.565196  Software Educativo Encantando Cordel Amanda Ma...   \n",
       "6  1.290093  O “Maker” na Escola: uma Reflexão sobre Tecnol...   \n",
       "7  1.156423   O Uso do Smartphone por Estudantes de Pós-Gra...   \n",
       "8  1.100505  Tecnologia Digital na Aprendizagem Baseada em ...   \n",
       "9  1.094950       LudoEscola: a Gamificação como Ferramenta...   \n",
       "\n",
       "                                              titulo  \n",
       "0  Investigação de Novas Estratégias para o Ensin...  \n",
       "1  Como a Realidade Aumentada tem Auxiliado no Pr...  \n",
       "2  Tecnologias Digitais nos Processos de Ensino e...  \n",
       "3  O Uso de Dispositivos Móveis para o Tratamento...  \n",
       "4  Programando a Várias Mãos: um Relato de Experi...  \n",
       "5               Software Educativo Encantando Cordel  \n",
       "6  O “Maker” na Escola: uma Reflexão sobre Tecnol...  \n",
       "7  O Uso do Smartphone por Estudantes de Pós-Grad...  \n",
       "8  Tecnologia Digital na Aprendizagem Baseada em ...  \n",
       "9  LudoEscola: a Gamificação como Ferramenta de T...  "
      ]
     },
     "metadata": {},
     "output_type": "display_data"
    }
   ],
   "source": [
    "res = es.search(q=\"realidade aumentada\", index=\"artigos-index\", size=10)\n",
    "eprint(res)"
   ]
  },
  {
   "cell_type": "markdown",
   "metadata": {
    "Collapsed": "false"
   },
   "source": [
    "## Procurando no campo 'autor'"
   ]
  },
  {
   "cell_type": "code",
   "execution_count": 29,
   "metadata": {
    "Collapsed": "false"
   },
   "outputs": [
    {
     "data": {
      "text/html": [
       "<div>\n",
       "<style scoped>\n",
       "    .dataframe tbody tr th:only-of-type {\n",
       "        vertical-align: middle;\n",
       "    }\n",
       "\n",
       "    .dataframe tbody tr th {\n",
       "        vertical-align: top;\n",
       "    }\n",
       "\n",
       "    .dataframe thead th {\n",
       "        text-align: right;\n",
       "    }\n",
       "</style>\n",
       "<table border=\"1\" class=\"dataframe\">\n",
       "  <thead>\n",
       "    <tr style=\"text-align: right;\">\n",
       "      <th></th>\n",
       "      <th>autor</th>\n",
       "      <th>id</th>\n",
       "      <th>score</th>\n",
       "      <th>texto</th>\n",
       "      <th>titulo</th>\n",
       "    </tr>\n",
       "  </thead>\n",
       "  <tbody>\n",
       "    <tr>\n",
       "      <th>0</th>\n",
       "      <td>Eduarda Queiroz, Rafaela Moura, Ellen Souza</td>\n",
       "      <td>AOmBZHMB9RWPyMKDEM_y</td>\n",
       "      <td>3.527312</td>\n",
       "      <td>IV Congresso sobre Tecnologias na Educação (Ct...</td>\n",
       "      <td>Como a Realidade Aumentada tem Auxiliado no Pr...</td>\n",
       "    </tr>\n",
       "  </tbody>\n",
       "</table>\n",
       "</div>"
      ],
      "text/plain": [
       "                                         autor                    id  \\\n",
       "0  Eduarda Queiroz, Rafaela Moura, Ellen Souza  AOmBZHMB9RWPyMKDEM_y   \n",
       "\n",
       "      score                                              texto  \\\n",
       "0  3.527312  IV Congresso sobre Tecnologias na Educação (Ct...   \n",
       "\n",
       "                                              titulo  \n",
       "0  Como a Realidade Aumentada tem Auxiliado no Pr...  "
      ]
     },
     "metadata": {},
     "output_type": "display_data"
    }
   ],
   "source": [
    "res = es.search(q=\"autor:queiroz\", index=\"artigos-index\", size=10)\n",
    "eprint(res)"
   ]
  },
  {
   "cell_type": "markdown",
   "metadata": {
    "Collapsed": "false"
   },
   "source": [
    "## Procurando no campo 'titulo'"
   ]
  },
  {
   "cell_type": "code",
   "execution_count": 30,
   "metadata": {
    "Collapsed": "false"
   },
   "outputs": [
    {
     "data": {
      "text/html": [
       "<div>\n",
       "<style scoped>\n",
       "    .dataframe tbody tr th:only-of-type {\n",
       "        vertical-align: middle;\n",
       "    }\n",
       "\n",
       "    .dataframe tbody tr th {\n",
       "        vertical-align: top;\n",
       "    }\n",
       "\n",
       "    .dataframe thead th {\n",
       "        text-align: right;\n",
       "    }\n",
       "</style>\n",
       "<table border=\"1\" class=\"dataframe\">\n",
       "  <thead>\n",
       "    <tr style=\"text-align: right;\">\n",
       "      <th></th>\n",
       "      <th>autor</th>\n",
       "      <th>id</th>\n",
       "      <th>score</th>\n",
       "      <th>texto</th>\n",
       "      <th>titulo</th>\n",
       "    </tr>\n",
       "  </thead>\n",
       "  <tbody>\n",
       "    <tr>\n",
       "      <th>0</th>\n",
       "      <td>Amanda Maria D. de Oliveira, Adriana Virgínia ...</td>\n",
       "      <td>RemBZHMB9RWPyMKDEM_z</td>\n",
       "      <td>3.244864</td>\n",
       "      <td>Software Educativo Encantando Cordel Amanda Ma...</td>\n",
       "      <td>Software Educativo Encantando Cordel</td>\n",
       "    </tr>\n",
       "    <tr>\n",
       "      <th>1</th>\n",
       "      <td>Sonia Azevedo de Medeiros, Taciana Pontual Fal...</td>\n",
       "      <td>H-mBZHMB9RWPyMKDEM_y</td>\n",
       "      <td>2.498678</td>\n",
       "      <td>O Uso do Software SEBRAN ABC como Recurso Pote...</td>\n",
       "      <td>O Uso do Software SEBRAN ABC como Recurso Pote...</td>\n",
       "    </tr>\n",
       "  </tbody>\n",
       "</table>\n",
       "</div>"
      ],
      "text/plain": [
       "                                               autor                    id  \\\n",
       "0  Amanda Maria D. de Oliveira, Adriana Virgínia ...  RemBZHMB9RWPyMKDEM_z   \n",
       "1  Sonia Azevedo de Medeiros, Taciana Pontual Fal...  H-mBZHMB9RWPyMKDEM_y   \n",
       "\n",
       "      score                                              texto  \\\n",
       "0  3.244864  Software Educativo Encantando Cordel Amanda Ma...   \n",
       "1  2.498678  O Uso do Software SEBRAN ABC como Recurso Pote...   \n",
       "\n",
       "                                              titulo  \n",
       "0               Software Educativo Encantando Cordel  \n",
       "1  O Uso do Software SEBRAN ABC como Recurso Pote...  "
      ]
     },
     "metadata": {},
     "output_type": "display_data"
    }
   ],
   "source": [
    "res = es.search(q=\"titulo:software\", index=\"artigos-index\", size=10)\n",
    "eprint(res)"
   ]
  },
  {
   "cell_type": "markdown",
   "metadata": {
    "Collapsed": "false"
   },
   "source": [
    "## Procurando no campo 'texto'"
   ]
  },
  {
   "cell_type": "code",
   "execution_count": 31,
   "metadata": {
    "Collapsed": "false"
   },
   "outputs": [
    {
     "data": {
      "text/html": [
       "<div>\n",
       "<style scoped>\n",
       "    .dataframe tbody tr th:only-of-type {\n",
       "        vertical-align: middle;\n",
       "    }\n",
       "\n",
       "    .dataframe tbody tr th {\n",
       "        vertical-align: top;\n",
       "    }\n",
       "\n",
       "    .dataframe thead th {\n",
       "        text-align: right;\n",
       "    }\n",
       "</style>\n",
       "<table border=\"1\" class=\"dataframe\">\n",
       "  <thead>\n",
       "    <tr style=\"text-align: right;\">\n",
       "      <th></th>\n",
       "      <th>autor</th>\n",
       "      <th>id</th>\n",
       "      <th>score</th>\n",
       "      <th>texto</th>\n",
       "      <th>titulo</th>\n",
       "    </tr>\n",
       "  </thead>\n",
       "  <tbody>\n",
       "    <tr>\n",
       "      <th>0</th>\n",
       "      <td>Sonia Azevedo de Medeiros, Taciana Pontual Fal...</td>\n",
       "      <td>H-mBZHMB9RWPyMKDEM_y</td>\n",
       "      <td>7.665312</td>\n",
       "      <td>O Uso do Software SEBRAN ABC como Recurso Pote...</td>\n",
       "      <td>O Uso do Software SEBRAN ABC como Recurso Pote...</td>\n",
       "    </tr>\n",
       "    <tr>\n",
       "      <th>1</th>\n",
       "      <td>Paul Symon Ribeiro Rocha, Carlos Vieira Ramos,...</td>\n",
       "      <td>BOmBZHMB9RWPyMKDEM_y</td>\n",
       "      <td>3.777315</td>\n",
       "      <td>A Utilização de Softwares no Ensino de Matem...</td>\n",
       "      <td>A Utilização de Softwares no Ensino de Matemát...</td>\n",
       "    </tr>\n",
       "    <tr>\n",
       "      <th>2</th>\n",
       "      <td>Eduarda Queiroz, Rafaela Moura, Ellen Souza</td>\n",
       "      <td>AOmBZHMB9RWPyMKDEM_y</td>\n",
       "      <td>1.484964</td>\n",
       "      <td>IV Congresso sobre Tecnologias na Educação (Ct...</td>\n",
       "      <td>Como a Realidade Aumentada tem Auxiliado no Pr...</td>\n",
       "    </tr>\n",
       "    <tr>\n",
       "      <th>3</th>\n",
       "      <td>Amanda Maria D. de Oliveira, Adriana Virgínia ...</td>\n",
       "      <td>RemBZHMB9RWPyMKDEM_z</td>\n",
       "      <td>1.479431</td>\n",
       "      <td>Software Educativo Encantando Cordel Amanda Ma...</td>\n",
       "      <td>Software Educativo Encantando Cordel</td>\n",
       "    </tr>\n",
       "    <tr>\n",
       "      <th>4</th>\n",
       "      <td>Ariane N. Rodrigues, Arianne Sarmento Torcate,...</td>\n",
       "      <td>HOmBZHMB9RWPyMKDEM_y</td>\n",
       "      <td>1.433400</td>\n",
       "      <td>A Relação entre a Ludicidade e a Cognição e...</td>\n",
       "      <td>A Relação entre a Ludicidade e a Cognição em u...</td>\n",
       "    </tr>\n",
       "    <tr>\n",
       "      <th>5</th>\n",
       "      <td>Raquel S. Freire, Mércia V. Campos  Figueiredo...</td>\n",
       "      <td>SOmBZHMB9RWPyMKDEM_z</td>\n",
       "      <td>1.414263</td>\n",
       "      <td>Recurso Educacional Digital (RED) para Trabal...</td>\n",
       "      <td>Recurso Educacional Digital (RED) para Trabalh...</td>\n",
       "    </tr>\n",
       "    <tr>\n",
       "      <th>6</th>\n",
       "      <td>Ana Carolina Candido de Melo, Ellen Polliana R...</td>\n",
       "      <td>HemBZHMB9RWPyMKDEM_y</td>\n",
       "      <td>1.380582</td>\n",
       "      <td>A Tecnologia Assistiva e a Inclusão de Educan...</td>\n",
       "      <td>A Tecnologia Assistiva e a Inclusão de Educand...</td>\n",
       "    </tr>\n",
       "    <tr>\n",
       "      <th>7</th>\n",
       "      <td>Elvis Medeiros de Melo, Dennys Leite Maia</td>\n",
       "      <td>DemBZHMB9RWPyMKDEM_y</td>\n",
       "      <td>1.295870</td>\n",
       "      <td>O Uso de Dispositivos Móveis para o Tratamen...</td>\n",
       "      <td>O Uso de Dispositivos Móveis para o Tratamento...</td>\n",
       "    </tr>\n",
       "    <tr>\n",
       "      <th>8</th>\n",
       "      <td>Kátia Carla S. Silva, Mariana Boulitreau S. C....</td>\n",
       "      <td>NemBZHMB9RWPyMKDEM_z</td>\n",
       "      <td>1.252132</td>\n",
       "      <td>Gamificação como Tecnologia Educacional Auxili...</td>\n",
       "      <td>Gamificação como Tecnologia Educacional Auxili...</td>\n",
       "    </tr>\n",
       "    <tr>\n",
       "      <th>9</th>\n",
       "      <td>Elvis Medeiros de Melo, Dennys Leite Maia</td>\n",
       "      <td>DOmBZHMB9RWPyMKDEM_y</td>\n",
       "      <td>1.215152</td>\n",
       "      <td>O Uso do Smartphone por Estudantes de Pós-Gra...</td>\n",
       "      <td>O Uso do Smartphone por Estudantes de Pós-Grad...</td>\n",
       "    </tr>\n",
       "  </tbody>\n",
       "</table>\n",
       "</div>"
      ],
      "text/plain": [
       "                                               autor                    id  \\\n",
       "0  Sonia Azevedo de Medeiros, Taciana Pontual Fal...  H-mBZHMB9RWPyMKDEM_y   \n",
       "1  Paul Symon Ribeiro Rocha, Carlos Vieira Ramos,...  BOmBZHMB9RWPyMKDEM_y   \n",
       "2        Eduarda Queiroz, Rafaela Moura, Ellen Souza  AOmBZHMB9RWPyMKDEM_y   \n",
       "3  Amanda Maria D. de Oliveira, Adriana Virgínia ...  RemBZHMB9RWPyMKDEM_z   \n",
       "4  Ariane N. Rodrigues, Arianne Sarmento Torcate,...  HOmBZHMB9RWPyMKDEM_y   \n",
       "5  Raquel S. Freire, Mércia V. Campos  Figueiredo...  SOmBZHMB9RWPyMKDEM_z   \n",
       "6  Ana Carolina Candido de Melo, Ellen Polliana R...  HemBZHMB9RWPyMKDEM_y   \n",
       "7          Elvis Medeiros de Melo, Dennys Leite Maia  DemBZHMB9RWPyMKDEM_y   \n",
       "8  Kátia Carla S. Silva, Mariana Boulitreau S. C....  NemBZHMB9RWPyMKDEM_z   \n",
       "9          Elvis Medeiros de Melo, Dennys Leite Maia  DOmBZHMB9RWPyMKDEM_y   \n",
       "\n",
       "      score                                              texto  \\\n",
       "0  7.665312  O Uso do Software SEBRAN ABC como Recurso Pote...   \n",
       "1  3.777315    A Utilização de Softwares no Ensino de Matem...   \n",
       "2  1.484964  IV Congresso sobre Tecnologias na Educação (Ct...   \n",
       "3  1.479431  Software Educativo Encantando Cordel Amanda Ma...   \n",
       "4  1.433400     A Relação entre a Ludicidade e a Cognição e...   \n",
       "5  1.414263   Recurso Educacional Digital (RED) para Trabal...   \n",
       "6  1.380582   A Tecnologia Assistiva e a Inclusão de Educan...   \n",
       "7  1.295870    O Uso de Dispositivos Móveis para o Tratamen...   \n",
       "8  1.252132  Gamificação como Tecnologia Educacional Auxili...   \n",
       "9  1.215152   O Uso do Smartphone por Estudantes de Pós-Gra...   \n",
       "\n",
       "                                              titulo  \n",
       "0  O Uso do Software SEBRAN ABC como Recurso Pote...  \n",
       "1  A Utilização de Softwares no Ensino de Matemát...  \n",
       "2  Como a Realidade Aumentada tem Auxiliado no Pr...  \n",
       "3               Software Educativo Encantando Cordel  \n",
       "4  A Relação entre a Ludicidade e a Cognição em u...  \n",
       "5  Recurso Educacional Digital (RED) para Trabalh...  \n",
       "6  A Tecnologia Assistiva e a Inclusão de Educand...  \n",
       "7  O Uso de Dispositivos Móveis para o Tratamento...  \n",
       "8  Gamificação como Tecnologia Educacional Auxili...  \n",
       "9  O Uso do Smartphone por Estudantes de Pós-Grad...  "
      ]
     },
     "metadata": {},
     "output_type": "display_data"
    }
   ],
   "source": [
    "res = es.search(q=\"texto:software sebran\", index=\"artigos-index\", size=10)\n",
    "eprint(res)"
   ]
  }
 ],
 "metadata": {
  "kernelspec": {
   "display_name": "Python 3",
   "language": "python",
   "name": "python3"
  },
  "language_info": {
   "codemirror_mode": {
    "name": "ipython",
    "version": 3
   },
   "file_extension": ".py",
   "mimetype": "text/x-python",
   "name": "python",
   "nbconvert_exporter": "python",
   "pygments_lexer": "ipython3",
   "version": "3.7.6"
  }
 },
 "nbformat": 4,
 "nbformat_minor": 4
}
