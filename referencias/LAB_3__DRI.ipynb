{
 "cells": [
  {
   "cell_type": "markdown",
   "metadata": {
    "Collapsed": "false",
    "colab_type": "text",
    "id": "3zOFpKE8H6V7"
   },
   "source": [
    "# Processo de Recuperação e Ranqueamento\n"
   ]
  },
  {
   "cell_type": "markdown",
   "metadata": {
    "Collapsed": "false",
    "colab_type": "text",
    "id": "eYSzgt10S2ZJ"
   },
   "source": [
    "## F1. Coleta e Indexação dos Documentos"
   ]
  },
  {
   "cell_type": "markdown",
   "metadata": {
    "Collapsed": "false",
    "colab_type": "text",
    "id": "uDzTus3FZhDa"
   },
   "source": [
    "### Coleta"
   ]
  },
  {
   "cell_type": "code",
   "execution_count": null,
   "metadata": {
    "Collapsed": "false",
    "colab": {
     "base_uri": "https://localhost:8080/",
     "height": 564
    },
    "colab_type": "code",
    "id": "aVSAuBb9-cw3",
    "outputId": "85c1871c-05d2-482e-e288-6ba02a0f9ea3"
   },
   "outputs": [
    {
     "data": {
      "text/html": [
       "<div>\n",
       "<style scoped>\n",
       "    .dataframe tbody tr th:only-of-type {\n",
       "        vertical-align: middle;\n",
       "    }\n",
       "\n",
       "    .dataframe tbody tr th {\n",
       "        vertical-align: top;\n",
       "    }\n",
       "\n",
       "    .dataframe thead th {\n",
       "        text-align: right;\n",
       "    }\n",
       "</style>\n",
       "<table border=\"1\" class=\"dataframe\">\n",
       "  <thead>\n",
       "    <tr style=\"text-align: right;\">\n",
       "      <th></th>\n",
       "      <th>id</th>\n",
       "      <th>uri</th>\n",
       "      <th>siglaTipo</th>\n",
       "      <th>numero</th>\n",
       "      <th>ano</th>\n",
       "      <th>codTipo</th>\n",
       "      <th>descricaoTipo</th>\n",
       "      <th>ementa</th>\n",
       "      <th>ementaDetalhada</th>\n",
       "      <th>keywords</th>\n",
       "      <th>dataApresentacao</th>\n",
       "      <th>uriOrgaoNumerador</th>\n",
       "      <th>uriPropAnterior</th>\n",
       "      <th>uriPropPrincipal</th>\n",
       "      <th>uriPropPosterior</th>\n",
       "      <th>urlInteiroTeor</th>\n",
       "      <th>urnFinal</th>\n",
       "      <th>ultimoStatus_dataHora</th>\n",
       "      <th>ultimoStatus_sequencia</th>\n",
       "      <th>ultimoStatus_uriRelator</th>\n",
       "      <th>ultimoStatus_idOrgao</th>\n",
       "      <th>ultimoStatus_siglaOrgao</th>\n",
       "      <th>ultimoStatus_uriOrgao</th>\n",
       "      <th>ultimoStatus_regime</th>\n",
       "      <th>ultimoStatus_descricaoTramitacao</th>\n",
       "      <th>ultimoStatus_idTipoTramitacao</th>\n",
       "      <th>ultimoStatus_descricaoSituacao</th>\n",
       "      <th>ultimoStatus_idSituacao</th>\n",
       "      <th>ultimoStatus_despacho</th>\n",
       "      <th>ultimoStatus_url</th>\n",
       "    </tr>\n",
       "  </thead>\n",
       "  <tbody>\n",
       "    <tr>\n",
       "      <th>0</th>\n",
       "      <td>2077498</td>\n",
       "      <td>https://dadosabertos.camara.leg.br/api/v2/prop...</td>\n",
       "      <td>PL</td>\n",
       "      <td>1600</td>\n",
       "      <td>2020</td>\n",
       "      <td>139</td>\n",
       "      <td>Projeto de Lei</td>\n",
       "      <td>Altera a Lei nº 8.069, de 13 de julho de 1990,...</td>\n",
       "      <td>NaN</td>\n",
       "      <td>Alteração, Estatuto da Criança e do Adolescent...</td>\n",
       "      <td>2016-02-18T12:56:57</td>\n",
       "      <td>https://dadosabertos.camara.leg.br/api/v2/orga...</td>\n",
       "      <td>NaN</td>\n",
       "      <td>NaN</td>\n",
       "      <td>http://legis.senado.leg.br/dadosabertos/materi...</td>\n",
       "      <td>http://www.camara.gov.br/proposicoesWeb/prop_m...</td>\n",
       "      <td>NaN</td>\n",
       "      <td>2020-04-06T18:44:00</td>\n",
       "      <td>60</td>\n",
       "      <td>https://dadosabertos.camara.leg.br/api/v2/depu...</td>\n",
       "      <td>100229.0</td>\n",
       "      <td>SEPRO</td>\n",
       "      <td>https://dadosabertos.camara.leg.br/api/v2/orga...</td>\n",
       "      <td>Ordinária (Art. 151, III, RICD)</td>\n",
       "      <td>Apresentação de Proposição</td>\n",
       "      <td>100</td>\n",
       "      <td>Aguardando Recebimento</td>\n",
       "      <td>917.0</td>\n",
       "      <td>Apresentação da Emenda/Substitutivo do Senado ...</td>\n",
       "      <td>http://www.camara.gov.br/proposicoesWeb/prop_m...</td>\n",
       "    </tr>\n",
       "    <tr>\n",
       "      <th>1</th>\n",
       "      <td>2116186</td>\n",
       "      <td>https://dadosabertos.camara.leg.br/api/v2/prop...</td>\n",
       "      <td>PL</td>\n",
       "      <td>1599</td>\n",
       "      <td>2020</td>\n",
       "      <td>139</td>\n",
       "      <td>Projeto de Lei</td>\n",
       "      <td>Institui a Semana Nacional de Prevenção e Comb...</td>\n",
       "      <td>NaN</td>\n",
       "      <td>Criação, Semana Nacional de Prevenção e Combat...</td>\n",
       "      <td>2016-11-07T18:01:00</td>\n",
       "      <td>https://dadosabertos.camara.leg.br/api/v2/orga...</td>\n",
       "      <td>NaN</td>\n",
       "      <td>NaN</td>\n",
       "      <td>http://legis.senado.leg.br/dadosabertos/materi...</td>\n",
       "      <td>http://www.camara.gov.br/proposicoesWeb/prop_m...</td>\n",
       "      <td>NaN</td>\n",
       "      <td>2020-04-06T18:17:00</td>\n",
       "      <td>64</td>\n",
       "      <td>https://dadosabertos.camara.leg.br/api/v2/depu...</td>\n",
       "      <td>100229.0</td>\n",
       "      <td>SEPRO</td>\n",
       "      <td>https://dadosabertos.camara.leg.br/api/v2/orga...</td>\n",
       "      <td>Ordinária (Art. 151, III, RICD)</td>\n",
       "      <td>Apresentação de Proposição</td>\n",
       "      <td>100</td>\n",
       "      <td>Aguardando Recebimento</td>\n",
       "      <td>917.0</td>\n",
       "      <td>Apresentação da Emenda/Substitutivo do Senado ...</td>\n",
       "      <td>http://www.camara.gov.br/proposicoesWeb/prop_m...</td>\n",
       "    </tr>\n",
       "    <tr>\n",
       "      <th>2</th>\n",
       "      <td>2236217</td>\n",
       "      <td>https://dadosabertos.camara.leg.br/api/v2/prop...</td>\n",
       "      <td>SUG</td>\n",
       "      <td>1</td>\n",
       "      <td>2020</td>\n",
       "      <td>285</td>\n",
       "      <td>Sugestão</td>\n",
       "      <td>Sugere estudo visando verificar a atuação do M...</td>\n",
       "      <td>NaN</td>\n",
       "      <td>NaN</td>\n",
       "      <td>2020-01-03T11:09:00</td>\n",
       "      <td>https://dadosabertos.camara.leg.br/api/v2/orga...</td>\n",
       "      <td>NaN</td>\n",
       "      <td>NaN</td>\n",
       "      <td>NaN</td>\n",
       "      <td>http://www.camara.gov.br/proposicoesWeb/prop_m...</td>\n",
       "      <td>NaN</td>\n",
       "      <td>2020-01-03T11:09:00</td>\n",
       "      <td>1</td>\n",
       "      <td>NaN</td>\n",
       "      <td>5438.0</td>\n",
       "      <td>CLP</td>\n",
       "      <td>https://dadosabertos.camara.leg.br/api/v2/orga...</td>\n",
       "      <td>Ordinária (Art. 151, III, RICD)</td>\n",
       "      <td>Apresentação de Proposição</td>\n",
       "      <td>100</td>\n",
       "      <td>Aguardando Designação de Relator</td>\n",
       "      <td>907.0</td>\n",
       "      <td>Apresentação da Sugestão n. 1/2020, pelo Socie...</td>\n",
       "      <td>http://www.camara.gov.br/proposicoesWeb/prop_m...</td>\n",
       "    </tr>\n",
       "    <tr>\n",
       "      <th>3</th>\n",
       "      <td>2236218</td>\n",
       "      <td>https://dadosabertos.camara.leg.br/api/v2/prop...</td>\n",
       "      <td>SUG</td>\n",
       "      <td>2</td>\n",
       "      <td>2020</td>\n",
       "      <td>285</td>\n",
       "      <td>Sugestão</td>\n",
       "      <td>Sugere audiência pública para debater assuntos...</td>\n",
       "      <td>NaN</td>\n",
       "      <td>NaN</td>\n",
       "      <td>2020-01-03T11:24:00</td>\n",
       "      <td>https://dadosabertos.camara.leg.br/api/v2/orga...</td>\n",
       "      <td>NaN</td>\n",
       "      <td>NaN</td>\n",
       "      <td>NaN</td>\n",
       "      <td>http://www.camara.gov.br/proposicoesWeb/prop_m...</td>\n",
       "      <td>NaN</td>\n",
       "      <td>2020-01-03T11:24:00</td>\n",
       "      <td>1</td>\n",
       "      <td>NaN</td>\n",
       "      <td>5438.0</td>\n",
       "      <td>CLP</td>\n",
       "      <td>https://dadosabertos.camara.leg.br/api/v2/orga...</td>\n",
       "      <td>Ordinária (Art. 151, III, RICD)</td>\n",
       "      <td>Apresentação de Proposição</td>\n",
       "      <td>100</td>\n",
       "      <td>Aguardando Designação de Relator</td>\n",
       "      <td>907.0</td>\n",
       "      <td>Apresentação da Sugestão n. 2/2020, pela Socie...</td>\n",
       "      <td>http://www.camara.gov.br/proposicoesWeb/prop_m...</td>\n",
       "    </tr>\n",
       "    <tr>\n",
       "      <th>4</th>\n",
       "      <td>2236222</td>\n",
       "      <td>https://dadosabertos.camara.leg.br/api/v2/prop...</td>\n",
       "      <td>RIC</td>\n",
       "      <td>1</td>\n",
       "      <td>2020</td>\n",
       "      <td>148</td>\n",
       "      <td>Requerimento de Informação</td>\n",
       "      <td>Requer informações detalhadas ao Ministro da C...</td>\n",
       "      <td>NaN</td>\n",
       "      <td>NaN</td>\n",
       "      <td>2020-01-03T14:50:13</td>\n",
       "      <td>https://dadosabertos.camara.leg.br/api/v2/orga...</td>\n",
       "      <td>NaN</td>\n",
       "      <td>NaN</td>\n",
       "      <td>NaN</td>\n",
       "      <td>http://www.camara.gov.br/proposicoesWeb/prop_m...</td>\n",
       "      <td>NaN</td>\n",
       "      <td>2020-03-18T00:00:00</td>\n",
       "      <td>22</td>\n",
       "      <td>https://dadosabertos.camara.leg.br/api/v2/depu...</td>\n",
       "      <td>5470.0</td>\n",
       "      <td>1SECM</td>\n",
       "      <td>https://dadosabertos.camara.leg.br/api/v2/orga...</td>\n",
       "      <td>NaN</td>\n",
       "      <td>Providência Interna - Comunicação de resposta ...</td>\n",
       "      <td>1056</td>\n",
       "      <td>Aguardando Remessa ao Arquivo</td>\n",
       "      <td>931.0</td>\n",
       "      <td>Encaminhamento de resposta por meio do sistema...</td>\n",
       "      <td>NaN</td>\n",
       "    </tr>\n",
       "  </tbody>\n",
       "</table>\n",
       "</div>"
      ],
      "text/plain": [
       "        id  ...                                   ultimoStatus_url\n",
       "0  2077498  ...  http://www.camara.gov.br/proposicoesWeb/prop_m...\n",
       "1  2116186  ...  http://www.camara.gov.br/proposicoesWeb/prop_m...\n",
       "2  2236217  ...  http://www.camara.gov.br/proposicoesWeb/prop_m...\n",
       "3  2236218  ...  http://www.camara.gov.br/proposicoesWeb/prop_m...\n",
       "4  2236222  ...                                                NaN\n",
       "\n",
       "[5 rows x 30 columns]"
      ]
     },
     "execution_count": 1,
     "metadata": {
      "tags": []
     },
     "output_type": "execute_result"
    }
   ],
   "source": [
    "#baixar dados\n",
    "!wget https://dadosabertos.camara.leg.br/arquivos/proposicoes/csv/proposicoes-2020.csv -O proposicoes-2020.csv -q \n",
    "\n",
    "# Ler documentos com Pandas\n",
    "import pandas as pd\n",
    "\n",
    "proposicoes = pd.read_csv(\"proposicoes-2020.csv\", sep=\";\",encoding='utf-8', error_bad_lines=False)\n",
    "proposicoes.head()"
   ]
  },
  {
   "cell_type": "markdown",
   "metadata": {
    "Collapsed": "false",
    "colab_type": "text",
    "id": "lfoUXL2nul1L"
   },
   "source": [
    "### Servidor ES"
   ]
  },
  {
   "cell_type": "code",
   "execution_count": null,
   "metadata": {
    "Collapsed": "false",
    "colab": {
     "base_uri": "https://localhost:8080/",
     "height": 119
    },
    "colab_type": "code",
    "id": "upLeYrSOfIXE",
    "outputId": "4a85c6a8-55a2-4eff-fcaf-06a69aed8a3c"
   },
   "outputs": [
    {
     "name": "stdout",
     "output_type": "stream",
     "text": [
      "\n",
      "WARNING: apt does not have a stable CLI interface. Use with caution in scripts.\n",
      "\n",
      "elasticsearch-7.8.0 100%[===================>] 304.33M  76.1MB/s    in 4.4s    \n",
      "\u001b[K     |████████████████████████████████| 194kB 2.8MB/s \n",
      "\u001b[K     |████████████████████████████████| 61kB 2.5MB/s \n",
      "\u001b[?25h"
     ]
    }
   ],
   "source": [
    "# Instalar servidor ES\n",
    "\n",
    "#Instalar Java\n",
    "!apt install default-jdk > /dev/null\n",
    "\n",
    "#Donwload ES\n",
    "!wget https://artifacts.elastic.co/downloads/elasticsearch/elasticsearch-7.8.0-linux-x86_64.tar.gz -q --show-progress\n",
    "\n",
    "#Descompacta\n",
    "!tar -xzf elasticsearch-7.8.0-linux-x86_64.tar.gz\n",
    "\n",
    "#Atribui permissão ao usuario \"daemon\"\n",
    "!chown -R daemon:daemon elasticsearch-7.8.0\n",
    "\n",
    "# Iniciar o servidor\n",
    "import os\n",
    "from subprocess import Popen, PIPE, STDOUT\n",
    "es_server = Popen(['elasticsearch-7.8.0/bin/elasticsearch'],stdout=PIPE, stderr=STDOUT,preexec_fn=lambda: os.setuid(1))  \n",
    "# as daemon)\n",
    "\n",
    "# Instalar module python\n",
    "!pip install elasticsearch -q\n",
    "!pip install elasticsearch-dsl -q\n",
    "\n",
    "import time\n",
    "time.sleep(5)"
   ]
  },
  {
   "cell_type": "code",
   "execution_count": null,
   "metadata": {
    "Collapsed": "false",
    "colab": {
     "base_uri": "https://localhost:8080/",
     "height": 34
    },
    "colab_type": "code",
    "id": "C61YkhQv9lEj",
    "outputId": "53c18b69-de1e-4a35-c15d-1d22f42afdc3"
   },
   "outputs": [
    {
     "name": "stdout",
     "output_type": "stream",
     "text": [
      "ElasticSearch ONLINE !\n"
     ]
    }
   ],
   "source": [
    "from elasticsearch import Elasticsearch\n",
    "\n",
    "es = Elasticsearch()\n",
    "if es.ping():\n",
    "  print(\"ElasticSearch ONLINE !\")"
   ]
  },
  {
   "cell_type": "markdown",
   "metadata": {
    "Collapsed": "false",
    "colab_type": "text",
    "id": "okZZXGxQvL71"
   },
   "source": [
    "### Indexação no ES"
   ]
  },
  {
   "cell_type": "markdown",
   "metadata": {
    "Collapsed": "false",
    "colab_type": "text",
    "id": "AdiXw3daYjvE"
   },
   "source": [
    "#### Criar Índice"
   ]
  },
  {
   "cell_type": "code",
   "execution_count": null,
   "metadata": {
    "Collapsed": "false",
    "colab": {
     "base_uri": "https://localhost:8080/",
     "height": 238
    },
    "colab_type": "code",
    "id": "qJdRjrSGKT-v",
    "outputId": "62b77d9b-0f66-46c3-9795-eb803177e6d1"
   },
   "outputs": [
    {
     "data": {
      "text/plain": [
       "{'politica-index': {'aliases': {},\n",
       "  'mappings': {},\n",
       "  'settings': {'index': {'creation_date': '1594562573949',\n",
       "    'number_of_replicas': '0',\n",
       "    'number_of_shards': '1',\n",
       "    'provided_name': 'politica-index',\n",
       "    'similarity': {'minha_similarity': {'after_effect': 'l',\n",
       "      'basic_model': 'g',\n",
       "      'normalization': 'h2',\n",
       "      'normalization.h2': {'c': '3.0'},\n",
       "      'type': 'DFR'}},\n",
       "    'uuid': 'CEOAYj4GTJSLgEFme1SQsw',\n",
       "    'version': {'created': '7080099'}}}}}"
      ]
     },
     "execution_count": 4,
     "metadata": {
      "tags": []
     },
     "output_type": "execute_result"
    }
   ],
   "source": [
    "# Utilizando Elasticsearch-dsl\n",
    "from elasticsearch_dsl import Index\n",
    "from elasticsearch_dsl.connections import connections\n",
    "\n",
    "# Define a default Elasticsearch client\n",
    "connections.create_connection()\n",
    "\n",
    "index_name = 'politica-index'\n",
    "politica = Index(index_name)\n",
    "\n",
    "\n",
    "politica.settings(\n",
    "    number_of_shards=1,\n",
    "    number_of_replicas=0,\n",
    "    similarity = {\n",
    "              \"minha_similarity\" : {\n",
    "                \"type\" : \"DFR\",\n",
    "                \"basic_model\" : \"g\",\n",
    "                \"after_effect\" : \"l\",\n",
    "                \"normalization\" : \"h2\",\n",
    "                \"normalization.h2.c\" : \"3.0\"\n",
    "              }\n",
    "            }\n",
    ")\n",
    "\n",
    "if not politica.exists():\n",
    "  politica.create()\n",
    "else:\n",
    "  politica.delete()\n",
    "  politica.create()\n",
    "\n",
    "\n",
    "politica.get()"
   ]
  },
  {
   "cell_type": "markdown",
   "metadata": {
    "Collapsed": "false",
    "colab_type": "text",
    "id": "Iclr-RVHR_F6"
   },
   "source": [
    "#### Análise dos documentos"
   ]
  },
  {
   "cell_type": "code",
   "execution_count": null,
   "metadata": {
    "Collapsed": "false",
    "colab": {},
    "colab_type": "code",
    "id": "d4upcvnCXHaE"
   },
   "outputs": [],
   "source": [
    "# Três passos da análise\n",
    "from elasticsearch_dsl.analysis import analyzer, char_filter, tokenizer, token_filter\n",
    "\n",
    "# ANALISADOR em PORTUGUES BRASIL\n",
    "\n",
    "#Char filter\n",
    "char_filter_ptbr = char_filter('html_strip')\n",
    "\n",
    "#Tokenizador\n",
    "tokenizador_ptbr = tokenizer('standard')\n",
    "\n",
    "#Token Filter\n",
    "pt_stop_filter = token_filter('brazilian_stop', type='stop', stopwords='_brazilian_')\n",
    "pt_stem_filter = token_filter('brazilian_stemmer', type='stemmer', language='brazilian')\n",
    "\n",
    "#Analisador\n",
    "pt_analyzer = analyzer(\n",
    "    'pt_analyzer',\n",
    "    tokenizer = tokenizador_ptbr,\n",
    "    filter = [\"lowercase\", pt_stop_filter, pt_stem_filter],\n",
    "    char_filter = [char_filter_ptbr]\n",
    ")"
   ]
  },
  {
   "cell_type": "markdown",
   "metadata": {
    "Collapsed": "false",
    "colab_type": "text",
    "id": "amx0J-C58hCF"
   },
   "source": [
    "#### Mapeamento"
   ]
  },
  {
   "cell_type": "markdown",
   "metadata": {
    "Collapsed": "false",
    "colab_type": "text",
    "id": "6MyUAj2CdPPN"
   },
   "source": [
    "\n",
    "\n",
    "https://www.elastic.co/guide/en/elasticsearch/reference/current/mapping.html"
   ]
  },
  {
   "cell_type": "code",
   "execution_count": null,
   "metadata": {
    "Collapsed": "false",
    "colab": {
     "base_uri": "https://localhost:8080/",
     "height": 119
    },
    "colab_type": "code",
    "id": "83z0-dZfWDul",
    "outputId": "5ed26568-620b-45fd-c7e1-eb7d3b9d6a34"
   },
   "outputs": [
    {
     "data": {
      "text/plain": [
       "{'politica-index': {'mappings': {'properties': {'data': {'type': 'date'},\n",
       "    'ementa': {'analyzer': 'pt_analyzer',\n",
       "     'similarity': 'BM25',\n",
       "     'type': 'text'},\n",
       "    'tipo': {'type': 'keyword'},\n",
       "    'topicos': {'similarity': 'minha_similarity', 'type': 'text'}}}}}"
      ]
     },
     "execution_count": 6,
     "metadata": {
      "tags": []
     },
     "output_type": "execute_result"
    }
   ],
   "source": [
    "# Criar a entidade\n",
    "from elasticsearch_dsl import Document, Text, Date, Keyword\n",
    "\n",
    "class Projeto(Document):\n",
    "  ementa = Text(analyzer = pt_analyzer, similarity='BM25')\n",
    "  topicos = Text(similarity='minha_similarity')\n",
    "  data = Date()  \n",
    "  tipo = Keyword()\n",
    "\n",
    "# Mapear no index\n",
    "politica.document(Projeto)\n",
    "politica.close()\n",
    "Projeto.init()\n",
    "politica.open()\n",
    "\n",
    "#Visualizar Mappeamento\n",
    "politica.get_mapping()"
   ]
  },
  {
   "cell_type": "markdown",
   "metadata": {
    "Collapsed": "false",
    "colab_type": "text",
    "id": "8qjA3LPBE49t"
   },
   "source": [
    "#### Carregar documentos"
   ]
  },
  {
   "cell_type": "code",
   "execution_count": null,
   "metadata": {
    "Collapsed": "false",
    "colab": {
     "base_uri": "https://localhost:8080/",
     "height": 34
    },
    "colab_type": "code",
    "id": "NZpUrNbXE49w",
    "outputId": "c27a7634-a86f-48c6-f894-e4048967e1fd"
   },
   "outputs": [
    {
     "data": {
      "text/plain": [
       "(20024, [])"
      ]
     },
     "execution_count": 7,
     "metadata": {
      "tags": []
     },
     "output_type": "execute_result"
    }
   ],
   "source": [
    "#Usando Bulk\n",
    "from elasticsearch.helpers import bulk\n",
    "from random import randrange\n",
    "\n",
    "proposicoes = proposicoes.fillna('')\n",
    "\n",
    "projetos = []\n",
    "for p in proposicoes.itertuples(index=False):\n",
    "  projeto = Projeto(meta = {'id': p.id})\n",
    "\n",
    "  projeto.tipo = p.siglaTipo\n",
    "  projeto.ementa = p.ementa\n",
    "  projeto.data = p.dataApresentacao\n",
    "  projeto.topicos = p.keywords\n",
    "  projeto.clicks = randrange(10)\n",
    "\n",
    "  projetos.append(projeto)\n",
    "\n",
    "bulk(client=politica.connection, actions=(p.to_dict(include_meta=True) for p in projetos),index=politica._name)\n"
   ]
  },
  {
   "cell_type": "code",
   "execution_count": null,
   "metadata": {
    "Collapsed": "false",
    "colab": {},
    "colab_type": "code",
    "id": "iLNS6Pm0gLcA"
   },
   "outputs": [],
   "source": [
    "#Funções Uteis para imprimir\n",
    "\n",
    "import json\n",
    "import pandas as pd\n",
    "from IPython.display import display\n",
    "\n",
    "def jprint(dicionario):\n",
    "    print(json.dumps(dicionario, indent=2, ensure_ascii=False))\n",
    "\n",
    "def eprint(response):\n",
    "  results = []\n",
    "  for doc in response.hits:\n",
    "    r = doc.to_dict()\n",
    "    r['id'] = doc.meta.id\n",
    "    r['score'] = doc.meta.score\n",
    "    results.append(r)\n",
    "  display(pd.DataFrame.from_records(results))"
   ]
  },
  {
   "cell_type": "markdown",
   "metadata": {
    "Collapsed": "false",
    "colab_type": "text",
    "id": "pAqTLvBwO5jg"
   },
   "source": [
    "## F2. Recuperação e Ranqueamento"
   ]
  },
  {
   "cell_type": "markdown",
   "metadata": {
    "Collapsed": "false",
    "colab_type": "text",
    "id": "2vSlxOMwPYSB"
   },
   "source": [
    "### Buscas"
   ]
  },
  {
   "cell_type": "code",
   "execution_count": null,
   "metadata": {
    "Collapsed": "false",
    "colab": {},
    "colab_type": "code",
    "id": "mWSinqmAbQc8"
   },
   "outputs": [],
   "source": [
    "from elasticsearch_dsl import Search\n",
    "\n",
    "s = Search()"
   ]
  },
  {
   "cell_type": "markdown",
   "metadata": {
    "Collapsed": "false",
    "colab_type": "text",
    "id": "xHmrZG1JVw2B"
   },
   "source": [
    "#### Buscas Básicas"
   ]
  },
  {
   "cell_type": "markdown",
   "metadata": {
    "Collapsed": "false",
    "colab_type": "text",
    "id": "jWmZOSRzVKJD"
   },
   "source": [
    "\n",
    "\n",
    "##### 1. Consulta full-text\n",
    "\n",
    "\n"
   ]
  },
  {
   "cell_type": "markdown",
   "metadata": {
    "Collapsed": "false",
    "colab_type": "text",
    "id": "t0nMqWokGbb5"
   },
   "source": [
    "![image.png](data:image/png;base64,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)"
   ]
  },
  {
   "cell_type": "code",
   "execution_count": null,
   "metadata": {
    "Collapsed": "false",
    "colab": {
     "base_uri": "https://localhost:8080/",
     "height": 136
    },
    "colab_type": "code",
    "id": "sDmEh5zjYjU9",
    "outputId": "7a3c0e35-3306-4db2-e0d7-a7f400a90913"
   },
   "outputs": [
    {
     "name": "stdout",
     "output_type": "stream",
     "text": [
      "{\n",
      "  \"query\": {\n",
      "    \"match\": {\n",
      "      \"ementa\": \"saneamento básico\"\n",
      "    }\n",
      "  }\n",
      "}\n"
     ]
    }
   ],
   "source": [
    "s = Search(index=\"politica-*\")\n",
    "s = s.query(\"match\",ementa=\"saneamento básico\")\n",
    "\n",
    "jprint(s.to_dict())"
   ]
  },
  {
   "cell_type": "code",
   "execution_count": null,
   "metadata": {
    "Collapsed": "false",
    "colab": {},
    "colab_type": "code",
    "id": "tFjFQugTHSG0"
   },
   "outputs": [],
   "source": [
    "response = s.execute()\n",
    "eprint(response)"
   ]
  },
  {
   "cell_type": "code",
   "execution_count": null,
   "metadata": {
    "Collapsed": "false",
    "colab": {},
    "colab_type": "code",
    "id": "AJTIFC95Y3Zc"
   },
   "outputs": [],
   "source": [
    "s = Search(index=\"politica-*\")\n",
    "s = s.query(\"match\",ementa=\"saneamento básico\")\n",
    "s = s.extra(explain=True)\n",
    "\n",
    "jprint(s.execute().to_dict())"
   ]
  },
  {
   "cell_type": "markdown",
   "metadata": {
    "Collapsed": "false",
    "colab_type": "text",
    "id": "cwnTI2i5vTiW"
   },
   "source": [
    "Consulta em múltiplos campos"
   ]
  },
  {
   "cell_type": "markdown",
   "metadata": {
    "Collapsed": "false",
    "colab_type": "text",
    "id": "Q51YSu3aLEza"
   },
   "source": [
    "![image.png](data:image/png;base64,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)"
   ]
  },
  {
   "cell_type": "code",
   "execution_count": null,
   "metadata": {
    "Collapsed": "false",
    "colab": {},
    "colab_type": "code",
    "id": "wljAiF1YvSmr"
   },
   "outputs": [],
   "source": []
  },
  {
   "cell_type": "markdown",
   "metadata": {
    "Collapsed": "false",
    "colab_type": "text",
    "id": "et5mm_jTwvkX"
   },
   "source": [
    "Consulta com frases"
   ]
  },
  {
   "cell_type": "markdown",
   "metadata": {
    "Collapsed": "false",
    "colab_type": "text",
    "id": "eB87-TxaLQVJ"
   },
   "source": [
    "![image.png](data:image/png;base64,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)"
   ]
  },
  {
   "cell_type": "code",
   "execution_count": null,
   "metadata": {
    "Collapsed": "false",
    "colab": {},
    "colab_type": "code",
    "id": "SV-cPX3swv0W"
   },
   "outputs": [],
   "source": []
  },
  {
   "cell_type": "markdown",
   "metadata": {
    "Collapsed": "false",
    "colab_type": "text",
    "id": "MLnj_pxWYa4h"
   },
   "source": [
    "\n",
    "\n",
    "\n",
    "##### 2. Consultas por múltiplos termos\n",
    "\n"
   ]
  },
  {
   "cell_type": "markdown",
   "metadata": {
    "Collapsed": "false",
    "colab_type": "text",
    "id": "spgMmYYWMYqa"
   },
   "source": [
    "![image.png](data:image/png;base64,iVBORw0KGgoAAAANSUhEUgAAAjkAAADnCAYAAAD8QEcbAAAgAElEQVR4Ae2d93sVxf7Hv3/SVbEgSAm9I1KkR5AioYuAIIJ0ECkCBlCaNOnXigVFQFEuKF5FRFRQ4VIDCV3Qh/k+7wmz2XM4SfaUJHv2vH7YZ3dnZ2envHbmPZ+Z2f2/Bx9uaNjIAxiAARiAARiAgagx8H9RSxDp4SWFARiAARiAARgQA4gcLFlY8mAABmAABmAgkgwgcgA7kmDTi6MXBwMwAAMwgMhB5CByYAAGYAAGYCCSDCByADuSYNODowcHAzAAAzCAyEHkIHJgAAZgAAZgIJIMIHIAO5Jg04OjBwcDMAADMIDIQeQgcmAABmAABmAgkgwgcgA7kmDTg6MHBwMwAAMwgMhB5CByYAAGYAAGYCCSDCByADuSYNODowcHAzAAAzCAyEHkIHJgAAZgAAZgIJIMZEbk1GlmarV+yjzYoF0kMymbewMDpy0wsz7Ya2o/1oyyoRKDARiAARjIKQbSEjm1GnU09y38r/nXxqvedl/hT6ZW8x5eJt637Ffvmt+fjh/o/ry5f8Tr5V53/u+f/IEXXiqCo3adJqbkyg27pXJ/Nt+z+OsjZnuJMfWbPp5WHmZzHhB3TNYwAAMwkJsMpC5y8jqYf629YAXK/VM/Mg8MmGPun7Ddnj/Qc4LXoDqRI6ESv9Vq3dfU6jo6xv1fG0pKw/T5f6DvdC+8VEBdsmy1uX7zttm89d20wknl2TV9DyInN1/smuaO58MdDMBAGBhIWeTcP3ptqRgZvSZGONRq289oc4lzIsedV7a/743jNtzK/CVzvejSZXP1+i3TIK+1F69k7nd+H3okL9D9QfwF8eOem84+XuRU13PTiTP3UjnCAAzAAAxkgoEURU6esRaXDSXmwbotKmz4a1rkTJ3+irXi7Pxsb4XxrCgzx6/eZlb/cs5sL75jtw2nrpqnX5wdE97DdZrYuS+bz9+yw0Nbiv42s3Z8YR6q3cjz123YOLPy6Gmz9eI/1s/Wor/N8sMnTZP23Tw/Lh4vrn/XbDxz3XQpGG39bLv7bIkW50f7/i+9Ytb/ebk0biXGvHX6uhn8cqHnx4mcwbMLjeKtoastF27b+/zhcEyFAgMwAAMwEDUGUhI5mouj+TL3zT/gNablZYwTObU6jzTx24OPlAkAd3+mLTmnTp+zIqd12y6VxtXFwb/XxF0JAwmEGe9+bma+v9eKiqnbd8aEJ7Eif5vO/WXm7frGbDp7054v2POd52/SW+8bCZtFX/1opv37U7P8x9J75PZoveaePz1/7mcHSwVJ0d9Gwkn3vP797zZ8F79RhWusH4mmV3b+x4ub/Dk/TuQobmt+K7KCSccSTXUatPT8Of/sqeRgAAZgAAaiwkBqIqdDQelQ1ZQdZY2kLDpaXaXNZ91xIsdNIvbvH6zftuz+uzPeMylyho8cZwXOwW+/v+c5QQtQgkGi4Il+w2PC8Ftonho33fqRtccf7ro/Sqx7k3allpqGLToaWXz8fiReFL4sMn53J3I2nrkRI4DqN21v/UkUWetOibnHEtSu9yAvLCdyJIJc+EsP/Waf2X1E2dwpd409lRsMwAAMwEBUGEhN5HQeWSpyJr7tNZz3zd5j3UotPN+Uud9dXVWrQ4GJ3x5MMMclkyLn519OWJHTvWd/Lz7JFty4lVs8AaNhoMZtu94TloalJFRk7ZGAcJuGm+Q+aMZC754OfYfaYa3CAz9by4wdaiox5tnFb3p+FEcncrT8O1GcOw8cZcNe+3txwuvuHidy8sdO9fxp+E3xKpi12HNz/tlTucEADMAADESFgdRETvMepcNVs/d4jWStTsPNA/1mlbrPv1fkBM2wTImcXvkDrcA5euy4F8egcfD7e6xRW1N48JgVBRIG2lYcOWVady8TTku//bVUcJy4ZFb9fOaeTZYehSmR5MKQhUbzczacumLdxi7fGBNPJ3K6D38hxt3FTXNsFNbLH+1LeN35cyKnQfMOnr+RC1fZe4e+ssxzc/7ZU7nBAAzAAAxEhYGURM6DjzYttdqsPn1PI1meJSdohmVK5Bz89gcrcoYMG3NPHIPGxe9PIkEiZdWxs1YgLPnmFy/cuZ8esG49n53oufnv1bFWNWkysiYv+ycaz97xpb23PJHTulvZSjV/mBpqksiRqPK7xx87keP/Tg4ihwosnhPOYQIGYCCKDKQmch5uaO6f9rEVOg90GxvTyIZB5LRt39UKnJP/i50jk4kC1FwcCRUJFhfe8AXLreCY88l+z81dc3vNoZEoiR9eckNayYqcek3a2fAUl/hJy4/UberFA5FDxeUYZA8LMAADucZAyiJHXzX2Ptw38g0jsfPA8GXlDlfd/9xqE7/VerxsgqzL+ExYcnbt3mdFzpRpc7zG3oWf7F4Wm8X7fzIaHuo7YZbRaimJlYX7Dnthy0qjpdvWsnLsrJ1fo/ku83cfssu13TPdCqwp2z6xYTkBovuSFTkK01mBNMFZViatBNPKLg2fuWe6Z2DJoXJzTLCHBRiAgVxhIGWRowyq1aKXuW/psdKhq7u/drhvyVFTq83TXiNb0eqqB4a+5vlzGZ6uyMlr3MZcu3HL6AOALsx09hINEiFu04omrbjyz3FR+BqCWvnTac+f8695N+75XQrGGLfiSte19Hv6O7vsPWPfiJuTc3cIrNWTfb37XThur5VaWtbunuX2U7Z+7N3jVm+5VVm6d8SrK+09Q+Ys8fy5MNlT+cEADMAADESFgbREjpcJj7U0tdr0NQ/Wb1PjjebW7e9bK86SZasyFhd9T0ZLyLWiqbIvBtdt2MpIzHTsP8Lo2Msj30/hmnfsbdr2HJjwWiL/lblpCO3xPkPshwM1Uboy/1ynAoMBGIABGMgFBjIjcnwNeE1n2vKV68yHH+8y+ilneXHRaqk3f71Q4eb/oF554eBOJQEDMAADMAAD4WUgciInCGxaIaUvEle0xU8QDhIufsILOmVD2cAADMBA7jGQkyIH0HMPdMqcMocBGICB3GMAkROioTZewNx7ASlzyhwGYAAGqo4BRA4ip9y5S7x4VffikbfkLQzAAAxUPQOIHEQOIgcGYAAGYAAGIskAIgewIwk2PaSq7yGRx+QxDMBA2BlA5CByEDkwAAMwAAMwEEkGEDmAHUmww967IH70gGEABmCg6hnImMh5slsfM29BoVm9ZqNp2rwDDSfiCQZgAAZgAAZgoEYZyIjIKVy60v5K4frN2/a/Ub3yn6nRRKGOq14dk8fkMQzAAAzAQNgZyIjIOfHH/6zIGTR4FOIG1Q4DMAADMAADMBAKBjIici5cvGwuX70RigSFXVUSP3o+MAADMAADMFA9DGRM5JRcuY7IQbnDAAzAAAzAAAyEhoGMiJyiS5cNIqd6VCnqn3yGARiAARiAgWAMpC1y8hq3sfNxzl24FBrlRuEHK3zyiXyCARiAARiIMgMpi5y+/YaYBQuXmeO/n7IiZ9OWdxA5mChhAAZgAAZgAAZCw0DKIufk/855y8b3fLHfPFq3aWgSFWVVStrodcEADMAADMBAMAZSFjmNmrQzQ4aNMUePHbdiZ/+B7xA5qHcYgAEYgAEYgIHQMJCyyHEq0s3JuVh8JTSJcnFjH0zpkk/kEwzAAAzAQBQZSFvkKFNYXcXLEcWXgzTBNQzAAAxkNwMZETn6GOCVazex5GCihAEYgAEYgAEYCA0DGRE5f5w8befl9Og1IDQJQ31nt/qm/Cg/GIABGICBdBnIiMhZt2Grt9Kq+PI1061HP8QOSh4GYAAGYAAGYKBGGciIyJHSGj9hqtm6/X2ze+/Xpk27J2s0UekqP+6n9wADMAADMAAD2c9AxkQOMGQ/DJQhZQgDMAADMBAlBhA5mBKxusEADMAADMBAJBlA5AB2JMGOUk+EtNCzhgEYgIHUGEDkIHIQOTAAAzAAAzAQSQYQOYAdSbDp9aTW6yHfyDcYgIEoMYDIQeQgcmAABmAABmAgkgwgcgA7kmBHqSdCWuhZwwAMwEBqDCByEDmIHBiAARiAARiIJAOIHMCucrCf7NbHzFtQaFav2WiaNu9Q5c+jx5Naj4d8I99gAAaixkDkRE69Ju3MxA3vmZELV3mN6fg3t5sJa9/2zqNQiB36DrXpzB871aarSbtu9nzw7MJQpbNw6Urvlx/XbtwyvfKfCVX8osACaaBhggEYgIHEDERO5LTpMcBsLzFm09myv6LrXFuUIBi3cotN06KvfrTp6vXcJHu+9sSlUKXzxB//syJn0OBRoYpXlFggLYkrN/KFfIEBGEDkZOlwVbaInAsXL5vLV28gcLKUMxoJGgkYgIFsZgCRUwWNz0OP5CXVqCfrX8Blk8gpuXI9qfzI5heKuNMgwAAMwEB4GMhpkaN5LWtPXDTbi++YjWdumNFL15v1J6+YKds+8Rrl17//3Sz77rh3Lninbt9pNpy6aurmtfbcH67TxMz6YK/ZfP6WHTbaUvS3mbXjC/NQ7UaeH93b89mJZuOZ62bwy4Vm/u5DRv40lLb292LToHkHM+q1Nfb6gCnzYu6r27CV2XDqilly8Jh1rwqRM2TYGHO+qMRuc+Yujnl+qi9t0aXLBpETnhc+1XLkPsoQBmAgGxmInMhp3rG3nY+z4sgpr5GWIJGw8BeQBMW24jtWYCzY850pPPCzPZbg0LHzu+ncX1YAuXPtF+//yfqt3/Rxz9/ywyetm/zP2/WNjYPCUtj+eyVe5C5xo+cv+eYXG97Wi/+Y1t36mRad8u31VcfOxtwnAab7Jr31vnUfMmeJfca0tz+z550HjrLn/rj7nxvkeMLEGd4k4TXrNsc8P8j98X7yGrex4Z27EK55QvHx5JzKGwZgAAaiyUDkRE5QUGWNkWh4Yc2/vcZ84Zc/WDe/UAgicp4aN93et/qXc15Yise6P0qsu1Y+uXg5kaNnS9A4d1lqZA3SucLR9Sbty+7ThGK5SZy5ezK9z5TI6dtviFmwcJk5/vspK3I2bXmnyuKc6TwgvGhWdJQr5QoDuclAzoocZ3lp2KKj1wAPm/+GFRLJihwNS0mAyGK09NBv3ibrkdwHzVjoPcOJnIpWQRXMWmzvm/bvT+19rbv3t+caOqvKF7VBXmujVVDamrd8IuVnnfzfOc8itOeL/ebRuk1TDqsq00vYuVnpUe6UOwzkDgM5K3LW/3nZCgc/7G17DrRuyYqcpd/+au+TcFn185l7Nll63HOcyJElybnF7zWPZ2vR33Z+j669/NE+G74/nPh7wnTeqEk7o/k9R48dt2Jn/4HYIbswxZW45E5lR1lT1jCQewzkrMjRnBdZWR6t19wTG/0mzblX5Jy96YkN94K44SQ3J2fupwfsfZpU7PyUt3ciZ+zyjRX6dcJGH/vT/B1NaC4vzLC6uzk5F4uvZF3cw5qnxCv3KmnKnDKHgdQZyFmRM3/PIStMJDocQDPf33uPyNGqJ4khJ2g0b0arsfxuwxcst+dzPtnvheXCjN8HFTktu/SxYW65cNvu/Su+4sPM1PmEidO9YSb9giET4bK6KvWXMxP5TxjkPwzAQC4zkLMip31+gSciBk5bYDQfx6228g9XOTG08uhpM+b1t+xSbwkcv8jRd27eOl06/0YWomcXv2k0r8YuEb9wO0YsBBU5gtJZjPQs/+TlqgI2UxOP/fHTxwCvXCv7+rT/GsdUvjAAAzAAA1XJQM6KHGXq6GWly7KdaNH3cHTsFzlaku6+faNrmlz8xg9/3BU57T0Bo5VQK386bd1deNpLHPkLcMDkudbP2Dcqt5Q4C1F8GP7wMnnst+S8uXZTTLxTfc4fJ09b61CPXgMyEl6q8eA+KlIYgAEYyD0GclrkCHh90K/36Mmm6eM9jH7uGS9y5EdDVE/0G240hFTZS6Kl4F0KxpiO/UcYHVfmv6Lrsz8snXA8aOaitMKp6BlVfW3dhq3eEFjx5WumW49+WZuWqs4rws+9Cpgyp8xhoGoZyHmR4wesPJHj91Mdx5r/oyE0zf3RpOP4ryZXRxwy+YzxE6aardvfN7v3fm3atHsSkVMFvxLJZHkRVtVWuuQv+QsD1ccAIsfX4IRF5Li5QbIqPT3xZUSBr4yoHKqvciCvyWsYgIFsZwCR42tANSylycVBloJXZcEPnl1otDVu2xWB4yufqsxzwqYyhwEYgIHoMYDIoRFFSMEADMAADMBAJBlA5AB2JMGmRxa9HhllSpnCAAwkywAiB5GDyIEBGIABGICBSDKAyAHsSIKdrNrHPz1EGIABGIgeA4gcRA4iBwZgAAZgAAYiyQAiB7AjCTY9suj1yChTyhQGYCBZBhA5iJycFTkP125k9CuLJctWm0mTZ+VsPiRbaeCfhgYGYCBbGEDkVKPI0Yf9Jm54z7TpUfofpyeHjLXn3YaNi1QDO3rpepuu2o81s+kqmLnInuvXGWF5MR6t29ToD+nXb96228Fvvw9N3MKSR8SDhgwGYCDbGUDkVKPIef373+2/sfTHc4Ez/Z3P7fmsD/YmbGAX7jtsgvzIM2wQbi3626arYYuONl1rjhfZ8/yxUxOmsybiP3zkOCtuvj/8s8lr3CY08aqJvOCZNGQwAANRZQCRE2KRo986vHH4z6xrgLNB5MyZu9iKnEz9bT2qFQTpovGDARjIZgYQOREROQ89kpeUGArivzI/5V3PJpHz+vI1SeVbNr/sxJ3GCgZgINcYQOSETORo3s7GM9ftJkuO/kTuzjXs4wc0r1Vns/TQb8aJik1nb5qhc5fF+JF//YtLYQx+udDM333I/tlcYa/9vdg0aN7BFB742SjsTef+ss+bsvVjey4/K4+ejvkLevv8ArPwyx/M5vO37BCUnr3k4LGYZ7r4ZHK4as26zeZ8UYndOnXpHfM8f54EPZ63oNBachA5VPpBmcEfrMBA9jGAyKlGkfPKzv1GQsT9Wfz5FZvt+fjV27xGu0Pfoeblj/bZTSJDwsOdT9n2ieevbl7rMrFy4pJZsOc7s/XiP1Z4SMz4X8YBU+ZZ9y1Ffxv94XzJN7+Yxft/sv5bd+tn1v1RYq8XHjzmCaYNp66Y1b+cs+75Y6d44cld8Vr01Y9m8uYPzeKvj9h7/M9b81uRTZf+6i53+VG6uxSM8cLx+w9yvPOzvVaUaKJwr/yBKYfjnvX5nq9seBq2cm7ss68Co8woMxiAgYoYQORUo8ipqCASXZOYKG9OzqwdX1ixMXX7Tq+Rrt+0vbXESFD4w3MiR+G16JTvXavbsJXRn9clcrZcuG3dZ3+4z4bbfcQEuwpM9zgRplVhOl9x5JQXhp6jMPzPq4rjTIgcTTB+fvxks+PDz8zV67fs1qbdk1Ue96rID8KkYocBGICByhlA5GSpyFl74pIVHMt/PGmHrDRsZYeu7lpzZOlxL4ATObrHufn3EjkbTl21117atMOGK0GjoSyJGmdB0hwcOxRVfMdoSEtL4KtD4Ciubdt3NYMGj7Kbln/74x/0eMzYSZ41qOTKdVMw5LmUwgn6PPxVXgGRR+QRDMBAVTKAyMlSkaOhJwmQVT+fSbi5+TCCx4kcv9XHD5VEzvo/L9sGf8K6d2y4svhIKOkZWuru/A+asdCbj6NrEj3j39zuXXf+wrjXx/8kljS/R5YcDX1lYn5PGNNKnGg4YAAGYKChQeRkqchZf7J0bkwQiJ3IGbt8Y0IxkozI0fNk0enYf4SZ+f5eO8dHYqdllz4Jww4Sv5rws2v3Pity5i1YklXxrom84pk0ljAAA9nKACInzCLn7sqqRHBpMq/EhZvEnMiPc8u0yHHhaq9hK8Wjqj9a+PHO3d5QU49epV+M9scj2eNX5r1mw2N1FZV3suzgH2ZgIHsYQOSEWOQ4a42+fPzs4jdNwayylUDNO/a2k4y1xFxLuAfNXGRGLlxl9FXl+InBmRI5nQeOsnN3Xlz/rnlq3HSj3zfYpeTFd2ImNFdFBZCJicf+eM2Zu8iKnHUbtmLJCfE74C8zjrOnYaGsKKuwMIDICXEF33nQc0bLsWUp0abl335wug553mw8c8O77vzMeLdsDo38D5g8t0Jri76XoyEr+Z2w9m3rVyKqbE7OLnutbc+B3rJ1FydNWB71WtV/UO+TT/dk1JIz4tnxNrwff/rVPJzkhxT9ZcAxlTkMwAAMhJcBRE6IRU7QF0cfBew+/AUjEVIdq52aPdHT6Keiem7QOIbN32P1m5uSKzes0Ll245bZvffrrE1L2PKW+IS3wqdsKJtcYwCREwGRk2vQZiq9LVp1MqvefMt89MnnZsmyVYgc3gUYgAEYiBgDiJyIFWimBADh0OODARiAARjIdgYQOYgcei4wAAMwAAMwEEkGEDmAHUmws733QfzpQcMADMBA+gwgchA5iBwYgAEYgAEYiCQDiBzAjiTY9IDS7wGRh+QhDMBAtjOAyEHkIHJgAAZgAAZgIJIMIHIAO5JgZ3vvg/jTg4YBGICB9BlA5CByEDkwAAMwAAMwEEkGEDmAHUmww9gD6tSltxk/Yaq3PVy7EXnP+wcDEWFAv4fxv99638NYD+VanBA5EXnB0gG3XpN2ZuKG9+wPPl0449/cbv9j5c7DvtfPQpWG2o81sxVLwcxF9rzp4z1CU9G8/e5H3v+3rt+8bZo0a+/FTX+TV/zb9Cj9w/qTQ8bac/0+w5/3o5ett39+97tVdFy/6ePWf6/nJsWEU9E9qVwbOG2BmfXBXi//UwnD3VMTPHboO9Tmd/7YqTafmrTrZs8Hzy5MKd+eX7HZzNv1jbe16JSfUjguT6pi32nASMtGGONWFemND7NOg5aWWf3bL/6a/zwoG/UatIx5v3d8+FmF4fqfwXH6w1Ll5SEiB5FjG1b9cHPT2ZveS+l+wFkeOGFz31r0t/2xaMMWHW0a1hwv/bGpa7TCEF8ncp59boJRheiPk/4erzwfNv8N6z79nc/tuYSD39/6Py/f86NW//X443a9nrHhvPzRvphw4v2le7746yP2ORJV6YYloVfdPI5bucU+c9FXP9r4SxQqDmtPXEopPa9+8b3Rz2sdl1UtMl2eq7xVFr1HT6403uNXb7Np7DthVqV+XfhR2uvfeyrjhV/+UGH6k2FD7/WQYWOs2EHkVJ1wSYZDRA4iB5FTTQw4kVMw5Ll7KtWqEjmySCw/fNITT8lUDsn4ReQkrtAnvfW+bUirS+Q8NW66fd4La/59D2Px5SlxIzZkqYi/lgvnVSFylG9P9x+GyKmmOjUIp4icEBVGkAKrCj9V2XN+6JG8QBVoUH8u/fH+XY85Gyw51SlyXH4F3cfna6L7EvmJFzmJ/CQKK5FbVfKY6HlyS6a3Xl4YidyDipyg+VWZv2RETqL4ludW2XN1XxA/5YUf755sWJX5T3QdkZNYmMeXRbafI3IQOYEtOU+/ONua4FWROvAbNO9g3V7atMNz0zWZwlf/cs5sL75jN5nudb+7T/uH6zSxY+Kbz9+yvc8tRX+bWTu+MA/FTcjV+cYz183sHV/axkjHdjjj3F+mx8gXbZhVIXIOfvuDOV9UYo7/fiom3v40JHNcFZYcDQ+tPHralkHngaO8eA6aucisP3nF2zRHxB9XzbnS8OTqY+dsXi499JuZv/tQab6evWni52loGETP2Xrxn9KyunDbaEjNhelEjuawqKxVPlsu3Db9X3rF8zPqtTW2HAdMmee56f66DVuZDaeumCUHj1n3sIsc5bMdDr3L9trfi43mt7i88O8rEjlqZJVmca/82lZ8xygsx7Q/nMrep2n//tTmrfJcYel90Huibe5nB2PiNvP9vR4XYqRLwZiY6+659Zu2Nwv3HbblaMO8+I9Z8s0vRu7OT/v8Ajvc495hPdeVo/OjfZA8G7lolVn3R0lpnVFijMLUvKZH6jb1nqewgtQH1t8jeUb5v/HMDZsnqove/PWC6dh/hA3PiRyxu3j/T6VsF98xehfEpIt/sgIYS064xBMiB5FjmnfsbRu8FUfKGnM1VKog3Yuu/fAFy21lMfSVZZ5747ZdrZt/XFuTUFUpKowZ735ubKX652UzdftO7z6FJ1O5/G0695etzNTo6nzBnu9i/EkM2Ur2bmOgeOp5qrzGLt9o/a75rcimQZNWFbYqLoVXXgXuT1d5x6fPXrBm58tXb8TEpzz/lblXJHJe2bnfxlcTkBWORInir8bNH65/Tk6jNl1sGSlvhsxZEuNPE5bn7jpoCg8es3kXPydH57pPlb4aOpu/F/8xhQd+tscqM/dcNWRWrJYYozkralBVdmrQnB8nchSOysKVrRpuTfCUPwknXV917Kx3n9w1aVzuapB0HpRH9+xM7JV/yu9pb5dOFlWjrHPlhz98TQhXXLVpiFENoj0vvnOPMNR9FYkcCSPl67Lvjpvp7+wyr/3nqCciuxSM9p4b5H0aNGOhUZm6+KiDoXNtw+cv98JSnPQeiw03by3RnBxN4Nd7qbSt/Om0fXdV9oqvBK/LE4lT+dG1yZs/tO+dnwv5C5pneo4VZbsOmhnv7TZrT1y0YYsl9zztg9QH8ufYf+v0dRve3E8PWEHp3iknchR/cSqGnUicsvVj75lB2XBxROQgcjx4HBTswwVFeeURVOS4+SVP9BseU9Z+C40zq6sy9j/P9uRKjNFcEufuKjVVRurtOXftH2vUNubcfy3d4+oUOUHj6kROsyd6ljZCxXdMv0lzys2D8iYeO5EjQdHnhZm2MZF4UTzUSKkMXZwkSpT38Y1lu96DPD9O5Lyy8z+em2twu4+Y4LlZ657Kt31Z+Wpyr8KXVdA9M6x7F1d/miQSFH83adkf94pEzqP1msdYRXSf8lhh+fMxyPvknuneqyBzctTY61mJRI4ES6I0SajWzWtty8lZ3PydI8VD76uLj/ZB80yi3X+fjiU0FQ+/NSdIfdB1yPP2PnWE/PGRhcZZKf0ix9UjrZ7sa++T+I+PS9BzRE642jMsOVhyAr/MQUWOM++qQRv8cqGRtSe+gtCwlCovWXvUGLpNPTm5q2fq7vEqtbVDhccAABcUSURBVOI7Rg2Dc6/qffee/c2gwaNMn6eHZOSZFVlygqZFIkf544Y4Rry6ssK4VSZy1GPvPOg5G6bKTfFQw+IXn+rl6pnOIpMork7k+FezuUa0YNZiL446VlhOULXu3t+e+0VVovDD4CaRrrhrc7y6vdzEcnw8KxI58quGXUO9EkjKg+U/llo3/RakIO+Te26mRI6GJpUmCWAXdvxe81wkiGXdkeVDFhu/oJD/ZPNMw5sSeEu//dXmh7Os+EVxkPpg0sYPbPxnf1j+qkIncuJX0ClN8Vbs+LRXdI7IQeSU+9JUBA7Xah6coCJHvSJnKnaNgnp7atBcOaoS0zVVMKt+PnPP5p/34yo1f8PrwsmmfSZFjhMeGi6Ib1j8eVKZyJFfra5RWWjYSOeq4DWUoWOVpa7JwuYPN/7YiRy/NWbkwlX2Xv/wpho9NSKab6EwnEXJX97xYYfl3A23aV5SImaTteTY8O4KSIlWWcyc1UziyaU7yPvk/GZK5LjORkVs6ZnqjLj5OOJEZav5Xi4+yeTZ/D2lc8IUjsS8hJYTOa279fPCDFIfaMhb4SSyUrm4OZGjeUfOTXsN08kC5HdL5hiRU/Ntlb+8sORgyQn8MusbLqo4/ENGmvshN/+cHAeYGjxZclzFrUmL7prGx3Vfz2cnem7uWvzeVWr+ij/eTzacZ1LkSDCqx6s81OTM8tKfrshRuOqpS1T5hxvjn+dEjv87OYlEju5zwkZWHzXuTvDEhxm2c1kRld+acxQ0bs6Skz92yj33aC6OwtMkcReeEymJWK/ofYq/P93hKg3XKG7+uUHuGfF7WXQ0mVfzuJz4btmlj01T0Dyz874kbk5eiRma0kRsxSORyEmURy5ushTqvvgFEe669p7IiftODiInXCLFX2apHCNyEDleBVsZQG7uhnpczq8mTKoySSRynB9rsi6+Yxs05+asQnM+2e+F5a7F72tK5Jw6fa7aJh7Hp7m8czcnR9eVL27i5zPTFiTMx0yIHDcx2T8Upef750kkI3LUAIoZ10ufsu2ThHEvLw/i3X/48WdbTtdulFqH4q9n8txOxi2+Y/JadQoUZ4kbpVVfs46Phxt6dF/p1nVnzaioAU/0PrmwXafD/466a/F7N5yYyNrhBHT8xyjFXKLl2C5sDVspvWPfKF0QIPcgeaYJ97pPKyhdWPochNy0JStyNOyl++KHohS247YmRU6v/IGWWX35/IMPS+fCuXSzz6zIQuQgcrxKpbKXS/MHVHGot6Yekq0I75rb/SJHFhstydRyYlWgznTsNwurotSqB4UnS8+zi980mq+hZcxq/PxxqSmRE+aJxy5/7JyWu5YWTSJ27vqthaxoE9a+bfNYK1R0rk3+nDVF/isartJ1J241FDHm9bfspwBU/v55C8mIHIXpJiCr/P2TzF38k9kfPXbcazCSuS8Vv2JacZYFSivi1JiOW7XVNqb+FTkubAkSvS8a4pKlQ0M5mtyq6xPWvWPD0pJrNfJOICh8v8gJ8j6558mSpvv1TAkGzdnyf4hQ4sxx4MpMK5mcmxNcEgDOKqOOjD7/8NySdXYYR8JZz9MKNM1DenH9u0YWKA132qGruJVmQfJM77jyyDGmFWXOiqP0JCtyFD93v+Y36bMFSqOGzeNXV/nrLt1XHZac/D6DPGY/3rnbe29dObLPnNBB5CByknrB/BWxKh9nFtZn7N2LqeETXXObKktNqvTP15BfTSbUslHnz+01Fu/C0r6mRM6p0+dtRVQdS8j96a3oWHNjlJ9+P25YyN9rdXmZaK/v1WhCpq4pnMf7DLHHasR0LvEZPySjBsJ9I8eF6V9Vo/kocvd/Q0UNrNzil7frGc6SF1/W/nQFPT5zrsiWU/HlazH5EvT+ZP1puNYJAJcXEj3+YSd/mBrm1XXnV42+riuv3ERjd80JH7/ICfo+uWcOnbvMW5WkcPUMd80Nh7nnxe/9/3rTEneJGL8fCQC3kKBtz4Ex6ZI/+Rdf7nluHyTP5Mc/v0dWSi2rV7hOGCq8oPWBBJ1bmebSoHJz3+vSdbn76y6FXx0i56Upsz2Rs2RZ7IpRl2fsMyN0EDmInHsqpMpeLll09P0Z1+tL5F8rcbSEXL29iszbulfLOhWexvX9H+FKFG42u7k5OTJRa2vs+6hatqRLE0m7D3/Ba+hSjbcTWeUJg6DhNshrVWONhYbdlBfKk6DxTeRPYkeCQo13outyS+Z9Ki+MVN01bKRhML81xR+WPmeg67L++N0THQfJM1kW07Xu+Z+tvNMKQoXrhqr81zN1nMwPOj/fs88T5g/Hffw0U/EhnFKRhMhB5FRaMfGyZKZH8VTfwWZx4XJvq11BoxbVPNdwiv243d05WhVNZg6SB1OmzbGNxcXiq+bhgL8QCRIufjLDfC7lo8SK//3u26/8T0+cOXfRciv/uZRHNZFWRA4ih5cMBqqNAf8wj/u6czoV3/SZ88zhI8eMzP/phMO9iJrqZOCbQ4fN/gPfIcyroe5F5FRDJlfny8OzqKzDzIDmo2hz8zrCHFfixrsEA9nPACIHkUMPGAZgAAZgAAYiyQAiB7AjCTY9sOzvgVGGlCEMwEC6DCByEDmIHBiAARiAARiIJAOIHMCOJNjpqn/upwcJAzAAA9nPACIHkYPIgQEYgAEYgIFIMoDIAexIgk0PLPt7YJQhZQgDMJAuA4gcRA4iBwZgAAZgAAYiyQAiB7BNvSbt7F+S9Q8kp5r1I0H93NGda6/fNOivxO16D4px9/sJ83HQdIY5DcnGrfFjjU2L+uX/LiDZ8PBPzxoGYCCbGEDkIHJMmx4D7I/qNp296YkX90M7P8z6U7jc9bdwv3uYjvWn87FvbEwYv6DprKn05NVtbLYN6GH+njbY3Jk+xDzTqnXCdASJX5uGTc2Fic/YcBTWtckFplezlimHF+SZ+KHxgwEYCBsDiBxETqREjkTYG4f/TNiYh1nkvPjE4+afaUM8USJhMrhNm4TpqKwSeejhhubKS4NsWF8Myzc7BvW0xxJPDes2TinMyp7JdRo3GICBMDKAyEHkpCxyKvu7eFUAX9kzs1XkbO7X3YqcTf26mz1D860oSVXkDGvb1t5/ZPTTnqD59fn+1m1+906eW1WUD2HS0MEADISJAUQOIidpkTPz/b1mw6mrduhq8/lbRsNY8VBP2faJ0TWJji1Ff5t5u74xj9RtGuNPc2SWHDxmthb97Q2XjV62PsaPwm2fX2AWfvmDF5786z73TP3oceOZ63bT87YX3/HO1xwv8vxVlSXn3IVL5nxRidn52V7vWS5uQff5zVuapvVK5858XNArLZHz6eDe9v5JHR+38enfsrU9l3Xo6Jh+KccxaFrwRyMHAzAQFgYQOYgc07xjb6P5OCuOnPIaQIkYCQc/qG5OjoTEqmNnjcSOBIzOB0ye6/nV5GS5KYwZ735uJDR0vvTbXz0/CnftiUvWffnhkzasTef+sufxQmfDqSvWfdFXP5rJmz80i78+YoWRi1uHvkPNyx/ts5ueo3DcucSW8xc0nc5/0P31m7eNtiNHY9MX9P54f+mKHFlwJGhaNWhq/3J8ceIzdk6O3HQc/zzOaZBgAAaiygAiB5ETuNFzIscvfpx1ZO2JizacR+s1t5YUWVt0rBdHQ0xOqLTs0se69XpuUqnA+fGk9/y8Vp3tvVsu3PbcXPh+AaYwH66TeMWQRE55c3Kq6iUOm8g5M2GgFTmP1s4zb/bpao81hHVr6mDz19TBXt5WVX4QLg0mDMBAWBhA5CByAjd6TuS8+sX3MfdI9GwrvmPdZFWR0JDVxQ/5lK0fW/dBMxdZ9wnr3rHnw+cvj/EnC5Hur9uwlXWXQLLDWcV3jMJ4csjYcgWOnlcTImfAMyPMoMGjTKcuvWPS4k9/MsfpWnJkrZHVpkNeMzvPR5OP9fwbUwrsyq1k4oJfGisYgIFsZgCRg8gJ3DA7kTN2eewSbTccJetKv0lzrNCY/eG+mHA1BCUBou/v6IV5Zed+e97nhZkx/jSkJX/+b/EMmrHQm4+jaxI9Lpz4l68mRE58HNI9T1fk/HZ3krEsOrLcNKjTyOaxVm9p1VW68eN+Gj0YgIFsYQCRg8gJ3Og5kSOB4gfcDkXdteR0KRhtRcrKn07H+Jm/+5B1Hzp3mXV/adMOez7prfdj/L11+rp1b9C8Q4y7LDod+4+wc3dkNZKYcUNf/rjkgsjR925e6tTBbo/nNYvJJ+XF1yOespYcWXPGdWhvrzer18S6nRw/4B7//vzjmMYLBmAgSgwgchA5gRs9J3Lc/Bu9CBIjEhaaZKzz+k3b2/OtF/+JCXf9ydLJwxIq8ifrTLwg0RCV3NzQV3kvmhv6SvTRP7eyqrx7q8Ldzck5fKRsxVc6z6nMkvP50NLVUxIxr/XsHJPPeu70Lk/cI2gW9ehs3TY83e0e/+nElXtpEGEABsLMACIHkRO40XMiR0Jkxnu7zcBpC7yVU2Nef8sLR8u75afw4DHT/6VXvKEpraZyL8NDtRt5Q1ASLQOmzDMrj56292l1lvPXeeAoK6BeXP+ueWrcdDN66frS+4rvmBadSueaOL/aOzGlLx8rvtXxdWYnctJdXaWvHb8zsIc5/2LpnJqDI/vY82mdY61alYkcTTjWJGOJoLV9uxoJHA1VaWtZP3YZvz/vOKaxggEYiBoDiBxEjicoKoN75KJVVoQsPfSb3UvIaNNQlP8jffWbPm6Xo7vr2q/7o+QeUaJJylq67ven5eFuVZbi07bnQG+ZuvMnq9Go19YkjHfnQc+ZNb+VLlmX/8qsQpWlOcj1TIkciZJE239H9Y1J62dDyiw5ixNYchTn7k1bmOuTC7zwJHqGpvgF5SB5gB8aRxiAgTAygMhB5MQ0oEEhrdOgpelSMMYOT5V3j8RO1yHPm0ZtulT4DH2/Rqum6uaV/6+mZk/0NN2GjTNaZl7e83C/t5J9olFz06Vx6VJ+8ufe/CFPyBMYiDYDiBxEDqIBBmAABmAABiLJACIHsCMJNr2zaPfOKF/KFwZgIAgDiBxEDiIHBmAABmAABiLJACIHsCMJdhCFjx96gjAAAzAQbQYQOYgcRA4MwAAMwAAMRJIBRA5gRxJsemfR7p1RvpQvDMBAEAYQOYgcRA4MwAAMwAAMRJIBRA5gRxLsIAofP/QEYQAGYCDaDCByEDmIHBiAARiAARiIJAOInGoE+6m+g82KVevN9JnzTItWnSIJFL2iaPeKKF/KFwZgIJsYQORUo8hZXLjCXLtxy+hfR9r3yh+I0KnG/M+mF5O40pDAAAzAQPoMIHKquZGtXaeJWbFqgxU6732wE5FTzflPpZF+pUEekocwAAPZwgAipwYa2U5deluRs//AIURODeR/trycxJOGBAZgAAbSYwCRUwONbJt2T1qRc/Db7xE5NZD/VBrpVRrkH/kHAzCQLQwgcmqgkS0TOT8gcmog/7Pl5SSeNCQwAAMwkB4DiJwaaGTrNWhpLTnni0oQOTWQ/1Qa6VUa5B/5BwMwkC0MIHJqqJE9dfqcFTr/OfhfM2XaHKN5OtkCDfGkgoMBGIABGMgGBhA5NSRymrd8wvx6/E8rdLSkfOdnexE5NVQW2fCiEkcaFBiAARhIngFETg01rMd/P2UFzqe7vjA9eg0wGsIC4OQBJs/IMxiAARiAgfIYQOTUgMhpkNfaCpxzFy4hbGog/8t7GXCnooQBGICBaDGAyKmBRrZsdRVLyKlQolWhUJ6UJwzAQJgYQOTUgMjp2v1pa8nhOzlUBmGqDIgLPMIADESNAURODYic15evtSLn4527Ga6qgfyP2ktMemiYYAAGYCAxA4icamxk58xdbC5fvWEFjlZUDRvxPCKnGvOfSiBxJUC+kC8wAANRZQCRU42N7Ihnx5tdu/eZzVvfNb3yn0HgVGPeR/UFJl00TjAAAzBQPgOIHBpaxBYMwAAMwAAMRJIBRA5gRxJsejbl92zIG/IGBmAgVxhA5CByEDkwAAMwAAMwEEkGEDmAHUmwc6WXQjrpkcMADMBA+QwgchA5iBwYgAEYgAEYiCQDiBzAjiTY9GzK79mQN+QNDMBArjCAyEHkIHJgAAZgAAZgIJIMIHIAO5Jg50ovhXTSI4cBGICB8hmIpMgpXLrSvLrodTNk2BgacEQcDMAADMAADOQoA5EUOeeLSrxfJxz89gfgzlG46d2U37shb8gbGICBXGAgkiJHBde2fVdTdOmyFTu5UJCkkQoLBmAABmAABmIZiKzIUUF/f/ioFTlNmrXHmoM1BwZgAAZgAAZyjIFIixwNVelv3y1bdwLsHAOb3kxsb4b8ID9gAAZykYGcEDkausrFwiXNVGowAAMwAAO5zECkRc7eL/dbS86sl19F5GDJgQEYgAEYgIEcYyDSImfCxBlW5FwsvmLWv7XNPDdmIoDnGOC53IMh7fTgYQAGcp2BSIscFe6ri5aZazduWbGj+Tm5XuCkn0oPBmAABmAgVxiItMjRxwAlbC5cvGxmz1loWrRiAnKugE06qcRhAAZgAAYiLXI+3/OVFTkzZy/AgsMwFQzAAAzAAAzkGAORFjluCXnrtl0AO8fApgdHDw4GYAAGYCDSIueHH3+2lhy+kwPoVHYwAAMwAAO5x0BkRU6dx5qZ4svXrMipXacJlhwsOTAAAzAAAzCQYwxEUuT8cfKMFTeadPzbiZNAnWNQ01vLvd4aZU6ZwwAMJGIgkiLnvQ92mg8+/NQuH3+0blNEDiIHBmAABmAABnKQgUiKnERqDjdUPgzAAAzAAAzkFgOInBxUtrzkufWSU96UNwzAQK4ygMhB5GDChQEYgAEYgIFIMoDIAexIgp2rvRbSTY8dBmAABsoYQOQgchA5MAADMAADMBBJBhA5gB1JsOnJlPVkyAvyAgZgIFcZQOQgchA5MAADMAADMBBJBhA5gB1JsHO110K66bHDAAzAQBkDKYucp/oONitWrTfTZ84zLVp1oqFELMEADMAADMAADISKgZRFzuLCFebajVv29wna98ofGKqEoWTLlCx5QV7AAAzAAAzkIgMpixxlln58uWLVBit09CuFXMxA0kzFAQMwAAMwAAPhZCAtkaNC7dSltxU5+w8cQuRgpoQBGIABGIABGAgNA2mLnDbtnrQi5+C334cmUSjqcCpqyoVygQEYgAEYqE4GMihyfkDkoN5hAAZgAAZgAAZCw0DaIqdeg5bWknO+qCQ0iapOlciz6JXAAAzAAAzAQDgZSFvkqGBPnT5nhc5/Dv7XTJk2x87TocDDWeCUC+UCAzAAAzCQKwxkROQ0b/mE+fX4n1boXL952+z8bC9WHcyVMAADMAADMAADNcpARkTO8d9PWYHz6a4vTI9eA4yGsHJFJZJOekQwAAMwAAMwEE4G0hY5DfJaW4Fz7sIlhA2KHQZgAAZgAAZgIDQMpC1yWEIeTvVKr4JygQEYgAEYyHUG0hY5Xbs/bS05fCeHlynXXybSzzsAAzAAA+FiIG2R8/rytVbkfLxzd2jMU0AWLsgoD8oDBmAABmCgJhhIWeTMmbvYXL56wwocragaNuJ5RA7jsDAAAzAAAzAAA6FhIGWRM+LZ8WbX7n1m89Z3Ta/8Z0KToJpQijyTHgoMwAAMwAAMhI+BlEUOhRm+wqRMKBMYgAEYgAEYKGMAkYNZESscDMAADMAADESSAUQOYEcSbHoyZT0Z8oK8gAEYyFUGEDmIHEQODMAADMAADESSAUQOYEcS7FzttZBueuwwAAMwUMYAIgeRg8iBARiAARiAgUgygMgB7EiCTU+mrCdDXpAXMAADucoAIgeRg8iBARiAARiAgUgygMgB7EiCnau9FtJNjx0GYAAGyhhA5CByEDkwAAMwAAMwEEkGEDmAHUmw6cmU9WTIC/ICBmAgVxn4fz5O8TrjKMdgAAAAAElFTkSuQmCC)"
   ]
  },
  {
   "cell_type": "code",
   "execution_count": null,
   "metadata": {
    "Collapsed": "false",
    "colab": {},
    "colab_type": "code",
    "id": "2wdj8p-Iqf0-"
   },
   "outputs": [],
   "source": []
  },
  {
   "cell_type": "markdown",
   "metadata": {
    "Collapsed": "false",
    "colab_type": "text",
    "id": "_IW6WCbwYbMz"
   },
   "source": [
    "\n",
    "##### 3. Consultas Booleanas (query_string)\n",
    "\n"
   ]
  },
  {
   "cell_type": "markdown",
   "metadata": {
    "Collapsed": "false",
    "colab_type": "text",
    "id": "o5JMPl27Lo-Q"
   },
   "source": [
    "![image.png](data:image/png;base64,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)"
   ]
  },
  {
   "cell_type": "code",
   "execution_count": null,
   "metadata": {
    "Collapsed": "false",
    "colab": {},
    "colab_type": "code",
    "id": "njbYUUM6wNoy"
   },
   "outputs": [],
   "source": []
  },
  {
   "cell_type": "markdown",
   "metadata": {
    "Collapsed": "false",
    "colab_type": "text",
    "id": "CGsJHCEPYYSM"
   },
   "source": [
    "\n",
    "##### 4. Consultas utilizando lógica Fuzzy\n",
    "\n"
   ]
  },
  {
   "cell_type": "markdown",
   "metadata": {
    "Collapsed": "false",
    "colab_type": "text",
    "id": "LTGkEWCWL46g"
   },
   "source": [
    "![image.png](data:image/png;base64,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)"
   ]
  },
  {
   "cell_type": "code",
   "execution_count": null,
   "metadata": {
    "Collapsed": "false",
    "colab": {},
    "colab_type": "code",
    "id": "ECfAnV4OPSBy"
   },
   "outputs": [],
   "source": []
  },
  {
   "cell_type": "markdown",
   "metadata": {
    "Collapsed": "false",
    "colab_type": "text",
    "id": "UywWldpWV3nk"
   },
   "source": [
    "#### Consultas por filtros"
   ]
  },
  {
   "cell_type": "code",
   "execution_count": null,
   "metadata": {
    "Collapsed": "false",
    "colab": {},
    "colab_type": "code",
    "id": "6j88lTUYYuvY"
   },
   "outputs": [],
   "source": [
    "s = Search()\n",
    "s = s.filter(\"term\", tipo=\"PL\")\n",
    "\n",
    "eprint(s.execute())"
   ]
  },
  {
   "cell_type": "code",
   "execution_count": null,
   "metadata": {
    "Collapsed": "false",
    "colab": {
     "base_uri": "https://localhost:8080/",
     "height": 529
    },
    "colab_type": "code",
    "id": "k1ANzs2PLsYE",
    "outputId": "366ba587-68ca-4121-d3aa-9ac84ca78653"
   },
   "outputs": [
    {
     "data": {
      "text/html": [
       "<div>\n",
       "<style scoped>\n",
       "    .dataframe tbody tr th:only-of-type {\n",
       "        vertical-align: middle;\n",
       "    }\n",
       "\n",
       "    .dataframe tbody tr th {\n",
       "        vertical-align: top;\n",
       "    }\n",
       "\n",
       "    .dataframe thead th {\n",
       "        text-align: right;\n",
       "    }\n",
       "</style>\n",
       "<table border=\"1\" class=\"dataframe\">\n",
       "  <thead>\n",
       "    <tr style=\"text-align: right;\">\n",
       "      <th></th>\n",
       "      <th>tipo</th>\n",
       "      <th>ementa</th>\n",
       "      <th>data</th>\n",
       "      <th>topicos</th>\n",
       "      <th>clicks</th>\n",
       "      <th>id</th>\n",
       "      <th>score</th>\n",
       "    </tr>\n",
       "  </thead>\n",
       "  <tbody>\n",
       "    <tr>\n",
       "      <th>0</th>\n",
       "      <td>SUG</td>\n",
       "      <td>Sugere estudo visando verificar a atuação do M...</td>\n",
       "      <td>2020-01-03T11:09:00</td>\n",
       "      <td></td>\n",
       "      <td>8</td>\n",
       "      <td>2236217</td>\n",
       "      <td>0.0</td>\n",
       "    </tr>\n",
       "    <tr>\n",
       "      <th>1</th>\n",
       "      <td>SUG</td>\n",
       "      <td>Sugere audiência pública para debater assuntos...</td>\n",
       "      <td>2020-01-03T11:24:00</td>\n",
       "      <td></td>\n",
       "      <td>0</td>\n",
       "      <td>2236218</td>\n",
       "      <td>0.0</td>\n",
       "    </tr>\n",
       "    <tr>\n",
       "      <th>2</th>\n",
       "      <td>RIC</td>\n",
       "      <td>Requer informações detalhadas ao Ministro da C...</td>\n",
       "      <td>2020-01-03T14:50:13</td>\n",
       "      <td></td>\n",
       "      <td>4</td>\n",
       "      <td>2236222</td>\n",
       "      <td>0.0</td>\n",
       "    </tr>\n",
       "    <tr>\n",
       "      <th>3</th>\n",
       "      <td>MPV</td>\n",
       "      <td>Cria funções de confiança destinadas à Polícia...</td>\n",
       "      <td>2020-01-03T11:59:00</td>\n",
       "      <td>Criação, Função Comissionada do Poder Executiv...</td>\n",
       "      <td>1</td>\n",
       "      <td>2236223</td>\n",
       "      <td>0.0</td>\n",
       "    </tr>\n",
       "    <tr>\n",
       "      <th>4</th>\n",
       "      <td>PRL</td>\n",
       "      <td>Parecer do Relator, Dep. Eli Borges (SOLIDARI-...</td>\n",
       "      <td>2020-01-14T09:41:00</td>\n",
       "      <td></td>\n",
       "      <td>5</td>\n",
       "      <td>2236230</td>\n",
       "      <td>0.0</td>\n",
       "    </tr>\n",
       "    <tr>\n",
       "      <th>5</th>\n",
       "      <td>PRL</td>\n",
       "      <td>Parecer do Relator, Dep. Eli Borges (SOLIDARI-...</td>\n",
       "      <td>2020-01-14T09:42:00</td>\n",
       "      <td></td>\n",
       "      <td>8</td>\n",
       "      <td>2236231</td>\n",
       "      <td>0.0</td>\n",
       "    </tr>\n",
       "    <tr>\n",
       "      <th>6</th>\n",
       "      <td>MSC</td>\n",
       "      <td>texto do Tratado entre a República Federativa ...</td>\n",
       "      <td>2020-01-17T11:17:00</td>\n",
       "      <td></td>\n",
       "      <td>0</td>\n",
       "      <td>2236235</td>\n",
       "      <td>0.0</td>\n",
       "    </tr>\n",
       "    <tr>\n",
       "      <th>7</th>\n",
       "      <td>RIC</td>\n",
       "      <td>Solicita ao Ministério de Relações Exteriores ...</td>\n",
       "      <td>2020-01-22T15:53:32</td>\n",
       "      <td></td>\n",
       "      <td>6</td>\n",
       "      <td>2236238</td>\n",
       "      <td>0.0</td>\n",
       "    </tr>\n",
       "    <tr>\n",
       "      <th>8</th>\n",
       "      <td>REQ</td>\n",
       "      <td>Solicita que seja convocado o Sr. Abraham Wein...</td>\n",
       "      <td>2020-01-24T09:54:00</td>\n",
       "      <td></td>\n",
       "      <td>3</td>\n",
       "      <td>2236240</td>\n",
       "      <td>0.0</td>\n",
       "    </tr>\n",
       "    <tr>\n",
       "      <th>9</th>\n",
       "      <td>MSC</td>\n",
       "      <td>Texto do Protocolo sobre Transferência de Pess...</td>\n",
       "      <td>2020-01-24T12:58:00</td>\n",
       "      <td></td>\n",
       "      <td>1</td>\n",
       "      <td>2236241</td>\n",
       "      <td>0.0</td>\n",
       "    </tr>\n",
       "  </tbody>\n",
       "</table>\n",
       "</div>"
      ],
      "text/plain": [
       "  tipo                                             ementa  ...       id score\n",
       "0  SUG  Sugere estudo visando verificar a atuação do M...  ...  2236217   0.0\n",
       "1  SUG  Sugere audiência pública para debater assuntos...  ...  2236218   0.0\n",
       "2  RIC  Requer informações detalhadas ao Ministro da C...  ...  2236222   0.0\n",
       "3  MPV  Cria funções de confiança destinadas à Polícia...  ...  2236223   0.0\n",
       "4  PRL  Parecer do Relator, Dep. Eli Borges (SOLIDARI-...  ...  2236230   0.0\n",
       "5  PRL  Parecer do Relator, Dep. Eli Borges (SOLIDARI-...  ...  2236231   0.0\n",
       "6  MSC  texto do Tratado entre a República Federativa ...  ...  2236235   0.0\n",
       "7  RIC  Solicita ao Ministério de Relações Exteriores ...  ...  2236238   0.0\n",
       "8  REQ  Solicita que seja convocado o Sr. Abraham Wein...  ...  2236240   0.0\n",
       "9  MSC  Texto do Protocolo sobre Transferência de Pess...  ...  2236241   0.0\n",
       "\n",
       "[10 rows x 7 columns]"
      ]
     },
     "metadata": {
      "tags": []
     },
     "output_type": "display_data"
    }
   ],
   "source": [
    "from datetime import datetime, timedelta, time\n",
    "\n",
    "today = datetime.now().date()\n",
    "last_year = today - timedelta(365)\n",
    "today_end = datetime.combine(last_year, time())\n",
    "\n",
    "s = Search()\n",
    "\n",
    "s = s.filter('range', data={'gte': today_end, 'lte': today})\n",
    "\n",
    "eprint(s.execute())"
   ]
  },
  {
   "cell_type": "markdown",
   "metadata": {
    "Collapsed": "false",
    "colab_type": "text",
    "id": "byPdNzU0bCjM"
   },
   "source": [
    "\n",
    "\n",
    "#### 5.   Consultas Aninhadas\n",
    "\n",
    "\n"
   ]
  },
  {
   "cell_type": "markdown",
   "metadata": {
    "Collapsed": "false",
    "colab_type": "text",
    "id": "rRgoKJlxNzv-"
   },
   "source": [
    "![image.png](data:image/png;base64,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)"
   ]
  },
  {
   "cell_type": "code",
   "execution_count": null,
   "metadata": {
    "Collapsed": "false",
    "colab": {
     "base_uri": "https://localhost:8080/",
     "height": 839
    },
    "colab_type": "code",
    "id": "h7tfvETVbB2-",
    "outputId": "411c0ea4-9c8b-46e0-c879-15c8fb737c43"
   },
   "outputs": [
    {
     "name": "stdout",
     "output_type": "stream",
     "text": [
      "{\n",
      "  \"query\": {\n",
      "    \"bool\": {\n",
      "      \"filter\": [\n",
      "        {\n",
      "          \"term\": {\n",
      "            \"tipo\": \"PL\"\n",
      "          }\n",
      "        }\n",
      "      ],\n",
      "      \"must\": [\n",
      "        {\n",
      "          \"match\": {\n",
      "            \"ementa\": \"saneamento basico\"\n",
      "          }\n",
      "        },\n",
      "        {\n",
      "          \"match\": {\n",
      "            \"ementa\": \"lei\"\n",
      "          }\n",
      "        }\n",
      "      ],\n",
      "      \"should\": [\n",
      "        {\n",
      "          \"match\": {\n",
      "            \"ementa\": \"serviços\"\n",
      "          }\n",
      "        },\n",
      "        {\n",
      "          \"match\": {\n",
      "            \"ementa\": \"produto\"\n",
      "          }\n",
      "        }\n",
      "      ],\n",
      "      \"minimum_should_match\": 1\n",
      "    }\n",
      "  }\n",
      "}\n"
     ]
    },
    {
     "data": {
      "text/html": [
       "<div>\n",
       "<style scoped>\n",
       "    .dataframe tbody tr th:only-of-type {\n",
       "        vertical-align: middle;\n",
       "    }\n",
       "\n",
       "    .dataframe tbody tr th {\n",
       "        vertical-align: top;\n",
       "    }\n",
       "\n",
       "    .dataframe thead th {\n",
       "        text-align: right;\n",
       "    }\n",
       "</style>\n",
       "<table border=\"1\" class=\"dataframe\">\n",
       "  <thead>\n",
       "    <tr style=\"text-align: right;\">\n",
       "      <th></th>\n",
       "      <th>tipo</th>\n",
       "      <th>ementa</th>\n",
       "      <th>data</th>\n",
       "      <th>topicos</th>\n",
       "      <th>clicks</th>\n",
       "      <th>id</th>\n",
       "      <th>score</th>\n",
       "    </tr>\n",
       "  </thead>\n",
       "  <tbody>\n",
       "    <tr>\n",
       "      <th>0</th>\n",
       "      <td>PL</td>\n",
       "      <td>Altera a Lei nº 11.445, de 5 de janeiro de 200...</td>\n",
       "      <td>2020-03-30T19:22:00</td>\n",
       "      <td>Alteração, Lei de Saneamento Básico, proibição...</td>\n",
       "      <td>4</td>\n",
       "      <td>2242387</td>\n",
       "      <td>14.212906</td>\n",
       "    </tr>\n",
       "    <tr>\n",
       "      <th>1</th>\n",
       "      <td>PL</td>\n",
       "      <td>Altera a Lei no 11.445, de 5 de janeiro de 200...</td>\n",
       "      <td>2020-03-10T17:52:05</td>\n",
       "      <td>Alteração, Lei de Saneamento Básico, obrigator...</td>\n",
       "      <td>1</td>\n",
       "      <td>2238670</td>\n",
       "      <td>10.630603</td>\n",
       "    </tr>\n",
       "    <tr>\n",
       "      <th>2</th>\n",
       "      <td>PL</td>\n",
       "      <td>Altera os arts. 6º e 39 da Lei nº 8.078, de 11...</td>\n",
       "      <td>2020-03-26T14:00:00</td>\n",
       "      <td>Alteração, Código de Defesa do Consumidor, Dir...</td>\n",
       "      <td>8</td>\n",
       "      <td>2242141</td>\n",
       "      <td>6.138413</td>\n",
       "    </tr>\n",
       "  </tbody>\n",
       "</table>\n",
       "</div>"
      ],
      "text/plain": [
       "  tipo                                             ementa  ...       id      score\n",
       "0   PL  Altera a Lei nº 11.445, de 5 de janeiro de 200...  ...  2242387  14.212906\n",
       "1   PL  Altera a Lei no 11.445, de 5 de janeiro de 200...  ...  2238670  10.630603\n",
       "2   PL  Altera os arts. 6º e 39 da Lei nº 8.078, de 11...  ...  2242141   6.138413\n",
       "\n",
       "[3 rows x 7 columns]"
      ]
     },
     "metadata": {
      "tags": []
     },
     "output_type": "display_data"
    }
   ],
   "source": [
    "from elasticsearch_dsl import Q\n",
    "\n",
    "s = Search()\n",
    "\n",
    "q = Q('bool',\n",
    "    filter = [Q('term',tipo='PL')],\n",
    "    must=[Q('match', ementa='saneamento basico'), Q('match', ementa='lei')],\n",
    "    should=[Q('match', ementa='serviços'), Q('match', ementa='produto')],\n",
    "    minimum_should_match=1\n",
    ")\n",
    "\n",
    "\n",
    "s = s.query(q)\n",
    "\n",
    "jprint(s.to_dict())\n",
    "eprint(s.execute())"
   ]
  },
  {
   "cell_type": "markdown",
   "metadata": {
    "Collapsed": "false",
    "colab_type": "text",
    "id": "nczSCBZ5861h"
   },
   "source": [
    "#### Filtros de Agrupamentos"
   ]
  },
  {
   "cell_type": "code",
   "execution_count": null,
   "metadata": {
    "Collapsed": "false",
    "colab": {},
    "colab_type": "code",
    "id": "WFaN_0l49Xk4"
   },
   "outputs": [],
   "source": [
    "s = Search()\n",
    "s = s.query(\"match\", ementa=\"saneamento básico\")\n",
    "s.aggs.bucket('tipos_terms', 'terms', field='tipo')\n",
    "\n",
    "jprint(s.execute().to_dict()['aggregations'])"
   ]
  },
  {
   "cell_type": "code",
   "execution_count": null,
   "metadata": {
    "Collapsed": "false",
    "colab": {
     "base_uri": "https://localhost:8080/",
     "height": 170
    },
    "colab_type": "code",
    "id": "aUmPjUXSQfeE",
    "outputId": "15a60b76-2ae7-42c0-89a3-38a9ccdf0358"
   },
   "outputs": [
    {
     "name": "stdout",
     "output_type": "stream",
     "text": [
      "{\n",
      "  \"total_clicks\": {\n",
      "    \"count\": 141,\n",
      "    \"min\": 0.0,\n",
      "    \"max\": 9.0,\n",
      "    \"avg\": 4.6453900709219855,\n",
      "    \"sum\": 655.0\n",
      "  }\n",
      "}\n"
     ]
    }
   ],
   "source": [
    "s = Search()\n",
    "s = s.query(\"match\", ementa=\"saneamento básico\")\n",
    "s.aggs.metric('total_clicks', 'stats', field='clicks')\n",
    "\n",
    "jprint(s.execute().to_dict()['aggregations'])"
   ]
  },
  {
   "cell_type": "markdown",
   "metadata": {
    "Collapsed": "false",
    "colab_type": "text",
    "id": "2VWAzlqGWnA4"
   },
   "source": [
    "#### Consultas avançadas"
   ]
  },
  {
   "cell_type": "code",
   "execution_count": null,
   "metadata": {
    "Collapsed": "false",
    "colab": {
     "base_uri": "https://localhost:8080/",
     "height": 529
    },
    "colab_type": "code",
    "id": "kojSgdiuWwUZ",
    "outputId": "1efe91df-cade-4a78-a8e0-fad6cb97cb23"
   },
   "outputs": [
    {
     "data": {
      "text/html": [
       "<div>\n",
       "<style scoped>\n",
       "    .dataframe tbody tr th:only-of-type {\n",
       "        vertical-align: middle;\n",
       "    }\n",
       "\n",
       "    .dataframe tbody tr th {\n",
       "        vertical-align: top;\n",
       "    }\n",
       "\n",
       "    .dataframe thead th {\n",
       "        text-align: right;\n",
       "    }\n",
       "</style>\n",
       "<table border=\"1\" class=\"dataframe\">\n",
       "  <thead>\n",
       "    <tr style=\"text-align: right;\">\n",
       "      <th></th>\n",
       "      <th>tipo</th>\n",
       "      <th>ementa</th>\n",
       "      <th>data</th>\n",
       "      <th>topicos</th>\n",
       "      <th>clicks</th>\n",
       "      <th>id</th>\n",
       "      <th>score</th>\n",
       "    </tr>\n",
       "  </thead>\n",
       "  <tbody>\n",
       "    <tr>\n",
       "      <th>0</th>\n",
       "      <td>MSC</td>\n",
       "      <td>Acordo Básico de Cooperação Científica e Técni...</td>\n",
       "      <td>2020-01-31T17:46:00</td>\n",
       "      <td></td>\n",
       "      <td>6</td>\n",
       "      <td>2236265</td>\n",
       "      <td>None</td>\n",
       "    </tr>\n",
       "    <tr>\n",
       "      <th>1</th>\n",
       "      <td>PDL</td>\n",
       "      <td>Susta os efeitos do Decreto nº 10.216, de 30 d...</td>\n",
       "      <td>2020-02-05T14:58:00</td>\n",
       "      <td>Sustação, Decreto, criação, Grupo de Trabalho ...</td>\n",
       "      <td>4</td>\n",
       "      <td>2236592</td>\n",
       "      <td>None</td>\n",
       "    </tr>\n",
       "    <tr>\n",
       "      <th>2</th>\n",
       "      <td>PL</td>\n",
       "      <td>Altera a Lei nº 11.445, de 5 de janeiro de 200...</td>\n",
       "      <td>2020-02-06T11:51:27</td>\n",
       "      <td>Alteração, Lei de Saneamento Básico, utilizaçã...</td>\n",
       "      <td>9</td>\n",
       "      <td>2236773</td>\n",
       "      <td>None</td>\n",
       "    </tr>\n",
       "    <tr>\n",
       "      <th>3</th>\n",
       "      <td>PL</td>\n",
       "      <td>Altera o art. 28 da Lei 9.394/1996 e estabelec...</td>\n",
       "      <td>2020-02-12T10:56:19</td>\n",
       "      <td>Alteração, Lei de Diretrizes e Bases da Educaç...</td>\n",
       "      <td>3</td>\n",
       "      <td>2237018</td>\n",
       "      <td>None</td>\n",
       "    </tr>\n",
       "    <tr>\n",
       "      <th>4</th>\n",
       "      <td>INC</td>\n",
       "      <td>Sugere a inclusão de conhecimentos básicos sob...</td>\n",
       "      <td>2020-02-12T14:38:51</td>\n",
       "      <td></td>\n",
       "      <td>7</td>\n",
       "      <td>2237040</td>\n",
       "      <td>None</td>\n",
       "    </tr>\n",
       "    <tr>\n",
       "      <th>5</th>\n",
       "      <td>REQ</td>\n",
       "      <td>Requer seja convocado o Senhor Abraham Weintra...</td>\n",
       "      <td>2020-02-14T15:06:00</td>\n",
       "      <td></td>\n",
       "      <td>8</td>\n",
       "      <td>2237601</td>\n",
       "      <td>None</td>\n",
       "    </tr>\n",
       "    <tr>\n",
       "      <th>6</th>\n",
       "      <td>REQ</td>\n",
       "      <td>Requer a inclusão na Ordem do Dia da PEC 15/20...</td>\n",
       "      <td>2020-02-19T18:54:00</td>\n",
       "      <td></td>\n",
       "      <td>3</td>\n",
       "      <td>2237951</td>\n",
       "      <td>None</td>\n",
       "    </tr>\n",
       "    <tr>\n",
       "      <th>7</th>\n",
       "      <td>MPV</td>\n",
       "      <td>Altera a Lei nº 8.745, de 9 de dezembro de 199...</td>\n",
       "      <td>2020-03-02T09:45:00</td>\n",
       "      <td>Alteração, Lei de Contratação Temporária de In...</td>\n",
       "      <td>8</td>\n",
       "      <td>2238102</td>\n",
       "      <td>None</td>\n",
       "    </tr>\n",
       "    <tr>\n",
       "      <th>8</th>\n",
       "      <td>INC</td>\n",
       "      <td>Sugere o lançamento de um programa específico ...</td>\n",
       "      <td>2020-03-05T14:59:05</td>\n",
       "      <td></td>\n",
       "      <td>2</td>\n",
       "      <td>2238522</td>\n",
       "      <td>None</td>\n",
       "    </tr>\n",
       "    <tr>\n",
       "      <th>9</th>\n",
       "      <td>PL</td>\n",
       "      <td>Institui a realização, em caráter anual, da \"S...</td>\n",
       "      <td>2020-03-05T15:03:00</td>\n",
       "      <td>Criação, Semana de Valorização de Mulheres que...</td>\n",
       "      <td>8</td>\n",
       "      <td>2238527</td>\n",
       "      <td>None</td>\n",
       "    </tr>\n",
       "  </tbody>\n",
       "</table>\n",
       "</div>"
      ],
      "text/plain": [
       "  tipo                                             ementa  ...       id score\n",
       "0  MSC  Acordo Básico de Cooperação Científica e Técni...  ...  2236265  None\n",
       "1  PDL  Susta os efeitos do Decreto nº 10.216, de 30 d...  ...  2236592  None\n",
       "2   PL  Altera a Lei nº 11.445, de 5 de janeiro de 200...  ...  2236773  None\n",
       "3   PL  Altera o art. 28 da Lei 9.394/1996 e estabelec...  ...  2237018  None\n",
       "4  INC  Sugere a inclusão de conhecimentos básicos sob...  ...  2237040  None\n",
       "5  REQ  Requer seja convocado o Senhor Abraham Weintra...  ...  2237601  None\n",
       "6  REQ  Requer a inclusão na Ordem do Dia da PEC 15/20...  ...  2237951  None\n",
       "7  MPV  Altera a Lei nº 8.745, de 9 de dezembro de 199...  ...  2238102  None\n",
       "8  INC  Sugere o lançamento de um programa específico ...  ...  2238522  None\n",
       "9   PL  Institui a realização, em caráter anual, da \"S...  ...  2238527  None\n",
       "\n",
       "[10 rows x 7 columns]"
      ]
     },
     "metadata": {
      "tags": []
     },
     "output_type": "display_data"
    }
   ],
   "source": [
    "# Ordenação\n",
    "s = Search()\n",
    "s = s.query(\"match\", ementa=\"saneamento básico\")\n",
    "s = s.sort('data','-tipo')\n",
    "eprint(s.execute())\n"
   ]
  },
  {
   "cell_type": "code",
   "execution_count": null,
   "metadata": {
    "Collapsed": "false",
    "colab": {
     "base_uri": "https://localhost:8080/",
     "height": 193
    },
    "colab_type": "code",
    "id": "Dgln53q1akYC",
    "outputId": "67534c59-2433-4b97-862a-c27e7d7af159"
   },
   "outputs": [
    {
     "data": {
      "text/html": [
       "<div>\n",
       "<style scoped>\n",
       "    .dataframe tbody tr th:only-of-type {\n",
       "        vertical-align: middle;\n",
       "    }\n",
       "\n",
       "    .dataframe tbody tr th {\n",
       "        vertical-align: top;\n",
       "    }\n",
       "\n",
       "    .dataframe thead th {\n",
       "        text-align: right;\n",
       "    }\n",
       "</style>\n",
       "<table border=\"1\" class=\"dataframe\">\n",
       "  <thead>\n",
       "    <tr style=\"text-align: right;\">\n",
       "      <th></th>\n",
       "      <th>tipo</th>\n",
       "      <th>ementa</th>\n",
       "      <th>data</th>\n",
       "      <th>topicos</th>\n",
       "      <th>clicks</th>\n",
       "      <th>id</th>\n",
       "      <th>score</th>\n",
       "    </tr>\n",
       "  </thead>\n",
       "  <tbody>\n",
       "    <tr>\n",
       "      <th>0</th>\n",
       "      <td>PL</td>\n",
       "      <td>Altera a Lei nº 11.445, de 5  de janeiro de 20...</td>\n",
       "      <td>2020-07-01T10:57:00</td>\n",
       "      <td>Alteração, Lei de Saneamento Básico, ampliação...</td>\n",
       "      <td>4</td>\n",
       "      <td>2256549</td>\n",
       "      <td>13.226944</td>\n",
       "    </tr>\n",
       "    <tr>\n",
       "      <th>1</th>\n",
       "      <td>RIC</td>\n",
       "      <td>Requer do Excelentíssimo Ministro do Meio Ambi...</td>\n",
       "      <td>2020-07-08T16:21:00</td>\n",
       "      <td></td>\n",
       "      <td>3</td>\n",
       "      <td>2257039</td>\n",
       "      <td>12.472170</td>\n",
       "    </tr>\n",
       "    <tr>\n",
       "      <th>2</th>\n",
       "      <td>PDL</td>\n",
       "      <td>Susta os efeitos do Decreto nº 10.216, de 30 d...</td>\n",
       "      <td>2020-02-05T14:58:00</td>\n",
       "      <td>Sustação, Decreto, criação, Grupo de Trabalho ...</td>\n",
       "      <td>4</td>\n",
       "      <td>2236592</td>\n",
       "      <td>11.194571</td>\n",
       "    </tr>\n",
       "  </tbody>\n",
       "</table>\n",
       "</div>"
      ],
      "text/plain": [
       "  tipo                                             ementa  ...       id      score\n",
       "0   PL  Altera a Lei nº 11.445, de 5  de janeiro de 20...  ...  2256549  13.226944\n",
       "1  RIC  Requer do Excelentíssimo Ministro do Meio Ambi...  ...  2257039  12.472170\n",
       "2  PDL  Susta os efeitos do Decreto nº 10.216, de 30 d...  ...  2236592  11.194571\n",
       "\n",
       "[3 rows x 7 columns]"
      ]
     },
     "metadata": {
      "tags": []
     },
     "output_type": "display_data"
    }
   ],
   "source": [
    "# Paginação\n",
    "s = Search()\n",
    "s = s.query(\"match\", ementa=\"saneamento básico\")\n",
    "\n",
    "#Start and Limit\n",
    "s = s[2:5]\n",
    "eprint(s.execute())"
   ]
  },
  {
   "cell_type": "code",
   "execution_count": null,
   "metadata": {
    "Collapsed": "false",
    "colab": {
     "base_uri": "https://localhost:8080/",
     "height": 799
    },
    "colab_type": "code",
    "id": "SooC--ZVa4Y3",
    "outputId": "45999dc2-eeb3-4ba8-c7c1-6176ddf3c209"
   },
   "outputs": [
    {
     "name": "stdout",
     "output_type": "stream",
     "text": [
      "nacionais para o <em>saneamento</em>\n",
      "\n",
      "<em>básico</em>, para\n",
      "\n",
      "planos de <em>saneamento</em>\n",
      "\n",
      "<em>básico</em>.\n",
      "\n",
      "específico para o <em>saneamento</em>\n",
      "\n",
      "<em>básico</em> urbano\n",
      "\n",
      "diretrizes para o <em>saneamento</em>\n",
      "\n",
      "<em>básico</em>.\n",
      "\n",
      "legal do <em>saneamento</em>\n",
      "\n",
      "<em>básico</em>.\n",
      "\n",
      "Nacional de <em>Saneamento</em>\n",
      "\n",
      "<em>Básico</em>.\n",
      "\n",
      "sistema de <em>Saneamento</em>\n",
      "\n",
      "<em>Básico</em> e o\n",
      "\n",
      "elétrica, gás, <em>saneamento</em>\n",
      "\n",
      "<em>básico</em> e telecomunicações\n",
      "\n",
      "tarifas de <em>saneamento</em>\n",
      "\n",
      "<em>básico</em> e suspensão\n",
      "\n",
      "condições <em>básicas</em>\n",
      "\n",
      "empresas de <em>saneamento</em>\n",
      "\n",
      "<em>básico</em>, com\n",
      "\n",
      "elétrica e de <em>saneamento</em>\n",
      "\n",
      "<em>básico</em> durante\n",
      "\n"
     ]
    }
   ],
   "source": [
    "# Highlighting\n",
    "s = Search()\n",
    "s = s.query(\"match\", ementa=\"saneamento básico\")\n",
    "s = s.highlight('ementa', fragment_size=10)\n",
    "\n",
    "response = s.execute()\n",
    "\n",
    "for hit in response:\n",
    "    for fragment in hit.meta.highlight.ementa:\n",
    "        print(fragment)\n",
    "        print(\"\")"
   ]
  },
  {
   "cell_type": "markdown",
   "metadata": {
    "Collapsed": "false",
    "colab_type": "text",
    "id": "CPQ3p29pVw7F"
   },
   "source": [
    "Exemplos mais avançados de consultas https://github.com/elastic/elasticsearch-dsl-py/tree/master/examples"
   ]
  },
  {
   "cell_type": "markdown",
   "metadata": {
    "Collapsed": "false",
    "colab_type": "text",
    "id": "ZgMpfVf7x1NP"
   },
   "source": [
    "## Lab 3 Prático"
   ]
  },
  {
   "cell_type": "markdown",
   "metadata": {
    "Collapsed": "false",
    "colab_type": "text",
    "id": "t6VPugE3V4KO"
   },
   "source": [
    "Com conhecimento de busca no elasticsearch e com os documentos indexados no Lab 2, crie um buscador para os documentos do Lab 1. Exibir os 10 primeiros melhores resultados. Possibilitar a escolha de diferentes tipos de buscas.\n",
    "\n"
   ]
  },
  {
   "cell_type": "code",
   "execution_count": null,
   "metadata": {
    "Collapsed": "false",
    "colab": {},
    "colab_type": "code",
    "id": "wq1C2E8IWL1J"
   },
   "outputs": [],
   "source": [
    "#@title Buscador de Artigos\n",
    "\n",
    "buscador = '' #@param {type:\"string\"}\n",
    "tipo_busca = 'palavras' #@param [\"palavras\", \"frase\", \"booleana\"]\n",
    "\n",
    "print(buscador)"
   ]
  },
  {
   "cell_type": "code",
   "execution_count": null,
   "metadata": {
    "Collapsed": "false",
    "colab": {},
    "colab_type": "code",
    "id": "EvVP8P2JXzEN"
   },
   "outputs": [],
   "source": []
  }
 ],
 "metadata": {
  "colab": {
   "collapsed_sections": [
    "eYSzgt10S2ZJ",
    "uDzTus3FZhDa",
    "lfoUXL2nul1L",
    "okZZXGxQvL71",
    "pAqTLvBwO5jg",
    "jWmZOSRzVKJD",
    "MLnj_pxWYa4h",
    "_IW6WCbwYbMz",
    "CGsJHCEPYYSM",
    "byPdNzU0bCjM",
    "ZgMpfVf7x1NP"
   ],
   "name": "LAB - 3_ - DRI.ipynb",
   "provenance": [],
   "toc_visible": true
  },
  "kernelspec": {
   "display_name": "Python 3",
   "language": "python",
   "name": "python3"
  },
  "language_info": {
   "codemirror_mode": {
    "name": "ipython",
    "version": 3
   },
   "file_extension": ".py",
   "mimetype": "text/x-python",
   "name": "python",
   "nbconvert_exporter": "python",
   "pygments_lexer": "ipython3",
   "version": "3.7.6"
  }
 },
 "nbformat": 4,
 "nbformat_minor": 4
}
