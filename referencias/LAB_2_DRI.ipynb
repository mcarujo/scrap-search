{
 "cells": [
  {
   "cell_type": "markdown",
   "metadata": {
    "Collapsed": "false",
    "colab_type": "text",
    "id": "3zOFpKE8H6V7"
   },
   "source": [
    "# Processo de Representação e Indexação\n"
   ]
  },
  {
   "cell_type": "markdown",
   "metadata": {
    "Collapsed": "false",
    "colab_type": "text",
    "id": "eYSzgt10S2ZJ"
   },
   "source": [
    "## 1. Index Invetido Simples"
   ]
  },
  {
   "cell_type": "markdown",
   "metadata": {
    "Collapsed": "false",
    "colab_type": "text",
    "id": "TO1ZHW6kTrpe"
   },
   "source": [
    "### Preparação dos Documentos"
   ]
  },
  {
   "cell_type": "markdown",
   "metadata": {
    "Collapsed": "false",
    "colab_type": "text",
    "id": "B60eWPmYUJ90"
   },
   "source": [
    "#### Visão lógica"
   ]
  },
  {
   "cell_type": "code",
   "execution_count": null,
   "metadata": {
    "Collapsed": "false",
    "colab": {
     "base_uri": "https://localhost:8080/",
     "height": 68
    },
    "colab_type": "code",
    "id": "HhmJC1AJQuB2",
    "outputId": "4cd21fc7-c191-4c7c-a7a3-fb038de88811"
   },
   "outputs": [
    {
     "name": "stdout",
     "output_type": "stream",
     "text": [
      "[nltk_data] Downloading package punkt to /root/nltk_data...\n",
      "[nltk_data]   Unzipping tokenizers/punkt.zip.\n"
     ]
    },
    {
     "data": {
      "text/plain": [
       "True"
      ]
     },
     "execution_count": 1,
     "metadata": {
      "tags": []
     },
     "output_type": "execute_result"
    }
   ],
   "source": [
    "import nltk\n",
    "nltk.download(\"punkt\")"
   ]
  },
  {
   "cell_type": "code",
   "execution_count": null,
   "metadata": {
    "Collapsed": "false",
    "colab": {
     "base_uri": "https://localhost:8080/",
     "height": 272
    },
    "colab_type": "code",
    "id": "3zguxBXPKtL6",
    "outputId": "b8df5f1a-fff8-445f-b483-71098645188f"
   },
   "outputs": [
    {
     "data": {
      "text/plain": [
       "{'doc1': ['to', 'do', 'is', 'to', 'be', 'to', 'be', 'is', 'to', 'do'],\n",
       " 'doc2': ['to', 'be', 'or', 'not', 'to', 'be', 'i', 'am', 'what', 'i', 'am'],\n",
       " 'doc3': ['i', 'think', 'therefore', 'i', 'am', 'do', 'be', 'do', 'be', 'do'],\n",
       " 'doc4': ['do',\n",
       "  'do',\n",
       "  'do',\n",
       "  'da',\n",
       "  'da',\n",
       "  'da',\n",
       "  'let',\n",
       "  'it',\n",
       "  'be',\n",
       "  'let',\n",
       "  'it',\n",
       "  'be']}"
      ]
     },
     "execution_count": 2,
     "metadata": {
      "tags": []
     },
     "output_type": "execute_result"
    }
   ],
   "source": [
    "#Coleta\n",
    "corpus = {\n",
    "    'doc1':\"To do is to be. To be is to do!\",\n",
    "    'doc2':\"To be or not to be. I am what I am.\",\n",
    "    'doc3':\"I think therefore I am. Do be do be do.\",\n",
    "    'doc4':\"Do do do, da da da Let it be, let it be.\",\n",
    "}\n",
    "\n",
    "#Visão lógica\n",
    "doc_palavras = {} \n",
    "\n",
    "for key, doc in corpus.items():\n",
    "  #Tokenização\n",
    "  tokens = nltk.word_tokenize(doc)\n",
    "  #Normalização\n",
    "  doc_palavras[key] = [p.lower() for p in tokens if p.isalpha()]\n",
    "\n",
    "doc_palavras"
   ]
  },
  {
   "cell_type": "markdown",
   "metadata": {
    "Collapsed": "false",
    "colab_type": "text",
    "id": "qLfW537VWJV6"
   },
   "source": [
    "#### Representação Termo x Documento"
   ]
  },
  {
   "cell_type": "markdown",
   "metadata": {
    "Collapsed": "false",
    "colab_type": "text",
    "id": "lppSSnJZWeTR"
   },
   "source": [
    "Representação é útil:\n",
    "\n",
    "*   Modelos de RI\n",
    "*   Classificação de texto\n",
    "*   Análise de texto"
   ]
  },
  {
   "cell_type": "code",
   "execution_count": null,
   "metadata": {
    "Collapsed": "false",
    "colab": {
     "base_uri": "https://localhost:8080/",
     "height": 193
    },
    "colab_type": "code",
    "id": "NgI4UTFPWf87",
    "outputId": "35f68d6d-d9a5-4d44-82aa-f5a93efc9e7d"
   },
   "outputs": [
    {
     "data": {
      "text/html": [
       "<div>\n",
       "<style scoped>\n",
       "    .dataframe tbody tr th:only-of-type {\n",
       "        vertical-align: middle;\n",
       "    }\n",
       "\n",
       "    .dataframe tbody tr th {\n",
       "        vertical-align: top;\n",
       "    }\n",
       "\n",
       "    .dataframe thead th {\n",
       "        text-align: right;\n",
       "    }\n",
       "</style>\n",
       "<table border=\"1\" class=\"dataframe\">\n",
       "  <thead>\n",
       "    <tr style=\"text-align: right;\">\n",
       "      <th></th>\n",
       "      <th>am</th>\n",
       "      <th>be</th>\n",
       "      <th>da</th>\n",
       "      <th>do</th>\n",
       "      <th>is</th>\n",
       "      <th>it</th>\n",
       "      <th>let</th>\n",
       "      <th>not</th>\n",
       "      <th>or</th>\n",
       "      <th>therefore</th>\n",
       "      <th>think</th>\n",
       "      <th>to</th>\n",
       "      <th>what</th>\n",
       "    </tr>\n",
       "  </thead>\n",
       "  <tbody>\n",
       "    <tr>\n",
       "      <th>Doc1</th>\n",
       "      <td>0.000000</td>\n",
       "      <td>0.255666</td>\n",
       "      <td>0.000000</td>\n",
       "      <td>0.312717</td>\n",
       "      <td>0.489931</td>\n",
       "      <td>0.000000</td>\n",
       "      <td>0.000000</td>\n",
       "      <td>0.000000</td>\n",
       "      <td>0.000000</td>\n",
       "      <td>0.000000</td>\n",
       "      <td>0.000000</td>\n",
       "      <td>0.772535</td>\n",
       "      <td>0.000000</td>\n",
       "    </tr>\n",
       "    <tr>\n",
       "      <th>Doc2</th>\n",
       "      <td>0.523806</td>\n",
       "      <td>0.346702</td>\n",
       "      <td>0.000000</td>\n",
       "      <td>0.000000</td>\n",
       "      <td>0.000000</td>\n",
       "      <td>0.000000</td>\n",
       "      <td>0.000000</td>\n",
       "      <td>0.332191</td>\n",
       "      <td>0.332191</td>\n",
       "      <td>0.000000</td>\n",
       "      <td>0.000000</td>\n",
       "      <td>0.523806</td>\n",
       "      <td>0.332191</td>\n",
       "    </tr>\n",
       "    <tr>\n",
       "      <th>Doc3</th>\n",
       "      <td>0.290266</td>\n",
       "      <td>0.384249</td>\n",
       "      <td>0.000000</td>\n",
       "      <td>0.704987</td>\n",
       "      <td>0.000000</td>\n",
       "      <td>0.000000</td>\n",
       "      <td>0.000000</td>\n",
       "      <td>0.000000</td>\n",
       "      <td>0.000000</td>\n",
       "      <td>0.368166</td>\n",
       "      <td>0.368166</td>\n",
       "      <td>0.000000</td>\n",
       "      <td>0.000000</td>\n",
       "    </tr>\n",
       "    <tr>\n",
       "      <th>Doc4</th>\n",
       "      <td>0.000000</td>\n",
       "      <td>0.223758</td>\n",
       "      <td>0.643179</td>\n",
       "      <td>0.410533</td>\n",
       "      <td>0.000000</td>\n",
       "      <td>0.428786</td>\n",
       "      <td>0.428786</td>\n",
       "      <td>0.000000</td>\n",
       "      <td>0.000000</td>\n",
       "      <td>0.000000</td>\n",
       "      <td>0.000000</td>\n",
       "      <td>0.000000</td>\n",
       "      <td>0.000000</td>\n",
       "    </tr>\n",
       "  </tbody>\n",
       "</table>\n",
       "</div>"
      ],
      "text/plain": [
       "            am        be        da  ...     think        to      what\n",
       "Doc1  0.000000  0.255666  0.000000  ...  0.000000  0.772535  0.000000\n",
       "Doc2  0.523806  0.346702  0.000000  ...  0.000000  0.523806  0.332191\n",
       "Doc3  0.290266  0.384249  0.000000  ...  0.368166  0.000000  0.000000\n",
       "Doc4  0.000000  0.223758  0.643179  ...  0.000000  0.000000  0.000000\n",
       "\n",
       "[4 rows x 13 columns]"
      ]
     },
     "execution_count": 3,
     "metadata": {
      "tags": []
     },
     "output_type": "execute_result"
    }
   ],
   "source": [
    "#Representação TfIdf utilizando TFIdf do Sklean\n",
    "import pandas as pd\n",
    "from sklearn.feature_extraction.text import TfidfVectorizer\n",
    "\n",
    "vectorizer = TfidfVectorizer(stop_words=None)\n",
    "\n",
    "docs = []\n",
    "for _, doc in corpus.items():\n",
    "  docs.append(doc)\n",
    "  \n",
    "#Criar matriz TFIDF dos documentos\n",
    "X = vectorizer.fit_transform(docs)\n",
    "\n",
    "# To data frame\n",
    "df = pd.DataFrame(X.toarray(), columns=vectorizer.get_feature_names(),index = ['Doc%s'%i for i in range(1,X.shape[0]+1)])\n",
    "df"
   ]
  },
  {
   "cell_type": "markdown",
   "metadata": {
    "Collapsed": "false",
    "colab_type": "text",
    "id": "cgdSak3aV7D8"
   },
   "source": [
    "### Indexação simples"
   ]
  },
  {
   "cell_type": "markdown",
   "metadata": {
    "Collapsed": "false",
    "colab_type": "text",
    "id": "4UxberWcS_Tr"
   },
   "source": [
    "O `hashedindex` fornece uma estrutura de índice invertida simples de usar que é flexível o suficiente para trabalhar com todos os tipos de casos de uso."
   ]
  },
  {
   "cell_type": "code",
   "execution_count": null,
   "metadata": {
    "Collapsed": "false",
    "colab": {},
    "colab_type": "code",
    "id": "YrS_PcNhT3JS"
   },
   "outputs": [],
   "source": [
    "!pip install hashedindex -q"
   ]
  },
  {
   "cell_type": "code",
   "execution_count": null,
   "metadata": {
    "Collapsed": "false",
    "colab": {},
    "colab_type": "code",
    "id": "j9JUQFpgSxJE"
   },
   "outputs": [],
   "source": [
    "# Processo de Indexação\n",
    "import hashedindex"
   ]
  },
  {
   "cell_type": "code",
   "execution_count": null,
   "metadata": {
    "Collapsed": "false",
    "colab": {
     "base_uri": "https://localhost:8080/",
     "height": 272
    },
    "colab_type": "code",
    "id": "3jIFOwmMTD9E",
    "outputId": "624cb645-03e2-4634-9e82-9fbf946f8e77"
   },
   "outputs": [
    {
     "data": {
      "text/plain": [
       "{'documents': Counter({'doc1': 10, 'doc2': 11, 'doc3': 10, 'doc4': 12}),\n",
       " 'terms': {'am': Counter({'doc2': 2, 'doc3': 1}),\n",
       "  'be': Counter({'doc1': 2, 'doc2': 2, 'doc3': 2, 'doc4': 2}),\n",
       "  'da': Counter({'doc4': 3}),\n",
       "  'do': Counter({'doc1': 2, 'doc3': 3, 'doc4': 3}),\n",
       "  'i': Counter({'doc2': 2, 'doc3': 2}),\n",
       "  'is': Counter({'doc1': 2}),\n",
       "  'it': Counter({'doc4': 2}),\n",
       "  'let': Counter({'doc4': 2}),\n",
       "  'not': Counter({'doc2': 1}),\n",
       "  'or': Counter({'doc2': 1}),\n",
       "  'therefore': Counter({'doc3': 1}),\n",
       "  'think': Counter({'doc3': 1}),\n",
       "  'to': Counter({'doc1': 4, 'doc2': 2}),\n",
       "  'what': Counter({'doc2': 1})}}"
      ]
     },
     "execution_count": 6,
     "metadata": {
      "tags": []
     },
     "output_type": "execute_result"
    }
   ],
   "source": [
    "# Criação do Índice Invertido\n",
    "index = hashedindex.HashedIndex()\n",
    "\n",
    "for doc_name , terms in doc_palavras.items():\n",
    "  for t in terms:\n",
    "    #Adiciona Termo e Documento\n",
    "    index.add_term_occurrence(t, doc_name)\n",
    "\n",
    "index.to_dict()"
   ]
  },
  {
   "cell_type": "markdown",
   "metadata": {
    "Collapsed": "false",
    "colab_type": "text",
    "id": "n60TPEFDgbeW"
   },
   "source": [
    "## 2. Indexação com ElasticSearch"
   ]
  },
  {
   "cell_type": "markdown",
   "metadata": {
    "Collapsed": "false",
    "colab_type": "text",
    "id": "lfoUXL2nul1L"
   },
   "source": [
    "### Servidor ES"
   ]
  },
  {
   "cell_type": "code",
   "execution_count": null,
   "metadata": {
    "Collapsed": "false",
    "colab": {
     "base_uri": "https://localhost:8080/",
     "height": 119
    },
    "colab_type": "code",
    "id": "upLeYrSOfIXE",
    "outputId": "9a44a32c-bbcc-4a77-c2f3-a53ec1e0a627"
   },
   "outputs": [
    {
     "name": "stdout",
     "output_type": "stream",
     "text": [
      "\n",
      "WARNING: apt does not have a stable CLI interface. Use with caution in scripts.\n",
      "\n",
      "elasticsearch-7.8.0 100%[===================>] 304.33M  88.4MB/s    in 3.4s    \n",
      "\u001b[K     |████████████████████████████████| 194kB 3.5MB/s \n",
      "\u001b[K     |████████████████████████████████| 61kB 2.1MB/s \n",
      "\u001b[?25h"
     ]
    }
   ],
   "source": [
    "# Instalar servidor ES\n",
    "\n",
    "#Instalar Java\n",
    "!apt install default-jdk > /dev/null\n",
    "\n",
    "#Donwload ES\n",
    "!wget https://artifacts.elastic.co/downloads/elasticsearch/elasticsearch-7.8.0-linux-x86_64.tar.gz -q --show-progress\n",
    "\n",
    "#Descompacta\n",
    "!tar -xzf elasticsearch-7.8.0-linux-x86_64.tar.gz\n",
    "\n",
    "#Atribui permissão ao usuario \"daemon\"\n",
    "!chown -R daemon:daemon elasticsearch-7.8.0\n",
    "\n",
    "# Iniciar o servidor\n",
    "import os\n",
    "from subprocess import Popen, PIPE, STDOUT\n",
    "es_server = Popen(['elasticsearch-7.8.0/bin/elasticsearch'],stdout=PIPE, stderr=STDOUT,preexec_fn=lambda: os.setuid(1))  \n",
    "# as daemon)\n",
    "\n",
    "# Instalar module python\n",
    "!pip install elasticsearch -q\n",
    "!pip install elasticsearch-dsl -q"
   ]
  },
  {
   "cell_type": "code",
   "execution_count": null,
   "metadata": {
    "Collapsed": "false",
    "colab": {
     "base_uri": "https://localhost:8080/",
     "height": 34
    },
    "colab_type": "code",
    "id": "oXWgL2CWvBea",
    "outputId": "6e798179-96b4-4e40-8a0c-6da4f1d8a712"
   },
   "outputs": [
    {
     "name": "stdout",
     "output_type": "stream",
     "text": [
      "ElasticSearch ONLINE !\n"
     ]
    }
   ],
   "source": [
    "from elasticsearch import Elasticsearch\n",
    "\n",
    "es = Elasticsearch()\n",
    "if es.ping():\n",
    "  print(\"ElasticSearch ONLINE !\")"
   ]
  },
  {
   "cell_type": "markdown",
   "metadata": {
    "Collapsed": "false",
    "colab_type": "text",
    "id": "okZZXGxQvL71"
   },
   "source": [
    "### 2.1 Indexação no ES"
   ]
  },
  {
   "cell_type": "markdown",
   "metadata": {
    "Collapsed": "false",
    "colab_type": "text",
    "id": "gHOILsltJ6Up"
   },
   "source": [
    "\n",
    "\n",
    "1.   Manualmente utilizando URL da Api\n",
    "2.   módulo `elasticsearch`\n",
    "2.   módulo `elasticsearch-dsl`\n",
    "\n"
   ]
  },
  {
   "cell_type": "markdown",
   "metadata": {
    "Collapsed": "false",
    "colab_type": "text",
    "id": "c05fIYJGyELI"
   },
   "source": [
    "https://www.elastic.co/guide/en/elasticsearch/reference/master/indices-create-index.html\n",
    "\n",
    "https://elasticsearch-py.readthedocs.io/en/master/api.html#indices"
   ]
  },
  {
   "cell_type": "markdown",
   "metadata": {
    "Collapsed": "false",
    "colab_type": "text",
    "id": "AdiXw3daYjvE"
   },
   "source": [
    "### 2.2 Criar Índice"
   ]
  },
  {
   "cell_type": "markdown",
   "metadata": {
    "Collapsed": "false",
    "colab_type": "text",
    "id": "fjOOpEaTykv5"
   },
   "source": [
    "#### Domínio do Índice"
   ]
  },
  {
   "cell_type": "markdown",
   "metadata": {
    "Collapsed": "false",
    "colab_type": "text",
    "id": "kY6jt9ec-Qw4"
   },
   "source": [
    "Proposições Parlamentares https://dadosabertos.camara.leg.br/swagger/api.html#staticfile\n",
    "\n",
    "Proposições por ano de apresentação\n",
    "\n",
    "Arquivos em que cada registro contém dados sobre uma proposição apresentada à Câmara dos Deputados para deliberação, como identificador universal (URI), sigla, número, ano, ementa, temas e keywords, informações sobre a tramitação mais recente, proposições a que se relacionam, etc.\n",
    "\n",
    "Caminho para download: http://dadosabertos.camara.leg.br/arquivos/proposicoes/{formato}/proposicoes-{ano}.{formato}, em que:\n",
    "\n",
    "{ano} é o ano de apresentação das proposições\n",
    "{formato} pode ser “csv”, “xlsx”, \"ods\", “json” ou “xml”."
   ]
  },
  {
   "cell_type": "code",
   "execution_count": null,
   "metadata": {
    "Collapsed": "false",
    "colab": {},
    "colab_type": "code",
    "id": "aVSAuBb9-cw3"
   },
   "outputs": [],
   "source": [
    "#baixar dados\n",
    "!wget https://dadosabertos.camara.leg.br/arquivos/proposicoes/csv/proposicoes-2020.csv -O proposicoes-2020.csv -q "
   ]
  },
  {
   "cell_type": "code",
   "execution_count": null,
   "metadata": {
    "Collapsed": "false",
    "colab": {
     "base_uri": "https://localhost:8080/",
     "height": 564
    },
    "colab_type": "code",
    "id": "2ttmbC0S-6q5",
    "outputId": "49cf3619-2a99-484b-ccde-d4a274265159"
   },
   "outputs": [
    {
     "data": {
      "text/html": [
       "<div>\n",
       "<style scoped>\n",
       "    .dataframe tbody tr th:only-of-type {\n",
       "        vertical-align: middle;\n",
       "    }\n",
       "\n",
       "    .dataframe tbody tr th {\n",
       "        vertical-align: top;\n",
       "    }\n",
       "\n",
       "    .dataframe thead th {\n",
       "        text-align: right;\n",
       "    }\n",
       "</style>\n",
       "<table border=\"1\" class=\"dataframe\">\n",
       "  <thead>\n",
       "    <tr style=\"text-align: right;\">\n",
       "      <th></th>\n",
       "      <th>id</th>\n",
       "      <th>uri</th>\n",
       "      <th>siglaTipo</th>\n",
       "      <th>numero</th>\n",
       "      <th>ano</th>\n",
       "      <th>codTipo</th>\n",
       "      <th>descricaoTipo</th>\n",
       "      <th>ementa</th>\n",
       "      <th>ementaDetalhada</th>\n",
       "      <th>keywords</th>\n",
       "      <th>dataApresentacao</th>\n",
       "      <th>uriOrgaoNumerador</th>\n",
       "      <th>uriPropAnterior</th>\n",
       "      <th>uriPropPrincipal</th>\n",
       "      <th>uriPropPosterior</th>\n",
       "      <th>urlInteiroTeor</th>\n",
       "      <th>urnFinal</th>\n",
       "      <th>ultimoStatus_dataHora</th>\n",
       "      <th>ultimoStatus_sequencia</th>\n",
       "      <th>ultimoStatus_uriRelator</th>\n",
       "      <th>ultimoStatus_idOrgao</th>\n",
       "      <th>ultimoStatus_siglaOrgao</th>\n",
       "      <th>ultimoStatus_uriOrgao</th>\n",
       "      <th>ultimoStatus_regime</th>\n",
       "      <th>ultimoStatus_descricaoTramitacao</th>\n",
       "      <th>ultimoStatus_idTipoTramitacao</th>\n",
       "      <th>ultimoStatus_descricaoSituacao</th>\n",
       "      <th>ultimoStatus_idSituacao</th>\n",
       "      <th>ultimoStatus_despacho</th>\n",
       "      <th>ultimoStatus_url</th>\n",
       "    </tr>\n",
       "  </thead>\n",
       "  <tbody>\n",
       "    <tr>\n",
       "      <th>0</th>\n",
       "      <td>2077498</td>\n",
       "      <td>https://dadosabertos.camara.leg.br/api/v2/prop...</td>\n",
       "      <td>PL</td>\n",
       "      <td>1600</td>\n",
       "      <td>2020</td>\n",
       "      <td>139</td>\n",
       "      <td>Projeto de Lei</td>\n",
       "      <td>Altera a Lei nº 8.069, de 13 de julho de 1990,...</td>\n",
       "      <td>NaN</td>\n",
       "      <td>Alteração, Estatuto da Criança e do Adolescent...</td>\n",
       "      <td>2016-02-18T12:56:57</td>\n",
       "      <td>https://dadosabertos.camara.leg.br/api/v2/orga...</td>\n",
       "      <td>NaN</td>\n",
       "      <td>NaN</td>\n",
       "      <td>http://legis.senado.leg.br/dadosabertos/materi...</td>\n",
       "      <td>http://www.camara.gov.br/proposicoesWeb/prop_m...</td>\n",
       "      <td>NaN</td>\n",
       "      <td>2020-04-06T18:44:00</td>\n",
       "      <td>60</td>\n",
       "      <td>https://dadosabertos.camara.leg.br/api/v2/depu...</td>\n",
       "      <td>100229.0</td>\n",
       "      <td>SEPRO</td>\n",
       "      <td>https://dadosabertos.camara.leg.br/api/v2/orga...</td>\n",
       "      <td>Ordinária (Art. 151, III, RICD)</td>\n",
       "      <td>Apresentação de Proposição</td>\n",
       "      <td>100</td>\n",
       "      <td>Aguardando Recebimento</td>\n",
       "      <td>917.0</td>\n",
       "      <td>Apresentação da Emenda/Substitutivo do Senado ...</td>\n",
       "      <td>http://www.camara.gov.br/proposicoesWeb/prop_m...</td>\n",
       "    </tr>\n",
       "    <tr>\n",
       "      <th>1</th>\n",
       "      <td>2116186</td>\n",
       "      <td>https://dadosabertos.camara.leg.br/api/v2/prop...</td>\n",
       "      <td>PL</td>\n",
       "      <td>1599</td>\n",
       "      <td>2020</td>\n",
       "      <td>139</td>\n",
       "      <td>Projeto de Lei</td>\n",
       "      <td>Institui a Semana Nacional de Prevenção e Comb...</td>\n",
       "      <td>NaN</td>\n",
       "      <td>Criação, Semana Nacional de Prevenção e Combat...</td>\n",
       "      <td>2016-11-07T18:01:00</td>\n",
       "      <td>https://dadosabertos.camara.leg.br/api/v2/orga...</td>\n",
       "      <td>NaN</td>\n",
       "      <td>NaN</td>\n",
       "      <td>http://legis.senado.leg.br/dadosabertos/materi...</td>\n",
       "      <td>http://www.camara.gov.br/proposicoesWeb/prop_m...</td>\n",
       "      <td>NaN</td>\n",
       "      <td>2020-04-06T18:17:00</td>\n",
       "      <td>64</td>\n",
       "      <td>https://dadosabertos.camara.leg.br/api/v2/depu...</td>\n",
       "      <td>100229.0</td>\n",
       "      <td>SEPRO</td>\n",
       "      <td>https://dadosabertos.camara.leg.br/api/v2/orga...</td>\n",
       "      <td>Ordinária (Art. 151, III, RICD)</td>\n",
       "      <td>Apresentação de Proposição</td>\n",
       "      <td>100</td>\n",
       "      <td>Aguardando Recebimento</td>\n",
       "      <td>917.0</td>\n",
       "      <td>Apresentação da Emenda/Substitutivo do Senado ...</td>\n",
       "      <td>http://www.camara.gov.br/proposicoesWeb/prop_m...</td>\n",
       "    </tr>\n",
       "    <tr>\n",
       "      <th>2</th>\n",
       "      <td>2236217</td>\n",
       "      <td>https://dadosabertos.camara.leg.br/api/v2/prop...</td>\n",
       "      <td>SUG</td>\n",
       "      <td>1</td>\n",
       "      <td>2020</td>\n",
       "      <td>285</td>\n",
       "      <td>Sugestão</td>\n",
       "      <td>Sugere estudo visando verificar a atuação do M...</td>\n",
       "      <td>NaN</td>\n",
       "      <td>NaN</td>\n",
       "      <td>2020-01-03T11:09:00</td>\n",
       "      <td>https://dadosabertos.camara.leg.br/api/v2/orga...</td>\n",
       "      <td>NaN</td>\n",
       "      <td>NaN</td>\n",
       "      <td>NaN</td>\n",
       "      <td>http://www.camara.gov.br/proposicoesWeb/prop_m...</td>\n",
       "      <td>NaN</td>\n",
       "      <td>2020-01-03T11:09:00</td>\n",
       "      <td>1</td>\n",
       "      <td>NaN</td>\n",
       "      <td>5438.0</td>\n",
       "      <td>CLP</td>\n",
       "      <td>https://dadosabertos.camara.leg.br/api/v2/orga...</td>\n",
       "      <td>Ordinária (Art. 151, III, RICD)</td>\n",
       "      <td>Apresentação de Proposição</td>\n",
       "      <td>100</td>\n",
       "      <td>Aguardando Designação de Relator</td>\n",
       "      <td>907.0</td>\n",
       "      <td>Apresentação da Sugestão n. 1/2020, pelo Socie...</td>\n",
       "      <td>http://www.camara.gov.br/proposicoesWeb/prop_m...</td>\n",
       "    </tr>\n",
       "    <tr>\n",
       "      <th>3</th>\n",
       "      <td>2236218</td>\n",
       "      <td>https://dadosabertos.camara.leg.br/api/v2/prop...</td>\n",
       "      <td>SUG</td>\n",
       "      <td>2</td>\n",
       "      <td>2020</td>\n",
       "      <td>285</td>\n",
       "      <td>Sugestão</td>\n",
       "      <td>Sugere audiência pública para debater assuntos...</td>\n",
       "      <td>NaN</td>\n",
       "      <td>NaN</td>\n",
       "      <td>2020-01-03T11:24:00</td>\n",
       "      <td>https://dadosabertos.camara.leg.br/api/v2/orga...</td>\n",
       "      <td>NaN</td>\n",
       "      <td>NaN</td>\n",
       "      <td>NaN</td>\n",
       "      <td>http://www.camara.gov.br/proposicoesWeb/prop_m...</td>\n",
       "      <td>NaN</td>\n",
       "      <td>2020-01-03T11:24:00</td>\n",
       "      <td>1</td>\n",
       "      <td>NaN</td>\n",
       "      <td>5438.0</td>\n",
       "      <td>CLP</td>\n",
       "      <td>https://dadosabertos.camara.leg.br/api/v2/orga...</td>\n",
       "      <td>Ordinária (Art. 151, III, RICD)</td>\n",
       "      <td>Apresentação de Proposição</td>\n",
       "      <td>100</td>\n",
       "      <td>Aguardando Designação de Relator</td>\n",
       "      <td>907.0</td>\n",
       "      <td>Apresentação da Sugestão n. 2/2020, pela Socie...</td>\n",
       "      <td>http://www.camara.gov.br/proposicoesWeb/prop_m...</td>\n",
       "    </tr>\n",
       "    <tr>\n",
       "      <th>4</th>\n",
       "      <td>2236222</td>\n",
       "      <td>https://dadosabertos.camara.leg.br/api/v2/prop...</td>\n",
       "      <td>RIC</td>\n",
       "      <td>1</td>\n",
       "      <td>2020</td>\n",
       "      <td>148</td>\n",
       "      <td>Requerimento de Informação</td>\n",
       "      <td>Requer informações detalhadas ao Ministro da C...</td>\n",
       "      <td>NaN</td>\n",
       "      <td>NaN</td>\n",
       "      <td>2020-01-03T14:50:13</td>\n",
       "      <td>https://dadosabertos.camara.leg.br/api/v2/orga...</td>\n",
       "      <td>NaN</td>\n",
       "      <td>NaN</td>\n",
       "      <td>NaN</td>\n",
       "      <td>http://www.camara.gov.br/proposicoesWeb/prop_m...</td>\n",
       "      <td>NaN</td>\n",
       "      <td>2020-03-18T00:00:00</td>\n",
       "      <td>22</td>\n",
       "      <td>https://dadosabertos.camara.leg.br/api/v2/depu...</td>\n",
       "      <td>5470.0</td>\n",
       "      <td>1SECM</td>\n",
       "      <td>https://dadosabertos.camara.leg.br/api/v2/orga...</td>\n",
       "      <td>NaN</td>\n",
       "      <td>Providência Interna - Comunicação de resposta ...</td>\n",
       "      <td>1056</td>\n",
       "      <td>Aguardando Remessa ao Arquivo</td>\n",
       "      <td>931.0</td>\n",
       "      <td>Encaminhamento de resposta por meio do sistema...</td>\n",
       "      <td>NaN</td>\n",
       "    </tr>\n",
       "  </tbody>\n",
       "</table>\n",
       "</div>"
      ],
      "text/plain": [
       "        id  ...                                   ultimoStatus_url\n",
       "0  2077498  ...  http://www.camara.gov.br/proposicoesWeb/prop_m...\n",
       "1  2116186  ...  http://www.camara.gov.br/proposicoesWeb/prop_m...\n",
       "2  2236217  ...  http://www.camara.gov.br/proposicoesWeb/prop_m...\n",
       "3  2236218  ...  http://www.camara.gov.br/proposicoesWeb/prop_m...\n",
       "4  2236222  ...                                                NaN\n",
       "\n",
       "[5 rows x 30 columns]"
      ]
     },
     "execution_count": 11,
     "metadata": {
      "tags": []
     },
     "output_type": "execute_result"
    }
   ],
   "source": [
    "# Ler documentos com Pandas\n",
    "import pandas as pd\n",
    "\n",
    "proposicoes = pd.read_csv(\"proposicoes-2020.csv\", sep=\";\", encoding='utf-8', error_bad_lines=False)\n",
    "proposicoes.head()"
   ]
  },
  {
   "cell_type": "markdown",
   "metadata": {
    "Collapsed": "false",
    "colab_type": "text",
    "id": "P9DATAHuyD60"
   },
   "source": [
    "#### Criar"
   ]
  },
  {
   "cell_type": "code",
   "execution_count": null,
   "metadata": {
    "Collapsed": "false",
    "colab": {
     "base_uri": "https://localhost:8080/",
     "height": 34
    },
    "colab_type": "code",
    "id": "qJdRjrSGKT-v",
    "outputId": "de35ed76-1dd6-4360-9f0f-df36bb694dd4"
   },
   "outputs": [
    {
     "data": {
      "text/plain": [
       "{'acknowledged': True, 'index': 'politica-index', 'shards_acknowledged': True}"
      ]
     },
     "execution_count": 21,
     "metadata": {
      "tags": []
     },
     "output_type": "execute_result"
    }
   ],
   "source": [
    "# Utilizando Elasticsearch-dsl\n",
    "from elasticsearch_dsl.connections import  connections\n",
    "from elasticsearch_dsl import  Index\n",
    "\n",
    "connections.create_connection()\n",
    "\n",
    "index_name = 'politica-index'\n",
    "politica = Index(index_name)\n",
    "\n",
    "politica.settings(\n",
    "    number_of_shards=2\n",
    ")\n",
    "\n",
    "if not politica.exists():\n",
    "  politica.create()\n",
    "else:\n",
    "  politica.delete()\n",
    "\n",
    "politica.create()"
   ]
  },
  {
   "cell_type": "code",
   "execution_count": null,
   "metadata": {
    "Collapsed": "false",
    "colab": {
     "base_uri": "https://localhost:8080/",
     "height": 153
    },
    "colab_type": "code",
    "id": "OtiTTNHiTKY2",
    "outputId": "423dba00-7ae1-4b86-9b04-d81ef3e5dc89"
   },
   "outputs": [
    {
     "data": {
      "text/plain": [
       "{'politica-index': {'aliases': {},\n",
       "  'mappings': {},\n",
       "  'settings': {'index': {'creation_date': '1594478251720',\n",
       "    'number_of_replicas': '1',\n",
       "    'number_of_shards': '2',\n",
       "    'provided_name': 'politica-index',\n",
       "    'uuid': 'CEc8vLVwSLK02btogMjyGw',\n",
       "    'version': {'created': '7080099'}}}}}"
      ]
     },
     "execution_count": 22,
     "metadata": {
      "tags": []
     },
     "output_type": "execute_result"
    }
   ],
   "source": [
    "politica.get()"
   ]
  },
  {
   "cell_type": "markdown",
   "metadata": {
    "Collapsed": "false",
    "colab_type": "text",
    "id": "Iclr-RVHR_F6"
   },
   "source": [
    "### 2.3 Análise dos documentos"
   ]
  },
  {
   "cell_type": "code",
   "execution_count": null,
   "metadata": {
    "Collapsed": "false",
    "colab": {},
    "colab_type": "code",
    "id": "d4upcvnCXHaE"
   },
   "outputs": [],
   "source": [
    "# ANALISADOR\n",
    "from elasticsearch_dsl.analysis import analyzer, char_filter, tokenizer, token_filter\n",
    "\n",
    "#Char\n",
    "char_filter_ptbr = char_filter('html_strip')\n",
    "\n",
    "#Tokenizador\n",
    "tokenizador_ptbr = tokenizer(\"standard\")\n",
    "\n",
    "#Analisador\n",
    "stop_ptbr = token_filter(\"brazilian_stop\", type=\"stop\", stopwords=\"_brazilian_\")\n",
    "stem_ptbr = token_filter(\"brazilian_stemmer\", type=\"stemmer\", stopwords=\"_brazilian_\")\n",
    "\n",
    "\n",
    "pt_analyzer = analyzer(\n",
    "    'pt_analyzer',\n",
    "    tokenizer= tokenizador_ptbr,\n",
    "    filter = [stop_ptbr, stem_ptbr, \"lowercase\"],\n",
    "    char_filter = [char_filter_ptbr]\n",
    ")\n"
   ]
  },
  {
   "cell_type": "code",
   "execution_count": null,
   "metadata": {
    "Collapsed": "false",
    "colab": {
     "base_uri": "https://localhost:8080/",
     "height": 34
    },
    "colab_type": "code",
    "id": "aQNgBuunVn5y",
    "outputId": "810c1641-5e49-4347-de07-8b5b9736c83d"
   },
   "outputs": [
    {
     "data": {
      "text/plain": [
       "['test', 'aula', 'dri']"
      ]
     },
     "execution_count": 37,
     "metadata": {
      "tags": []
     },
     "output_type": "execute_result"
    }
   ],
   "source": [
    "res = pt_analyzer.simulate(\"<br> teste Aula <b> DRI !\")\n",
    "[t.token for t in res.tokens]"
   ]
  },
  {
   "cell_type": "markdown",
   "metadata": {
    "Collapsed": "false",
    "colab_type": "text",
    "id": "amx0J-C58hCF"
   },
   "source": [
    "### 2.4 Mapeamento"
   ]
  },
  {
   "cell_type": "markdown",
   "metadata": {
    "Collapsed": "false",
    "colab_type": "text",
    "id": "6MyUAj2CdPPN"
   },
   "source": [
    "\n",
    "\n",
    "https://www.elastic.co/guide/en/elasticsearch/reference/current/mapping.html"
   ]
  },
  {
   "cell_type": "code",
   "execution_count": null,
   "metadata": {
    "Collapsed": "false",
    "colab": {},
    "colab_type": "code",
    "id": "83z0-dZfWDul"
   },
   "outputs": [],
   "source": [
    "# Criar a entidade\n",
    "from elasticsearch_dsl import Document, Text, Date, Keyword\n",
    "\n",
    "class Projeto(Document):\n",
    "  ementa = Text(analyzer = pt_analyzer)\n",
    "  topicos = Text()\n",
    "  data = Date() \n",
    "  tipo = Keyword()\n"
   ]
  },
  {
   "cell_type": "code",
   "execution_count": null,
   "metadata": {
    "Collapsed": "false",
    "colab": {
     "base_uri": "https://localhost:8080/",
     "height": 34
    },
    "colab_type": "code",
    "id": "Wcvzw9vxP7nO",
    "outputId": "4fbb4a1c-4d01-4ae8-f3ac-327649b48ec4"
   },
   "outputs": [
    {
     "data": {
      "text/plain": [
       "{'acknowledged': True, 'shards_acknowledged': True}"
      ]
     },
     "execution_count": 44,
     "metadata": {
      "tags": []
     },
     "output_type": "execute_result"
    }
   ],
   "source": [
    "# Mapear no index\n",
    "politica.document(Projeto)\n",
    "politica.close()\n",
    "Projeto.init()\n",
    "politica.open()\n",
    "\n"
   ]
  },
  {
   "cell_type": "code",
   "execution_count": null,
   "metadata": {
    "Collapsed": "false",
    "colab": {
     "base_uri": "https://localhost:8080/",
     "height": 85
    },
    "colab_type": "code",
    "id": "sLiH1sU2RLll",
    "outputId": "2f3f7ef6-ca9c-4569-cbf2-b5e5b1572c50"
   },
   "outputs": [
    {
     "data": {
      "text/plain": [
       "{'politica-index': {'mappings': {'properties': {'data': {'type': 'date'},\n",
       "    'ementa': {'analyzer': 'pt_analyzer', 'type': 'text'},\n",
       "    'tipo': {'type': 'keyword'},\n",
       "    'topicos': {'type': 'text'}}}}}"
      ]
     },
     "execution_count": 45,
     "metadata": {
      "tags": []
     },
     "output_type": "execute_result"
    }
   ],
   "source": [
    "#Visualizar Mappeamento\n",
    "politica.get_mapping()"
   ]
  },
  {
   "cell_type": "markdown",
   "metadata": {
    "Collapsed": "false",
    "colab_type": "text",
    "id": "-2Az1yRsYpAf"
   },
   "source": [
    "## 3 Manipular documentos"
   ]
  },
  {
   "cell_type": "markdown",
   "metadata": {
    "Collapsed": "false",
    "colab_type": "text",
    "id": "Bs3g8vvgvZ85"
   },
   "source": [
    "Ciclo de vida do documento (CRUD)\n",
    "\n",
    "\n",
    "1.   Criar\n",
    "2.   Ler \n",
    "3.   Atualizar\n",
    "4.   Deletar\n"
   ]
  },
  {
   "cell_type": "markdown",
   "metadata": {
    "Collapsed": "false",
    "colab_type": "text",
    "id": "jKF5Ahiiv90Z"
   },
   "source": [
    "#### 3.1 Criar Documento"
   ]
  },
  {
   "cell_type": "code",
   "execution_count": null,
   "metadata": {
    "Collapsed": "false",
    "colab": {
     "base_uri": "https://localhost:8080/",
     "height": 105
    },
    "colab_type": "code",
    "id": "4vq5phK7x-70",
    "outputId": "573d2b8f-5416-4879-ecc7-44d2ecc43d90"
   },
   "outputs": [
    {
     "data": {
      "text/plain": [
       "{'data': ['2020-01-03T11:24:00'],\n",
       " 'ementa': ('Altera a Lei nº 8.069, de 13 de julho de 1990, que \"dispõe sobre o Estatuto da Criança e do Adolescente, e dá outras providências\", para proibir a venda de produtos fumígenos a crianças e adolescentes.',),\n",
       " 'tipo': ('PL',),\n",
       " 'topicos': 'Alteração, Estatuto da Criança e do Adolescente, proibição, comercialização, criança, adolescente, produto fumígeno, tabaco, cachimbo, narguilé, cigarro.'}"
      ]
     },
     "execution_count": 46,
     "metadata": {
      "tags": []
     },
     "output_type": "execute_result"
    }
   ],
   "source": [
    "# Documento de Exemplo\n",
    "\n",
    "projeto1 = Projeto()\n",
    "\n",
    "projeto1.meta.id = 1\n",
    "projeto1.tipo=\"PL\",\n",
    "projeto1.ementa='Altera a Lei nº 8.069, de 13 de julho de 1990, que \"dispõe sobre o Estatuto da Criança e do Adolescente, e dá outras providências\", para proibir a venda de produtos fumígenos a crianças e adolescentes.',\n",
    "projeto1.data=\"2020-01-03T11:24:00\",\n",
    "projeto1.topicos=\"Alteração, Estatuto da Criança e do Adolescente, proibição, comercialização, criança, adolescente, produto fumígeno, tabaco, cachimbo, narguilé, cigarro.\"\n",
    "\n",
    "projeto1.to_dict()"
   ]
  },
  {
   "cell_type": "code",
   "execution_count": null,
   "metadata": {
    "Collapsed": "false",
    "colab": {
     "base_uri": "https://localhost:8080/",
     "height": 35
    },
    "colab_type": "code",
    "id": "a-Qnhw0gGFtu",
    "outputId": "b535d273-62c0-4374-918a-0dbb6abfcdcb"
   },
   "outputs": [
    {
     "data": {
      "application/vnd.google.colaboratory.intrinsic": {
       "type": "string"
      },
      "text/plain": [
       "'created'"
      ]
     },
     "execution_count": 47,
     "metadata": {
      "tags": []
     },
     "output_type": "execute_result"
    }
   ],
   "source": [
    "#Adiconar documento\n",
    "projeto1.save()"
   ]
  },
  {
   "cell_type": "markdown",
   "metadata": {
    "Collapsed": "false",
    "colab_type": "text",
    "id": "4ELmyhsdDJRr"
   },
   "source": [
    "#### 3.2 Ler Documento"
   ]
  },
  {
   "cell_type": "code",
   "execution_count": null,
   "metadata": {
    "Collapsed": "false",
    "colab": {
     "base_uri": "https://localhost:8080/",
     "height": 375
    },
    "colab_type": "code",
    "id": "79ug8sAsDJRs",
    "outputId": "b6ce20fd-ce68-4dcb-bf22-c843e4e28274"
   },
   "outputs": [
    {
     "ename": "NotFoundError",
     "evalue": "ignored",
     "output_type": "error",
     "traceback": [
      "\u001b[0;31m---------------------------------------------------------------------------\u001b[0m",
      "\u001b[0;31mNotFoundError\u001b[0m                             Traceback (most recent call last)",
      "\u001b[0;32m<ipython-input-55-c56d3cc763c6>\u001b[0m in \u001b[0;36m<module>\u001b[0;34m()\u001b[0m\n\u001b[1;32m      1\u001b[0m \u001b[0;31m#ler documento\u001b[0m\u001b[0;34m\u001b[0m\u001b[0;34m\u001b[0m\u001b[0;34m\u001b[0m\u001b[0m\n\u001b[0;32m----> 2\u001b[0;31m \u001b[0mprojeto2\u001b[0m \u001b[0;34m=\u001b[0m  \u001b[0mProjeto\u001b[0m\u001b[0;34m.\u001b[0m\u001b[0mget\u001b[0m\u001b[0;34m(\u001b[0m\u001b[0mid\u001b[0m\u001b[0;34m=\u001b[0m\u001b[0;36m1\u001b[0m\u001b[0;34m)\u001b[0m\u001b[0;34m\u001b[0m\u001b[0;34m\u001b[0m\u001b[0m\n\u001b[0m\u001b[1;32m      3\u001b[0m \u001b[0mprojeto2\u001b[0m\u001b[0;34m.\u001b[0m\u001b[0mto_dict\u001b[0m\u001b[0;34m(\u001b[0m\u001b[0;34m)\u001b[0m\u001b[0;34m\u001b[0m\u001b[0;34m\u001b[0m\u001b[0m\n",
      "\u001b[0;32m/usr/local/lib/python3.6/dist-packages/elasticsearch_dsl/document.py\u001b[0m in \u001b[0;36mget\u001b[0;34m(cls, id, using, index, **kwargs)\u001b[0m\n\u001b[1;32m    185\u001b[0m             \u001b[0mindex\u001b[0m\u001b[0;34m=\u001b[0m\u001b[0mcls\u001b[0m\u001b[0;34m.\u001b[0m\u001b[0m_default_index\u001b[0m\u001b[0;34m(\u001b[0m\u001b[0mindex\u001b[0m\u001b[0;34m)\u001b[0m\u001b[0;34m,\u001b[0m\u001b[0;34m\u001b[0m\u001b[0;34m\u001b[0m\u001b[0m\n\u001b[1;32m    186\u001b[0m             \u001b[0mid\u001b[0m\u001b[0;34m=\u001b[0m\u001b[0mid\u001b[0m\u001b[0;34m,\u001b[0m\u001b[0;34m\u001b[0m\u001b[0;34m\u001b[0m\u001b[0m\n\u001b[0;32m--> 187\u001b[0;31m             \u001b[0;34m**\u001b[0m\u001b[0mkwargs\u001b[0m\u001b[0;34m\u001b[0m\u001b[0;34m\u001b[0m\u001b[0m\n\u001b[0m\u001b[1;32m    188\u001b[0m         )\n\u001b[1;32m    189\u001b[0m         \u001b[0;32mif\u001b[0m \u001b[0;32mnot\u001b[0m \u001b[0mdoc\u001b[0m\u001b[0;34m.\u001b[0m\u001b[0mget\u001b[0m\u001b[0;34m(\u001b[0m\u001b[0;34m'found'\u001b[0m\u001b[0;34m,\u001b[0m \u001b[0;32mFalse\u001b[0m\u001b[0;34m)\u001b[0m\u001b[0;34m:\u001b[0m\u001b[0;34m\u001b[0m\u001b[0;34m\u001b[0m\u001b[0m\n",
      "\u001b[0;32m/usr/local/lib/python3.6/dist-packages/elasticsearch/client/utils.py\u001b[0m in \u001b[0;36m_wrapped\u001b[0;34m(*args, **kwargs)\u001b[0m\n\u001b[1;32m    137\u001b[0m                 \u001b[0;32mif\u001b[0m \u001b[0mp\u001b[0m \u001b[0;32min\u001b[0m \u001b[0mkwargs\u001b[0m\u001b[0;34m:\u001b[0m\u001b[0;34m\u001b[0m\u001b[0;34m\u001b[0m\u001b[0m\n\u001b[1;32m    138\u001b[0m                     \u001b[0mparams\u001b[0m\u001b[0;34m[\u001b[0m\u001b[0mp\u001b[0m\u001b[0;34m]\u001b[0m \u001b[0;34m=\u001b[0m \u001b[0mkwargs\u001b[0m\u001b[0;34m.\u001b[0m\u001b[0mpop\u001b[0m\u001b[0;34m(\u001b[0m\u001b[0mp\u001b[0m\u001b[0;34m)\u001b[0m\u001b[0;34m\u001b[0m\u001b[0;34m\u001b[0m\u001b[0m\n\u001b[0;32m--> 139\u001b[0;31m             \u001b[0;32mreturn\u001b[0m \u001b[0mfunc\u001b[0m\u001b[0;34m(\u001b[0m\u001b[0;34m*\u001b[0m\u001b[0margs\u001b[0m\u001b[0;34m,\u001b[0m \u001b[0mparams\u001b[0m\u001b[0;34m=\u001b[0m\u001b[0mparams\u001b[0m\u001b[0;34m,\u001b[0m \u001b[0mheaders\u001b[0m\u001b[0;34m=\u001b[0m\u001b[0mheaders\u001b[0m\u001b[0;34m,\u001b[0m \u001b[0;34m**\u001b[0m\u001b[0mkwargs\u001b[0m\u001b[0;34m)\u001b[0m\u001b[0;34m\u001b[0m\u001b[0;34m\u001b[0m\u001b[0m\n\u001b[0m\u001b[1;32m    140\u001b[0m \u001b[0;34m\u001b[0m\u001b[0m\n\u001b[1;32m    141\u001b[0m         \u001b[0;32mreturn\u001b[0m \u001b[0m_wrapped\u001b[0m\u001b[0;34m\u001b[0m\u001b[0;34m\u001b[0m\u001b[0m\n",
      "\u001b[0;32m/usr/local/lib/python3.6/dist-packages/elasticsearch/client/__init__.py\u001b[0m in \u001b[0;36mget\u001b[0;34m(self, index, id, doc_type, params, headers)\u001b[0m\n\u001b[1;32m    973\u001b[0m \u001b[0;34m\u001b[0m\u001b[0m\n\u001b[1;32m    974\u001b[0m         return self.transport.perform_request(\n\u001b[0;32m--> 975\u001b[0;31m             \u001b[0;34m\"GET\"\u001b[0m\u001b[0;34m,\u001b[0m \u001b[0m_make_path\u001b[0m\u001b[0;34m(\u001b[0m\u001b[0mindex\u001b[0m\u001b[0;34m,\u001b[0m \u001b[0mdoc_type\u001b[0m\u001b[0;34m,\u001b[0m \u001b[0mid\u001b[0m\u001b[0;34m)\u001b[0m\u001b[0;34m,\u001b[0m \u001b[0mparams\u001b[0m\u001b[0;34m=\u001b[0m\u001b[0mparams\u001b[0m\u001b[0;34m,\u001b[0m \u001b[0mheaders\u001b[0m\u001b[0;34m=\u001b[0m\u001b[0mheaders\u001b[0m\u001b[0;34m\u001b[0m\u001b[0;34m\u001b[0m\u001b[0m\n\u001b[0m\u001b[1;32m    976\u001b[0m         )\n\u001b[1;32m    977\u001b[0m \u001b[0;34m\u001b[0m\u001b[0m\n",
      "\u001b[0;32m/usr/local/lib/python3.6/dist-packages/elasticsearch/transport.py\u001b[0m in \u001b[0;36mperform_request\u001b[0;34m(self, method, url, headers, params, body)\u001b[0m\n\u001b[1;32m    350\u001b[0m                     \u001b[0mheaders\u001b[0m\u001b[0;34m=\u001b[0m\u001b[0mheaders\u001b[0m\u001b[0;34m,\u001b[0m\u001b[0;34m\u001b[0m\u001b[0;34m\u001b[0m\u001b[0m\n\u001b[1;32m    351\u001b[0m                     \u001b[0mignore\u001b[0m\u001b[0;34m=\u001b[0m\u001b[0mignore\u001b[0m\u001b[0;34m,\u001b[0m\u001b[0;34m\u001b[0m\u001b[0;34m\u001b[0m\u001b[0m\n\u001b[0;32m--> 352\u001b[0;31m                     \u001b[0mtimeout\u001b[0m\u001b[0;34m=\u001b[0m\u001b[0mtimeout\u001b[0m\u001b[0;34m,\u001b[0m\u001b[0;34m\u001b[0m\u001b[0;34m\u001b[0m\u001b[0m\n\u001b[0m\u001b[1;32m    353\u001b[0m                 )\n\u001b[1;32m    354\u001b[0m \u001b[0;34m\u001b[0m\u001b[0m\n",
      "\u001b[0;32m/usr/local/lib/python3.6/dist-packages/elasticsearch/connection/http_urllib3.py\u001b[0m in \u001b[0;36mperform_request\u001b[0;34m(self, method, url, params, body, timeout, ignore, headers)\u001b[0m\n\u001b[1;32m    254\u001b[0m                 \u001b[0mmethod\u001b[0m\u001b[0;34m,\u001b[0m \u001b[0mfull_url\u001b[0m\u001b[0;34m,\u001b[0m \u001b[0murl\u001b[0m\u001b[0;34m,\u001b[0m \u001b[0morig_body\u001b[0m\u001b[0;34m,\u001b[0m \u001b[0mduration\u001b[0m\u001b[0;34m,\u001b[0m \u001b[0mresponse\u001b[0m\u001b[0;34m.\u001b[0m\u001b[0mstatus\u001b[0m\u001b[0;34m,\u001b[0m \u001b[0mraw_data\u001b[0m\u001b[0;34m\u001b[0m\u001b[0;34m\u001b[0m\u001b[0m\n\u001b[1;32m    255\u001b[0m             )\n\u001b[0;32m--> 256\u001b[0;31m             \u001b[0mself\u001b[0m\u001b[0;34m.\u001b[0m\u001b[0m_raise_error\u001b[0m\u001b[0;34m(\u001b[0m\u001b[0mresponse\u001b[0m\u001b[0;34m.\u001b[0m\u001b[0mstatus\u001b[0m\u001b[0;34m,\u001b[0m \u001b[0mraw_data\u001b[0m\u001b[0;34m)\u001b[0m\u001b[0;34m\u001b[0m\u001b[0;34m\u001b[0m\u001b[0m\n\u001b[0m\u001b[1;32m    257\u001b[0m \u001b[0;34m\u001b[0m\u001b[0m\n\u001b[1;32m    258\u001b[0m         self.log_request_success(\n",
      "\u001b[0;32m/usr/local/lib/python3.6/dist-packages/elasticsearch/connection/base.py\u001b[0m in \u001b[0;36m_raise_error\u001b[0;34m(self, status_code, raw_data)\u001b[0m\n\u001b[1;32m    286\u001b[0m \u001b[0;34m\u001b[0m\u001b[0m\n\u001b[1;32m    287\u001b[0m         raise HTTP_EXCEPTIONS.get(status_code, TransportError)(\n\u001b[0;32m--> 288\u001b[0;31m             \u001b[0mstatus_code\u001b[0m\u001b[0;34m,\u001b[0m \u001b[0merror_message\u001b[0m\u001b[0;34m,\u001b[0m \u001b[0madditional_info\u001b[0m\u001b[0;34m\u001b[0m\u001b[0;34m\u001b[0m\u001b[0m\n\u001b[0m\u001b[1;32m    289\u001b[0m         )\n\u001b[1;32m    290\u001b[0m \u001b[0;34m\u001b[0m\u001b[0m\n",
      "\u001b[0;31mNotFoundError\u001b[0m: NotFoundError(404, '{\"_index\":\"politica-index\",\"_type\":\"_doc\",\"_id\":\"1\",\"found\":false}')"
     ]
    }
   ],
   "source": [
    "#ler documento\n",
    "projeto2 =  Projeto.get(id=1)\n",
    "projeto2.to_dict()"
   ]
  },
  {
   "cell_type": "markdown",
   "metadata": {
    "Collapsed": "false",
    "colab_type": "text",
    "id": "VVeddHbUDunW"
   },
   "source": [
    "#### 3.3 Atualizar Documento"
   ]
  },
  {
   "cell_type": "code",
   "execution_count": null,
   "metadata": {
    "Collapsed": "false",
    "colab": {
     "base_uri": "https://localhost:8080/",
     "height": 35
    },
    "colab_type": "code",
    "id": "nEqQI9mEDunY",
    "outputId": "9170fdc3-11a3-469c-adc7-2be6dc3ebcd8"
   },
   "outputs": [
    {
     "data": {
      "application/vnd.google.colaboratory.intrinsic": {
       "type": "string"
      },
      "text/plain": [
       "'updated'"
      ]
     },
     "execution_count": 52,
     "metadata": {
      "tags": []
     },
     "output_type": "execute_result"
    }
   ],
   "source": [
    "#Atualizar\n",
    "projeto2 =  Projeto.get(id=1)\n",
    "projeto2.tipo = \"PL2\"\n",
    "projeto2.save()"
   ]
  },
  {
   "cell_type": "markdown",
   "metadata": {
    "Collapsed": "false",
    "colab_type": "text",
    "id": "Fqc-a24GD-Qb"
   },
   "source": [
    "#### 3.4 Remover Documento"
   ]
  },
  {
   "cell_type": "code",
   "execution_count": null,
   "metadata": {
    "Collapsed": "false",
    "colab": {},
    "colab_type": "code",
    "id": "7LBRBTfrD-Qc"
   },
   "outputs": [],
   "source": [
    "#Deletar documento\n",
    "projeto2 =  Projeto.get(id=1)\n",
    "projeto2.delete()"
   ]
  },
  {
   "cell_type": "markdown",
   "metadata": {
    "Collapsed": "false",
    "colab_type": "text",
    "id": "8qjA3LPBE49t"
   },
   "source": [
    "#### 3.5 Carregar em lote"
   ]
  },
  {
   "cell_type": "code",
   "execution_count": null,
   "metadata": {
    "Collapsed": "false",
    "colab": {
     "base_uri": "https://localhost:8080/",
     "height": 34
    },
    "colab_type": "code",
    "id": "NZpUrNbXE49w",
    "outputId": "27760628-2f97-48ac-83ca-6b86fb99cc4a"
   },
   "outputs": [
    {
     "data": {
      "text/plain": [
       "(2, [])"
      ]
     },
     "execution_count": 56,
     "metadata": {
      "tags": []
     },
     "output_type": "execute_result"
    }
   ],
   "source": [
    "#Usando Bulk\n",
    "from elasticsearch.helpers import bulk\n",
    "\n",
    "projeto1 = Projeto()\n",
    "\n",
    "projeto1.meta.id = 1\n",
    "projeto1.tipo=\"PL\",\n",
    "projeto1.ementa='Altera a Lei nº 8.069, de 13 de julho de 1990, que \"dispõe sobre o Estatuto da Criança e do Adolescente, e dá outras providências\", para proibir a venda de produtos fumígenos a crianças e adolescentes.',\n",
    "projeto1.data=\"2020-01-03T11:24:00\",\n",
    "projeto1.topicos=\"Alteração, Estatuto da Criança e do Adolescente, proibição, comercialização, criança, adolescente, produto fumígeno, tabaco, cachimbo, narguilé, cigarro.\"\n",
    "\n",
    "\n",
    "projeto2 = Projeto()\n",
    "\n",
    "projeto2.meta.id = 2\n",
    "projeto2.tipo=\"PL2\",\n",
    "projeto2.ementa='Altera a Lei nº 8.069, de 13 de julho de 1990, que \"dispõe sobre o Estatuto da Criança e do Adolescente, e dá outras providências\", para proibir a venda de produtos fumígenos a crianças e adolescentes.',\n",
    "projeto2.data=\"2020-01-03T11:24:00\",\n",
    "projeto2.topicos=\"Alteração, Estatuto da Criança e do Adolescente, proibição, comercialização, criança, adolescente, produto fumígeno, tabaco, cachimbo, narguilé, cigarro.\"\n",
    "\n",
    "\n",
    "projetos = [projeto1, projeto2]\n",
    "\n",
    "bulk(client=politica.connection, actions=(p.to_dict(include_meta=True) for p in projetos),index=politica._name)\n"
   ]
  },
  {
   "cell_type": "code",
   "execution_count": null,
   "metadata": {
    "Collapsed": "false",
    "colab": {
     "base_uri": "https://localhost:8080/",
     "height": 34
    },
    "colab_type": "code",
    "id": "59z1VXbzZ3yq",
    "outputId": "b50ce986-3765-4c66-8abe-ce7374eda6c8"
   },
   "outputs": [
    {
     "data": {
      "text/plain": [
       "(20024, [])"
      ]
     },
     "execution_count": 59,
     "metadata": {
      "tags": []
     },
     "output_type": "execute_result"
    }
   ],
   "source": [
    "from elasticsearch.helpers import bulk\n",
    "\n",
    "proposicoes = proposicoes.fillna('')\n",
    "\n",
    "projetos = []\n",
    "for p in proposicoes.itertuples(index=False):\n",
    "  projeto1 = Projeto()\n",
    "\n",
    "  projeto1.meta.id = p.id\n",
    "  projeto1.tipo = p.siglaTipo\n",
    "  projeto1.ementa = p.ementa\n",
    "  projeto1.data= p.dataApresentacao\n",
    "  projeto1.topicos=p.keywords\n",
    "\n",
    "  projetos.append(projeto1)\n",
    "\n",
    "\n",
    "bulk(client=politica.connection, actions=(p.to_dict(include_meta=True) for p in projetos),index=politica._name)\n"
   ]
  },
  {
   "cell_type": "code",
   "execution_count": null,
   "metadata": {
    "Collapsed": "false",
    "colab": {
     "base_uri": "https://localhost:8080/",
     "height": 323
    },
    "colab_type": "code",
    "id": "iqpdnORfbOd8",
    "outputId": "53e085ef-46eb-4560-f8aa-e39201f38990"
   },
   "outputs": [
    {
     "data": {
      "text/plain": [
       "{'politica-index': {'aliases': {},\n",
       "  'mappings': {'properties': {'data': {'type': 'date'},\n",
       "    'ementa': {'analyzer': 'pt_analyzer', 'type': 'text'},\n",
       "    'tipo': {'type': 'keyword'},\n",
       "    'topicos': {'type': 'text'}}},\n",
       "  'settings': {'index': {'analysis': {'analyzer': {'pt_analyzer': {'char_filter': ['html_strip'],\n",
       "       'filter': ['brazilian_stop', 'brazilian_stemmer', 'lowercase'],\n",
       "       'tokenizer': 'standard',\n",
       "       'type': 'custom'}},\n",
       "     'filter': {'brazilian_stemmer': {'stopwords': '_brazilian_',\n",
       "       'type': 'stemmer'},\n",
       "      'brazilian_stop': {'stopwords': '_brazilian_', 'type': 'stop'}}},\n",
       "    'creation_date': '1594478251720',\n",
       "    'number_of_replicas': '1',\n",
       "    'number_of_shards': '2',\n",
       "    'provided_name': 'politica-index',\n",
       "    'uuid': 'CEc8vLVwSLK02btogMjyGw',\n",
       "    'version': {'created': '7080099'}}}}}"
      ]
     },
     "execution_count": 62,
     "metadata": {
      "tags": []
     },
     "output_type": "execute_result"
    }
   ],
   "source": []
  },
  {
   "cell_type": "markdown",
   "metadata": {
    "Collapsed": "false",
    "colab_type": "text",
    "id": "ZgMpfVf7x1NP"
   },
   "source": [
    "## Lab 2 Prático"
   ]
  },
  {
   "cell_type": "markdown",
   "metadata": {
    "Collapsed": "false",
    "colab_type": "text",
    "id": "FjZkjrdBiKay"
   },
   "source": [
    "Atividade 2: indexar documentos no Elasticsearch. Utilize as atividades de exemplo acima como referência:\n",
    "\n",
    "\n",
    "1.   Criar índice\n",
    "2.   Análise dos documentos\n",
    "3.   Mapeamento\n",
    "4.   Inserir documentos no ES\n",
    "\n",
    "\n"
   ]
  },
  {
   "cell_type": "markdown",
   "metadata": {
    "Collapsed": "false",
    "colab_type": "text",
    "id": "rCAOmaHXjBCb"
   },
   "source": [
    "### ATIVIDADE 2"
   ]
  },
  {
   "cell_type": "markdown",
   "metadata": {
    "Collapsed": "false",
    "colab_type": "text",
    "id": "VlS-3oPCjEWz"
   },
   "source": [
    "Utilizando os arquivos baixados no Lab 1 para indexá-los no Elasticsearch"
   ]
  },
  {
   "cell_type": "code",
   "execution_count": null,
   "metadata": {
    "Collapsed": "false",
    "colab": {},
    "colab_type": "code",
    "id": "oVitB5oLlc2O"
   },
   "outputs": [],
   "source": [
    "#IMPORTS LIBS"
   ]
  },
  {
   "cell_type": "code",
   "execution_count": null,
   "metadata": {
    "Collapsed": "false",
    "colab": {},
    "colab_type": "code",
    "id": "Ig9DertOjF3D"
   },
   "outputs": [],
   "source": [
    "#COLETA"
   ]
  },
  {
   "cell_type": "code",
   "execution_count": null,
   "metadata": {
    "Collapsed": "false",
    "colab": {},
    "colab_type": "code",
    "id": "hf960gFJjk0v"
   },
   "outputs": [],
   "source": [
    "#INDEXACAO"
   ]
  },
  {
   "cell_type": "code",
   "execution_count": null,
   "metadata": {
    "Collapsed": "false",
    "colab": {},
    "colab_type": "code",
    "id": "-NQhfKLwj5ZY"
   },
   "outputs": [],
   "source": [
    "#ANALISE"
   ]
  },
  {
   "cell_type": "code",
   "execution_count": null,
   "metadata": {
    "Collapsed": "false",
    "colab": {},
    "colab_type": "code",
    "id": "omCpujlVkUv2"
   },
   "outputs": [],
   "source": [
    "#MAPEAMENTO"
   ]
  },
  {
   "cell_type": "code",
   "execution_count": null,
   "metadata": {
    "Collapsed": "false",
    "colab": {},
    "colab_type": "code",
    "id": "0Gf2Xj0qk1qv"
   },
   "outputs": [],
   "source": [
    "#BULK"
   ]
  }
 ],
 "metadata": {
  "colab": {
   "collapsed_sections": [
    "TO1ZHW6kTrpe",
    "B60eWPmYUJ90",
    "qLfW537VWJV6",
    "cgdSak3aV7D8",
    "fjOOpEaTykv5",
    "ZgMpfVf7x1NP"
   ],
   "name": "LAB - 2 - DRI.ipynb",
   "provenance": [],
   "toc_visible": true
  },
  "kernelspec": {
   "display_name": "Python 3",
   "language": "python",
   "name": "python3"
  },
  "language_info": {
   "codemirror_mode": {
    "name": "ipython",
    "version": 3
   },
   "file_extension": ".py",
   "mimetype": "text/x-python",
   "name": "python",
   "nbconvert_exporter": "python",
   "pygments_lexer": "ipython3",
   "version": "3.7.6"
  }
 },
 "nbformat": 4,
 "nbformat_minor": 4
}
