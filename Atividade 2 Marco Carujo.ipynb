{
 "cells": [
  {
   "cell_type": "code",
   "execution_count": 19,
   "metadata": {
    "Collapsed": "false"
   },
   "outputs": [
    {
     "name": "stdout",
     "output_type": "stream",
     "text": [
      "The lab_black extension is already loaded. To reload it, use:\n",
      "  %reload_ext lab_black\n"
     ]
    }
   ],
   "source": [
    "%load_ext lab_black"
   ]
  },
  {
   "cell_type": "markdown",
   "metadata": {
    "Collapsed": "false"
   },
   "source": [
    "### Aluno Marco Antonio Moreira Carujo"
   ]
  },
  {
   "cell_type": "markdown",
   "metadata": {
    "Collapsed": "false"
   },
   "source": [
    "# ATIVIDADE 2\n",
    "Utilizando os arquivos baixados no Lab 1 para indexá-los no Elasticsearch"
   ]
  },
  {
   "cell_type": "code",
   "execution_count": 20,
   "metadata": {
    "Collapsed": "false"
   },
   "outputs": [],
   "source": [
    "from urllib.request import urlopen\n",
    "from bs4 import BeautifulSoup\n",
    "from joblib import Parallel, delayed"
   ]
  },
  {
   "cell_type": "code",
   "execution_count": 21,
   "metadata": {
    "Collapsed": "false"
   },
   "outputs": [
    {
     "name": "stdout",
     "output_type": "stream",
     "text": [
      "Quantos artigos temos no site? 75 artigos.\n"
     ]
    }
   ],
   "source": [
    "response = urlopen(\"https://sol.sbc.org.br/index.php/ctrle\")  # Comprimido\n",
    "response = urlopen(\"https://sol.sbc.org.br/index.php/ctrle/issue/view/486\")  # Completo\n",
    "html = response.read()\n",
    "\n",
    "soup = BeautifulSoup(html, \"html.parser\")\n",
    "elements = soup.find_all(\"a\", class_=\"obj_galley_link pdf\")\n",
    "authors = soup.find_all(\"div\", class_=\"authors\")\n",
    "title = soup.find_all(\"div\", class_=\"title\")\n",
    "print(\"Quantos artigos temos no site?\", len(elements), \"artigos.\")"
   ]
  },
  {
   "cell_type": "code",
   "execution_count": 22,
   "metadata": {
    "Collapsed": "false"
   },
   "outputs": [],
   "source": [
    "def remove_tab_br(string):\n",
    "    return string.get_text().replace(\"\\n\", \"\").replace(\"\\t\", \"\")\n",
    "\n",
    "\n",
    "# Links de download (porém os arquivos já estão baixados)\n",
    "links_to_view = [el[\"href\"] for el in elements]\n",
    "links_to_download = [el.replace(\"view\", \"download\") for el in links_to_view]\n",
    "\n",
    "# Nome dos arquivos\n",
    "names_to_download = [el[-9:].replace(\"/\", \"-\") for el in links_to_download]\n",
    "\n",
    "# Titulos dos artigos/arquivos\n",
    "title = [remove_tab_br(el) for el in title]\n",
    "\n",
    "# Autores dos artigos/arquivos\n",
    "authors = [remove_tab_br(el) for el in authors]"
   ]
  },
  {
   "cell_type": "markdown",
   "metadata": {
    "Collapsed": "false"
   },
   "source": [
    "## Elastic\n",
    "Verificando se o ElasticSearch está online! Para isso estou utilizando um elastic search dentro da minha maquina."
   ]
  },
  {
   "cell_type": "code",
   "execution_count": 23,
   "metadata": {
    "Collapsed": "false"
   },
   "outputs": [
    {
     "name": "stdout",
     "output_type": "stream",
     "text": [
      "ElasticSearch ONLINE !\n"
     ]
    }
   ],
   "source": [
    "from elasticsearch import Elasticsearch\n",
    "\n",
    "es = Elasticsearch()\n",
    "if es.ping():\n",
    "    print(\"ElasticSearch ONLINE !\")"
   ]
  },
  {
   "cell_type": "markdown",
   "metadata": {
    "Collapsed": "false"
   },
   "source": [
    "Vou utilizar a biblioteca python **Elasticsearch DSL** (alto nivel), cuja a documentação pode ser acessada no link [aqui](https://elasticsearch-dsl.readthedocs.io/en/latest/index.html), para fazer indexação, mapeamento e análises dos documentos.\n",
    "\n",
    "E tambem utilizar a biblioteca python **ElasticSearch** (baixo nivel), cuja a documentação pode ser acessada no link [aqui](https://elasticsearch-py.readthedocs.io/en/master/index.html) para fazer uma busca genérica."
   ]
  },
  {
   "cell_type": "code",
   "execution_count": 24,
   "metadata": {
    "Collapsed": "false"
   },
   "outputs": [],
   "source": [
    "from elasticsearch_dsl import (\n",
    "    Document,\n",
    "    Text,\n",
    "    Date,\n",
    "    Keyword,\n",
    ")  # Classes para ajudar a construir o nosso documento dentro do banco\n",
    "from elasticsearch_dsl import Index  # Classe de index\n",
    "from elasticsearch_dsl.analysis import (\n",
    "    analyzer,\n",
    "    char_filter,\n",
    "    tokenizer,\n",
    "    token_filter,\n",
    ")  # Ferramentas para construir o NLP do nosso documento\n",
    "from elasticsearch_dsl.connections import connections  # Utilizando connector"
   ]
  },
  {
   "cell_type": "markdown",
   "metadata": {
    "Collapsed": "false"
   },
   "source": [
    "Criando a coneção, index e mapeando uma classe"
   ]
  },
  {
   "cell_type": "code",
   "execution_count": 25,
   "metadata": {
    "Collapsed": "false"
   },
   "outputs": [],
   "source": [
    "char_filter_ptbr = char_filter(\"html_strip\")  # Char para limpar resíduos de um html\n",
    "tokenizador_ptbr = tokenizer(\"standard\")  # Tokenizador\n",
    "stop_ptbr = token_filter(\n",
    "    \"brazilian_stop\", type=\"stop\", stopwords=\"_brazilian_\"\n",
    ")  # Analisador de stopwords\n",
    "stem_ptbr = token_filter(\n",
    "    \"brazilian_stemmer\", type=\"stemmer\", stopwords=\"_brazilian_\"\n",
    ")  # Analisador de radical\n",
    "\n",
    "# Nosso analisador customizado\n",
    "pt_analyzer = analyzer(\n",
    "    \"pt_analyzer\",\n",
    "    tokenizer=tokenizador_ptbr,\n",
    "    filter=[stop_ptbr, stem_ptbr, \"lowercase\"],\n",
    "    char_filter=[char_filter_ptbr],\n",
    ")"
   ]
  },
  {
   "cell_type": "code",
   "execution_count": 26,
   "metadata": {
    "Collapsed": "false"
   },
   "outputs": [
    {
     "data": {
      "text/plain": [
       "{'artigos-index': {'aliases': {},\n",
       "  'mappings': {'properties': {'autor': {'type': 'text'},\n",
       "    'texto': {'type': 'text', 'analyzer': 'pt_analyzer'},\n",
       "    'titulo': {'type': 'text'}}},\n",
       "  'settings': {'index': {'number_of_shards': '4',\n",
       "    'provided_name': 'artigos-index',\n",
       "    'creation_date': '1595118460609',\n",
       "    'analysis': {'filter': {'brazilian_stemmer': {'type': 'stemmer',\n",
       "       'stopwords': '_brazilian_'},\n",
       "      'brazilian_stop': {'type': 'stop', 'stopwords': '_brazilian_'}},\n",
       "     'analyzer': {'pt_analyzer': {'filter': ['brazilian_stop',\n",
       "        'brazilian_stemmer',\n",
       "        'lowercase'],\n",
       "       'char_filter': ['html_strip'],\n",
       "       'type': 'custom',\n",
       "       'tokenizer': 'standard'}}},\n",
       "    'number_of_replicas': '1',\n",
       "    'uuid': 'F7-7ABMGQXmUFWEZlJqZbA',\n",
       "    'version': {'created': '7080099'}}}}}"
      ]
     },
     "execution_count": 26,
     "metadata": {},
     "output_type": "execute_result"
    }
   ],
   "source": [
    "connections.create_connection()  # Criando a conexão com configurações padrão\n",
    "artigos = Index(\"artigos-index\")  # Atribuindo o index 'artigos-index' a uma variavel\n",
    "\n",
    "\n",
    "@artigos.document\n",
    "class Arquivo(Document):  # Criando a classe para ser mapeada\n",
    "    titulo = Text()\n",
    "    autor = Text()\n",
    "    texto = Text(analyzer=pt_analyzer)\n",
    "\n",
    "\n",
    "artigos.settings(number_of_shards=4)  # Configurando shards como 4\n",
    "\n",
    "if artigos.exists():  # Caso exista o index,\n",
    "    artigos.delete()  # será apagado e criado novamente\n",
    "artigos.create()  # Criando o index de fato, lincando com a classe Arquivo\n",
    "artigos.document(Arquivo)  # Mapeando nosso documento\n",
    "artigos.get()  # Um overview da indexação"
   ]
  },
  {
   "cell_type": "markdown",
   "metadata": {
    "Collapsed": "false"
   },
   "source": [
    "Criando um analisador de texto customizado para nosso caso de uso."
   ]
  },
  {
   "cell_type": "markdown",
   "metadata": {
    "Collapsed": "false"
   },
   "source": [
    "Função para pegar cada arquivo no diretório e retornar o seu conteúdo em uma string"
   ]
  },
  {
   "cell_type": "code",
   "execution_count": 27,
   "metadata": {
    "Collapsed": "false"
   },
   "outputs": [],
   "source": [
    "def text_by_name(name):\n",
    "    arquivo = open(f\"text\\/{name}.txt\", \"r\", encoding=\"utf-8\")\n",
    "    unica_string = arquivo.read().replace(\"\\n\", \"\")\n",
    "    arquivo.close()\n",
    "    return unica_string"
   ]
  },
  {
   "cell_type": "markdown",
   "metadata": {
    "Collapsed": "false"
   },
   "source": [
    "Para cada arquivo salvo, crie um documento e salve no elastic search."
   ]
  },
  {
   "cell_type": "code",
   "execution_count": 31,
   "metadata": {
    "Collapsed": "false"
   },
   "outputs": [
    {
     "data": {
      "text/plain": [
       "(75, [])"
      ]
     },
     "execution_count": 31,
     "metadata": {},
     "output_type": "execute_result"
    }
   ],
   "source": [
    "from elasticsearch.helpers import bulk\n",
    "\n",
    "all_artigos = []\n",
    "for i, name in enumerate(names_to_download):\n",
    "    all_artigos.append(\n",
    "        Arquivo(titulo=title[i], autor=authors[i], texto=text_by_name(name)).to_dict()\n",
    "    )\n",
    "\n",
    "\n",
    "bulk(client=artigos.connection, actions=all_artigos, index=artigos._name)"
   ]
  },
  {
   "cell_type": "markdown",
   "metadata": {
    "Collapsed": "false"
   },
   "source": [
    "## Buscar\n",
    "Vamos procurar dentro os artigos adicionados o banco o que mais se aproxima para a query: ****\"realidade aumentada\"****."
   ]
  },
  {
   "cell_type": "code",
   "execution_count": 32,
   "metadata": {
    "Collapsed": "false"
   },
   "outputs": [],
   "source": [
    "import pandas as pd\n",
    "from IPython.display import display\n",
    "\n",
    "# função para auxiliar o print\n",
    "def eprint(response):\n",
    "    results = []\n",
    "    for doc in response[\"hits\"][\"hits\"]:\n",
    "        line = {}\n",
    "        line[\"id\"] = doc[\"_id\"]\n",
    "        line[\"score\"] = doc[\"_score\"]\n",
    "        line[\"titulo\"] = doc[\"_source\"][\"titulo\"]\n",
    "        line[\"autor\"] = doc[\"_source\"][\"autor\"]\n",
    "        line[\"texto\"] = doc[\"_source\"][\"texto\"]\n",
    "        results.append(line)\n",
    "    display(pd.DataFrame.from_dict(results, orient=\"columns\"))"
   ]
  },
  {
   "cell_type": "markdown",
   "metadata": {
    "Collapsed": "false"
   },
   "source": [
    "Passando como busca \"realidade aumentada\" em qualquer campo do documento e limitando o tamanho da busca como 5 documentos"
   ]
  },
  {
   "cell_type": "code",
   "execution_count": 33,
   "metadata": {
    "Collapsed": "false"
   },
   "outputs": [
    {
     "data": {
      "text/html": [
       "<div>\n",
       "<style scoped>\n",
       "    .dataframe tbody tr th:only-of-type {\n",
       "        vertical-align: middle;\n",
       "    }\n",
       "\n",
       "    .dataframe tbody tr th {\n",
       "        vertical-align: top;\n",
       "    }\n",
       "\n",
       "    .dataframe thead th {\n",
       "        text-align: right;\n",
       "    }\n",
       "</style>\n",
       "<table border=\"1\" class=\"dataframe\">\n",
       "  <thead>\n",
       "    <tr style=\"text-align: right;\">\n",
       "      <th></th>\n",
       "      <th>autor</th>\n",
       "      <th>id</th>\n",
       "      <th>score</th>\n",
       "      <th>texto</th>\n",
       "      <th>titulo</th>\n",
       "    </tr>\n",
       "  </thead>\n",
       "  <tbody>\n",
       "    <tr>\n",
       "      <th>0</th>\n",
       "      <td>Alan Ferreira Alves, Cícero  Francisco Bezerra...</td>\n",
       "      <td>AemBZHMB9RWPyMKDEM_y</td>\n",
       "      <td>7.623015</td>\n",
       "      <td>IV Congresso sobre Tecnologias na Educação (Ct...</td>\n",
       "      <td>Investigação de Novas Estratégias para o Ensin...</td>\n",
       "    </tr>\n",
       "    <tr>\n",
       "      <th>1</th>\n",
       "      <td>Eduarda Queiroz, Rafaela Moura, Ellen Souza</td>\n",
       "      <td>AOmBZHMB9RWPyMKDEM_y</td>\n",
       "      <td>4.881375</td>\n",
       "      <td>IV Congresso sobre Tecnologias na Educação (Ct...</td>\n",
       "      <td>Como a Realidade Aumentada tem Auxiliado no Pr...</td>\n",
       "    </tr>\n",
       "    <tr>\n",
       "      <th>2</th>\n",
       "      <td>Deyse Mara Romualdo Soares, Gabriela Teles, Ro...</td>\n",
       "      <td>KemBZHMB9RWPyMKDEM_z</td>\n",
       "      <td>2.422138</td>\n",
       "      <td>Tecnologias Digitais nos Processos de Ensin...</td>\n",
       "      <td>Tecnologias Digitais nos Processos de Ensino e...</td>\n",
       "    </tr>\n",
       "    <tr>\n",
       "      <th>3</th>\n",
       "      <td>Elvis Medeiros de Melo, Dennys Leite Maia</td>\n",
       "      <td>DemBZHMB9RWPyMKDEM_y</td>\n",
       "      <td>2.113137</td>\n",
       "      <td>O Uso de Dispositivos Móveis para o Tratamen...</td>\n",
       "      <td>O Uso de Dispositivos Móveis para o Tratamento...</td>\n",
       "    </tr>\n",
       "    <tr>\n",
       "      <th>4</th>\n",
       "      <td>Aladir Ferreira da Silva Júnior, Leizer Fernan...</td>\n",
       "      <td>MOmBZHMB9RWPyMKDEM_z</td>\n",
       "      <td>1.927623</td>\n",
       "      <td>Programando a Várias Mãos: um Relato de Ex...</td>\n",
       "      <td>Programando a Várias Mãos: um Relato de Experi...</td>\n",
       "    </tr>\n",
       "  </tbody>\n",
       "</table>\n",
       "</div>"
      ],
      "text/plain": [
       "                                               autor                    id  \\\n",
       "0  Alan Ferreira Alves, Cícero  Francisco Bezerra...  AemBZHMB9RWPyMKDEM_y   \n",
       "1        Eduarda Queiroz, Rafaela Moura, Ellen Souza  AOmBZHMB9RWPyMKDEM_y   \n",
       "2  Deyse Mara Romualdo Soares, Gabriela Teles, Ro...  KemBZHMB9RWPyMKDEM_z   \n",
       "3          Elvis Medeiros de Melo, Dennys Leite Maia  DemBZHMB9RWPyMKDEM_y   \n",
       "4  Aladir Ferreira da Silva Júnior, Leizer Fernan...  MOmBZHMB9RWPyMKDEM_z   \n",
       "\n",
       "      score                                              texto  \\\n",
       "0  7.623015  IV Congresso sobre Tecnologias na Educação (Ct...   \n",
       "1  4.881375  IV Congresso sobre Tecnologias na Educação (Ct...   \n",
       "2  2.422138     Tecnologias Digitais nos Processos de Ensin...   \n",
       "3  2.113137    O Uso de Dispositivos Móveis para o Tratamen...   \n",
       "4  1.927623      Programando a Várias Mãos: um Relato de Ex...   \n",
       "\n",
       "                                              titulo  \n",
       "0  Investigação de Novas Estratégias para o Ensin...  \n",
       "1  Como a Realidade Aumentada tem Auxiliado no Pr...  \n",
       "2  Tecnologias Digitais nos Processos de Ensino e...  \n",
       "3  O Uso de Dispositivos Móveis para o Tratamento...  \n",
       "4  Programando a Várias Mãos: um Relato de Experi...  "
      ]
     },
     "metadata": {},
     "output_type": "display_data"
    }
   ],
   "source": [
    "import time\n",
    "\n",
    "res = es.search(q=\"realidade aumentada\", index=\"artigos-index\", size=5)\n",
    "eprint(res)"
   ]
  }
 ],
 "metadata": {
  "kernelspec": {
   "display_name": "Python 3",
   "language": "python",
   "name": "python3"
  },
  "language_info": {
   "codemirror_mode": {
    "name": "ipython",
    "version": 3
   },
   "file_extension": ".py",
   "mimetype": "text/x-python",
   "name": "python",
   "nbconvert_exporter": "python",
   "pygments_lexer": "ipython3",
   "version": "3.7.6"
  }
 },
 "nbformat": 4,
 "nbformat_minor": 4
}
