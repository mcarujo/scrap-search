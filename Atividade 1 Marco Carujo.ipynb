{
 "cells": [
  {
   "cell_type": "code",
   "execution_count": 102,
   "metadata": {
    "Collapsed": "false"
   },
   "outputs": [],
   "source": [
    "!pip install nb_black -q\n",
    "!pip install pdfminer.six -q\n",
    "!pip install urllib3 -q\n",
    "!pip install bs4 -q"
   ]
  },
  {
   "cell_type": "code",
   "execution_count": 103,
   "metadata": {
    "Collapsed": "false"
   },
   "outputs": [],
   "source": [
    "%load_ext lab_black"
   ]
  },
  {
   "cell_type": "markdown",
   "metadata": {
    "Collapsed": "false"
   },
   "source": [
    "### Aluno Marco Antonio Moreira Carujo"
   ]
  },
  {
   "cell_type": "markdown",
   "metadata": {
    "Collapsed": "false"
   },
   "source": [
    "# Atividade 1: Coleta de Documentos em PDF\n",
    "Atividade: Baixar arquivos PDFs da Web e armazená-los como arquivo de texto.\n",
    "\n",
    "Site: 2019 - Anais do IV Congresso sobre Tecnologias na Educação (https://sol.sbc.org.br/index.php/ctrle)"
   ]
  },
  {
   "cell_type": "code",
   "execution_count": 118,
   "metadata": {
    "Collapsed": "false"
   },
   "outputs": [],
   "source": [
    "from urllib.request import urlopen\n",
    "from bs4 import BeautifulSoup\n",
    "from joblib import Parallel, delayed"
   ]
  },
  {
   "cell_type": "markdown",
   "metadata": {
    "Collapsed": "false"
   },
   "source": [
    "Dentro do site temos dois links um comprido onde mostra apenas os ultimos artigos e um completo onde temos todos os artigos (75 artigos) do ano de 2019.\n",
    "\n",
    "Podemos baixar ele e ir na tag **\\<a>** buscar o href de cada um. Dentro do href apenas mudando a parametro/rota view para download podemos baixar cada um dos PDF's.\n",
    "    \n",
    "A tag a possuí uma classe chama **obj_galley_link pdf** o que facilita o encontro da mesma."
   ]
  },
  {
   "cell_type": "code",
   "execution_count": 110,
   "metadata": {
    "Collapsed": "false"
   },
   "outputs": [
    {
     "name": "stdout",
     "output_type": "stream",
     "text": [
      "Quantos artigos temos no site? 75 artigos.\n"
     ]
    }
   ],
   "source": [
    "response = urlopen(\"https://sol.sbc.org.br/index.php/ctrle\")  # Comprimido\n",
    "response = urlopen(\"https://sol.sbc.org.br/index.php/ctrle/issue/view/486\")  # Completo\n",
    "html = response.read()\n",
    "\n",
    "soup = BeautifulSoup(html, \"html.parser\")\n",
    "elements = soup.find_all(\"a\", class_=\"obj_galley_link pdf\")\n",
    "print(\"Quantos artigos temos no site?\", len(elements), \"artigos.\")"
   ]
  },
  {
   "cell_type": "markdown",
   "metadata": {
    "Collapsed": "false"
   },
   "source": [
    "Apenas manipulações de objetos e tranformações de Strings para gerar as seguintes listas:\n",
    "- lista de links de view\n",
    "- lista de links de download\n",
    "- lista de links de nomes de arquivos para ser tanto .pdf quanto .txt"
   ]
  },
  {
   "cell_type": "code",
   "execution_count": 111,
   "metadata": {
    "Collapsed": "false"
   },
   "outputs": [
    {
     "data": {
      "text/plain": [
       "['https://sol.sbc.org.br/index.php/ctrle/article/view/8870/8771',\n",
       " 'https://sol.sbc.org.br/index.php/ctrle/article/view/8871/8772',\n",
       " 'https://sol.sbc.org.br/index.php/ctrle/article/view/8872/8773',\n",
       " 'https://sol.sbc.org.br/index.php/ctrle/article/view/8873/8774',\n",
       " 'https://sol.sbc.org.br/index.php/ctrle/article/view/8874/8775']"
      ]
     },
     "execution_count": 111,
     "metadata": {},
     "output_type": "execute_result"
    }
   ],
   "source": [
    "links_to_view = [el[\"href\"] for el in elements]\n",
    "links_to_view[:5]"
   ]
  },
  {
   "cell_type": "code",
   "execution_count": 112,
   "metadata": {
    "Collapsed": "false"
   },
   "outputs": [
    {
     "data": {
      "text/plain": [
       "['https://sol.sbc.org.br/index.php/ctrle/article/download/8870/8771',\n",
       " 'https://sol.sbc.org.br/index.php/ctrle/article/download/8871/8772',\n",
       " 'https://sol.sbc.org.br/index.php/ctrle/article/download/8872/8773',\n",
       " 'https://sol.sbc.org.br/index.php/ctrle/article/download/8873/8774',\n",
       " 'https://sol.sbc.org.br/index.php/ctrle/article/download/8874/8775']"
      ]
     },
     "execution_count": 112,
     "metadata": {},
     "output_type": "execute_result"
    }
   ],
   "source": [
    "links_to_download = [el.replace(\"view\", \"download\") for el in links_to_view]\n",
    "links_to_download[:5]"
   ]
  },
  {
   "cell_type": "code",
   "execution_count": 113,
   "metadata": {
    "Collapsed": "false"
   },
   "outputs": [
    {
     "data": {
      "text/plain": [
       "['8870-8771', '8871-8772', '8872-8773', '8873-8774', '8874-8775']"
      ]
     },
     "execution_count": 113,
     "metadata": {},
     "output_type": "execute_result"
    }
   ],
   "source": [
    "names_to_download = [el[-9:].replace(\"/\", \"-\") for el in links_to_download]\n",
    "names_to_download[:5]"
   ]
  },
  {
   "cell_type": "markdown",
   "metadata": {
    "Collapsed": "false"
   },
   "source": [
    "As função **download** e **transforma em texto** foram retiradas/inspiradas no material da aula.\n",
    "\n",
    "A função worker tem como objetivo encapsular a tarefa de baixar e transformar para ser paraleliada."
   ]
  },
  {
   "cell_type": "code",
   "execution_count": 117,
   "metadata": {
    "Collapsed": "false"
   },
   "outputs": [],
   "source": [
    "import requests\n",
    "from pdfminer.high_level import extract_text\n",
    "import os\n",
    "\n",
    "\n",
    "def download(url, nome):\n",
    "    resposta = requests.get(url)\n",
    "    if resposta.status_code == 200:\n",
    "        with open(os.path.join(\"pdf\", nome + \".pdf\"), \"wb\") as f:\n",
    "            f.write(resposta.content)\n",
    "\n",
    "\n",
    "def transforma_em_texto(nome):\n",
    "    pdf_text = extract_text(os.path.join(\"pdf\", nome + \".pdf\"), codec=\"utf-8\")\n",
    "    with open(os.path.join(\"text\", nome + \".txt\"), \"w\", encoding=\"utf-8\") as f:\n",
    "        f.write(pdf_text)\n",
    "        \n",
    "def worker(i):\n",
    "    link = links_to_download[i]\n",
    "    name = names_to_download[i]\n",
    "    download(link, name)\n",
    "    transforma_em_texto(name)\n",
    "    return f'Arquivo {name} pdf e txt gerado e salvo!'"
   ]
  },
  {
   "cell_type": "markdown",
   "metadata": {
    "Collapsed": "false"
   },
   "source": [
    "Execução da celula seguir irá baixar paralelamente 75 artigos e transformar em texto. Os PDFs serão salvos no diretorio *pdf* e os arquivos txt no diretorio *txt*."
   ]
  },
  {
   "cell_type": "code",
   "execution_count": 121,
   "metadata": {
    "Collapsed": "false"
   },
   "outputs": [
    {
     "name": "stderr",
     "output_type": "stream",
     "text": [
      "[Parallel(n_jobs=-1)]: Using backend LokyBackend with 12 concurrent workers.\n",
      "[Parallel(n_jobs=-1)]: Done  26 tasks      | elapsed:    8.2s\n"
     ]
    },
    {
     "name": "stdout",
     "output_type": "stream",
     "text": [
      "Wall time: 19.2 s\n"
     ]
    },
    {
     "name": "stderr",
     "output_type": "stream",
     "text": [
      "[Parallel(n_jobs=-1)]: Done  75 out of  75 | elapsed:   19.1s finished\n"
     ]
    },
    {
     "data": {
      "text/plain": [
       "['Arquivo 8870-8771 pdf e txt gerado e salvo!',\n",
       " 'Arquivo 8871-8772 pdf e txt gerado e salvo!',\n",
       " 'Arquivo 8872-8773 pdf e txt gerado e salvo!',\n",
       " 'Arquivo 8873-8774 pdf e txt gerado e salvo!',\n",
       " 'Arquivo 8874-8775 pdf e txt gerado e salvo!',\n",
       " 'Arquivo 8875-8776 pdf e txt gerado e salvo!',\n",
       " 'Arquivo 8876-8777 pdf e txt gerado e salvo!',\n",
       " 'Arquivo 8877-8778 pdf e txt gerado e salvo!',\n",
       " 'Arquivo 8878-8779 pdf e txt gerado e salvo!',\n",
       " 'Arquivo 8879-8780 pdf e txt gerado e salvo!',\n",
       " 'Arquivo 8880-8781 pdf e txt gerado e salvo!',\n",
       " 'Arquivo 8881-8782 pdf e txt gerado e salvo!',\n",
       " 'Arquivo 8882-8783 pdf e txt gerado e salvo!',\n",
       " 'Arquivo 8883-8784 pdf e txt gerado e salvo!',\n",
       " 'Arquivo 8884-8785 pdf e txt gerado e salvo!',\n",
       " 'Arquivo 8885-8786 pdf e txt gerado e salvo!',\n",
       " 'Arquivo 8886-8787 pdf e txt gerado e salvo!',\n",
       " 'Arquivo 8887-8788 pdf e txt gerado e salvo!',\n",
       " 'Arquivo 8888-8789 pdf e txt gerado e salvo!',\n",
       " 'Arquivo 8889-8790 pdf e txt gerado e salvo!',\n",
       " 'Arquivo 8890-8791 pdf e txt gerado e salvo!',\n",
       " 'Arquivo 8891-8792 pdf e txt gerado e salvo!',\n",
       " 'Arquivo 8892-8793 pdf e txt gerado e salvo!',\n",
       " 'Arquivo 8893-8794 pdf e txt gerado e salvo!',\n",
       " 'Arquivo 8894-8795 pdf e txt gerado e salvo!',\n",
       " 'Arquivo 8895-8796 pdf e txt gerado e salvo!',\n",
       " 'Arquivo 8896-8797 pdf e txt gerado e salvo!',\n",
       " 'Arquivo 8897-8798 pdf e txt gerado e salvo!',\n",
       " 'Arquivo 8898-8799 pdf e txt gerado e salvo!',\n",
       " 'Arquivo 8899-8800 pdf e txt gerado e salvo!',\n",
       " 'Arquivo 8900-8801 pdf e txt gerado e salvo!',\n",
       " 'Arquivo 8901-8802 pdf e txt gerado e salvo!',\n",
       " 'Arquivo 8902-8803 pdf e txt gerado e salvo!',\n",
       " 'Arquivo 8903-8804 pdf e txt gerado e salvo!',\n",
       " 'Arquivo 8904-8805 pdf e txt gerado e salvo!',\n",
       " 'Arquivo 8905-8806 pdf e txt gerado e salvo!',\n",
       " 'Arquivo 8906-8807 pdf e txt gerado e salvo!',\n",
       " 'Arquivo 8907-8808 pdf e txt gerado e salvo!',\n",
       " 'Arquivo 8908-8809 pdf e txt gerado e salvo!',\n",
       " 'Arquivo 8909-8810 pdf e txt gerado e salvo!',\n",
       " 'Arquivo 8910-8811 pdf e txt gerado e salvo!',\n",
       " 'Arquivo 8911-8812 pdf e txt gerado e salvo!',\n",
       " 'Arquivo 8912-8813 pdf e txt gerado e salvo!',\n",
       " 'Arquivo 8913-8814 pdf e txt gerado e salvo!',\n",
       " 'Arquivo 8914-8815 pdf e txt gerado e salvo!',\n",
       " 'Arquivo 8915-8816 pdf e txt gerado e salvo!',\n",
       " 'Arquivo 8916-8817 pdf e txt gerado e salvo!',\n",
       " 'Arquivo 8917-8818 pdf e txt gerado e salvo!',\n",
       " 'Arquivo 8918-8819 pdf e txt gerado e salvo!',\n",
       " 'Arquivo 8919-8820 pdf e txt gerado e salvo!',\n",
       " 'Arquivo 8920-8821 pdf e txt gerado e salvo!',\n",
       " 'Arquivo 8921-8822 pdf e txt gerado e salvo!',\n",
       " 'Arquivo 8922-8823 pdf e txt gerado e salvo!',\n",
       " 'Arquivo 8923-8824 pdf e txt gerado e salvo!',\n",
       " 'Arquivo 8924-8825 pdf e txt gerado e salvo!',\n",
       " 'Arquivo 8925-8826 pdf e txt gerado e salvo!',\n",
       " 'Arquivo 8926-8827 pdf e txt gerado e salvo!',\n",
       " 'Arquivo 8927-8828 pdf e txt gerado e salvo!',\n",
       " 'Arquivo 8928-8829 pdf e txt gerado e salvo!',\n",
       " 'Arquivo 8929-8830 pdf e txt gerado e salvo!',\n",
       " 'Arquivo 8930-8831 pdf e txt gerado e salvo!',\n",
       " 'Arquivo 8931-8832 pdf e txt gerado e salvo!',\n",
       " 'Arquivo 8932-8833 pdf e txt gerado e salvo!',\n",
       " 'Arquivo 8933-8834 pdf e txt gerado e salvo!',\n",
       " 'Arquivo 8934-8835 pdf e txt gerado e salvo!',\n",
       " 'Arquivo 8935-8836 pdf e txt gerado e salvo!',\n",
       " 'Arquivo 8936-8837 pdf e txt gerado e salvo!',\n",
       " 'Arquivo 8937-8838 pdf e txt gerado e salvo!',\n",
       " 'Arquivo 8938-8839 pdf e txt gerado e salvo!',\n",
       " 'Arquivo 8939-8840 pdf e txt gerado e salvo!',\n",
       " 'Arquivo 8940-8841 pdf e txt gerado e salvo!',\n",
       " 'Arquivo 8941-8842 pdf e txt gerado e salvo!',\n",
       " 'Arquivo 8942-8843 pdf e txt gerado e salvo!',\n",
       " 'Arquivo 8943-8844 pdf e txt gerado e salvo!',\n",
       " 'Arquivo 8944-8845 pdf e txt gerado e salvo!']"
      ]
     },
     "execution_count": 121,
     "metadata": {},
     "output_type": "execute_result"
    }
   ],
   "source": [
    "%%time\n",
    "os.makedirs(\"pdf\", exist_ok=True)\n",
    "os.makedirs(\"text\", exist_ok=True)\n",
    "\n",
    "Parallel(verbose=1, n_jobs=-1)(delayed(worker)(i) for i in range(len(names_to_download)))"
   ]
  }
 ],
 "metadata": {
  "kernelspec": {
   "display_name": "Python 3",
   "language": "python",
   "name": "python3"
  },
  "language_info": {
   "codemirror_mode": {
    "name": "ipython",
    "version": 3
   },
   "file_extension": ".py",
   "mimetype": "text/x-python",
   "name": "python",
   "nbconvert_exporter": "python",
   "pygments_lexer": "ipython3",
   "version": "3.7.6"
  }
 },
 "nbformat": 4,
 "nbformat_minor": 4
}
