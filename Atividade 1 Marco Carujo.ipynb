{
 "cells": [
  {
   "cell_type": "code",
   "execution_count": 102,
   "metadata": {
    "Collapsed": "false"
   },
   "outputs": [],
   "source": [
    "!pip install nb_black -q\n",
    "!pip install pdfminer.six -q\n",
    "!pip install urllib3 -q\n",
    "!pip install bs4 -q"
   ]
  },
  {
   "cell_type": "code",
   "execution_count": 34,
   "metadata": {
    "Collapsed": "false"
   },
   "outputs": [
    {
     "name": "stdout",
     "output_type": "stream",
     "text": [
      "The lab_black extension is already loaded. To reload it, use:\n",
      "  %reload_ext lab_black\n"
     ]
    }
   ],
   "source": [
    "%load_ext lab_black"
   ]
  },
  {
   "cell_type": "markdown",
   "metadata": {
    "Collapsed": "false"
   },
   "source": [
    "### Aluno Marco Antonio Moreira Carujo"
   ]
  },
  {
   "cell_type": "markdown",
   "metadata": {
    "Collapsed": "false"
   },
   "source": [
    "# Atividade 1: Coleta de Documentos em PDF\n",
    "Atividade: Baixar arquivos PDFs da Web e armazená-los como arquivo de texto.\n",
    "\n",
    "Site: 2019 - Anais do IV Congresso sobre Tecnologias na Educação (https://sol.sbc.org.br/index.php/ctrle)"
   ]
  },
  {
   "cell_type": "code",
   "execution_count": 35,
   "metadata": {
    "Collapsed": "false"
   },
   "outputs": [],
   "source": [
    "from urllib.request import urlopen\n",
    "from bs4 import BeautifulSoup\n",
    "from joblib import Parallel, delayed"
   ]
  },
  {
   "cell_type": "markdown",
   "metadata": {
    "Collapsed": "false"
   },
   "source": [
    "Dentro do site temos dois links um comprido onde mostra apenas os ultimos artigos e um completo onde temos todos os artigos (75 artigos) do ano de 2019.\n",
    "\n",
    "Podemos baixar ele e ir na tag **\\<a>** buscar o href de cada um. Dentro do href apenas mudando a parametro/rota view para download podemos baixar cada um dos PDF's.\n",
    "    \n",
    "A tag a possuí uma classe chama **obj_galley_link pdf** o que facilita o encontro da mesma."
   ]
  },
  {
   "cell_type": "code",
   "execution_count": 36,
   "metadata": {
    "Collapsed": "false"
   },
   "outputs": [
    {
     "name": "stdout",
     "output_type": "stream",
     "text": [
      "Quantos artigos temos no site? 75 artigos.\n"
     ]
    }
   ],
   "source": [
    "response = urlopen(\"https://sol.sbc.org.br/index.php/ctrle\")  # Comprimido\n",
    "response = urlopen(\"https://sol.sbc.org.br/index.php/ctrle/issue/view/486\")  # Completo\n",
    "html = response.read()\n",
    "\n",
    "soup = BeautifulSoup(html, \"html.parser\")\n",
    "elements = soup.find_all(\"a\", class_=\"obj_galley_link pdf\")\n",
    "authors = soup.find_all(\"div\", class_=\"authors\")\n",
    "title = soup.find_all(\"div\", class_=\"title\")\n",
    "print(\"Quantos artigos temos no site?\", len(elements), \"artigos.\")"
   ]
  },
  {
   "cell_type": "markdown",
   "metadata": {
    "Collapsed": "false"
   },
   "source": [
    "Apenas manipulações de objetos e tranformações de Strings para gerar as seguintes listas:\n",
    "- lista de links de view\n",
    "- lista de links de download\n",
    "- lista de links de nomes de arquivos para ser tanto .pdf quanto .txt"
   ]
  },
  {
   "cell_type": "code",
   "execution_count": 37,
   "metadata": {
    "Collapsed": "false"
   },
   "outputs": [
    {
     "data": {
      "text/plain": [
       "['https://sol.sbc.org.br/index.php/ctrle/article/view/8870/8771',\n",
       " 'https://sol.sbc.org.br/index.php/ctrle/article/view/8871/8772']"
      ]
     },
     "execution_count": 37,
     "metadata": {},
     "output_type": "execute_result"
    }
   ],
   "source": [
    "links_to_view = [el[\"href\"] for el in elements]\n",
    "links_to_view[:2]"
   ]
  },
  {
   "cell_type": "code",
   "execution_count": 38,
   "metadata": {
    "Collapsed": "false"
   },
   "outputs": [
    {
     "data": {
      "text/plain": [
       "['https://sol.sbc.org.br/index.php/ctrle/article/download/8870/8771',\n",
       " 'https://sol.sbc.org.br/index.php/ctrle/article/download/8871/8772']"
      ]
     },
     "execution_count": 38,
     "metadata": {},
     "output_type": "execute_result"
    }
   ],
   "source": [
    "links_to_download = [el.replace(\"view\", \"download\") for el in links_to_view]\n",
    "links_to_download[:2]"
   ]
  },
  {
   "cell_type": "code",
   "execution_count": 39,
   "metadata": {
    "Collapsed": "false"
   },
   "outputs": [
    {
     "data": {
      "text/plain": [
       "['8870-8771', '8871-8772']"
      ]
     },
     "execution_count": 39,
     "metadata": {},
     "output_type": "execute_result"
    }
   ],
   "source": [
    "names_to_download = [el[-9:].replace(\"/\", \"-\") for el in links_to_download]\n",
    "names_to_download[:2]"
   ]
  },
  {
   "cell_type": "code",
   "execution_count": 40,
   "metadata": {
    "Collapsed": "false"
   },
   "outputs": [],
   "source": [
    "title = [remove_tab_br(el) for el in title]\n",
    "authors = [remove_tab_br(el) for el in authors]"
   ]
  },
  {
   "cell_type": "markdown",
   "metadata": {
    "Collapsed": "false"
   },
   "source": [
    "As função **download** e **transforma em texto** foram retiradas/inspiradas no material da aula.\n",
    "\n",
    "A função worker tem como objetivo encapsular a tarefa de baixar e transformar para ser paraleliada."
   ]
  },
  {
   "cell_type": "code",
   "execution_count": 41,
   "metadata": {
    "Collapsed": "false"
   },
   "outputs": [],
   "source": [
    "import requests\n",
    "from pdfminer.high_level import extract_text\n",
    "import os\n",
    "\n",
    "\n",
    "def download(url, nome):\n",
    "    resposta = requests.get(url)\n",
    "    if resposta.status_code == 200:\n",
    "        with open(os.path.join(\"pdf\", nome + \".pdf\"), \"wb\") as f:\n",
    "            f.write(resposta.content)\n",
    "\n",
    "\n",
    "def remove_tab_br(string):\n",
    "    return string.get_text().replace(\"\\n\", \"\").replace(\"\\t\", \"\")\n",
    "\n",
    "\n",
    "def transforma_em_texto(nome):\n",
    "    pdf_text = extract_text(os.path.join(\"pdf\", nome + \".pdf\"), codec=\"utf-8\")\n",
    "    with open(os.path.join(\"text\", nome + \".txt\"), \"w\", encoding=\"utf-8\") as f:\n",
    "        f.write(pdf_text)\n",
    "\n",
    "\n",
    "def worker(i):\n",
    "    link = links_to_download[i]\n",
    "    name = names_to_download[i]\n",
    "    download(link, name)\n",
    "    transforma_em_texto(name)\n",
    "    return f\"Artigo {title[i]} pdf e txt gerado e salvo!\""
   ]
  },
  {
   "cell_type": "markdown",
   "metadata": {
    "Collapsed": "false"
   },
   "source": [
    "Execução da celula seguir irá baixar paralelamente 75 artigos e transformar em texto. Os PDFs serão salvos no diretorio *pdf* e os arquivos txt no diretorio *txt*."
   ]
  },
  {
   "cell_type": "code",
   "execution_count": 42,
   "metadata": {
    "Collapsed": "false"
   },
   "outputs": [
    {
     "name": "stderr",
     "output_type": "stream",
     "text": [
      "[Parallel(n_jobs=10)]: Using backend LokyBackend with 10 concurrent workers.\n",
      "[Parallel(n_jobs=10)]: Done  30 tasks      | elapsed:   10.1s\n"
     ]
    },
    {
     "name": "stdout",
     "output_type": "stream",
     "text": [
      "Wall time: 21 s\n"
     ]
    },
    {
     "name": "stderr",
     "output_type": "stream",
     "text": [
      "[Parallel(n_jobs=10)]: Done  75 out of  75 | elapsed:   20.9s finished\n"
     ]
    },
    {
     "data": {
      "text/plain": [
       "['Artigo Como a Realidade Aumentada tem Auxiliado no Processo de Ensino e Aprendizagem de Ciências da Natureza? Um Mapeamento Sistemático da Literatura pdf e txt gerado e salvo!',\n",
       " 'Artigo Investigação de Novas Estratégias para o Ensino de Bioquímica Estrutural por meio de Realidade Aumentada pdf e txt gerado e salvo!',\n",
       " 'Artigo Modelagem Manual e Digital de Personagens como Ferramenta Lúdica e Auxiliar no Ensino-Aprendizagem de Anatomia Humana pdf e txt gerado e salvo!',\n",
       " 'Artigo Utilização de Recursos Educacionais Digitais (RED) em Aulas de Língua Portuguesa nos Anos Finais do Ensino Fundamental: Contribuições e Desafios pdf e txt gerado e salvo!',\n",
       " 'Artigo A Utilização de Softwares no Ensino de Matemática para Ensino Fundamental e Médio pdf e txt gerado e salvo!',\n",
       " 'Artigo Virtualização de Jogos Matemáticos: uma Avaliação do Cubra Doze pdf e txt gerado e salvo!',\n",
       " 'Artigo Metodologias Ativas à Luz de Comenius: uma Experiência na Pós-Graduação pdf e txt gerado e salvo!',\n",
       " 'Artigo LudoEscola: a Gamificação como Ferramenta de Transformação do Espaço Escolar pdf e txt gerado e salvo!',\n",
       " 'Artigo Vamos Jogar Matemática: Utilizando o RPG Maker para Produzir um Recurso Educacional Digital para o Ensino de Matemática pdf e txt gerado e salvo!',\n",
       " 'Artigo A Gamificação como Estratégia para a Educação em Segurança e Saúde no Trabalho em ECITs na Paraíba pdf e txt gerado e salvo!',\n",
       " 'Artigo Ensino de Robótica para a Promoção da Inclusão Sociodigital de Pessoas com Deficiência: um Relato de Experiência pdf e txt gerado e salvo!',\n",
       " 'Artigo Astroem para Professores e o Ensino de Matemática: Iniciação à Linguagem da Programação por Meio da Robótica pdf e txt gerado e salvo!',\n",
       " 'Artigo O Uso do Smartphone por Estudantes de Pós-Graduação em Tecnologias Educacionais: um Estudo de Caso pdf e txt gerado e salvo!',\n",
       " 'Artigo O Uso de Dispositivos Móveis para o Tratamento da Informação: uma Revisão Sistemática de Literatura pdf e txt gerado e salvo!',\n",
       " 'Artigo O Uso do Fórum em um Curso de Graduação a Distância: Formação e Aprendizagem pdf e txt gerado e salvo!',\n",
       " 'Artigo A Comunicação, a Colaboração e o Diálogo pela Web: uma Evidência pdf e txt gerado e salvo!',\n",
       " 'Artigo Café com Saúde: Podcast como Ferramenta de Ensino nos Cursos de Saúde pdf e txt gerado e salvo!',\n",
       " 'Artigo Produção e Ilustração de Textos com Suporte Digital na Educação Infantil pdf e txt gerado e salvo!',\n",
       " 'Artigo Desafios da Gestão de uma Creche no Uso Pedagógico das TDIC e Alinhamento com a BNCC pdf e txt gerado e salvo!',\n",
       " 'Artigo Um Boom de Mídias na Infância: Reflexões acerca do Uso de Tecnologias Digitais na Educação Infantil pdf e txt gerado e salvo!',\n",
       " 'Artigo Impacto das Mídias Sociais no Futuro da Educação Superior no Brasil: um Estudo Prospectivo pdf e txt gerado e salvo!',\n",
       " 'Artigo Desenvolvimento Profissional, Tecnologia Digital e Conceitos Estatísticos na Formação de Professores que Ensinam Matemática pdf e txt gerado e salvo!',\n",
       " 'Artigo Avaliação de Aplicativos Educacionais Infantis com o Método MoLEva pdf e txt gerado e salvo!',\n",
       " 'Artigo StudentHistory: um Sistema Web para Análise Visual do Desempenho de Alunos de Graduação pdf e txt gerado e salvo!',\n",
       " 'Artigo Avaliando a Utilização do Aplicativo AppAlpha no Processo de Alfabetização de Adultos pdf e txt gerado e salvo!',\n",
       " 'Artigo Definição de Critérios Pedagógicos e Técnicos de um Recurso Digital para Validação de Planos de Aula pdf e txt gerado e salvo!',\n",
       " 'Artigo Desafios da Tutoria em um Curso Online de Formação de Professores para Desenvolvimento do Raciocínio Computacional pdf e txt gerado e salvo!',\n",
       " 'Artigo Projeto Colmeia: Gamificando no Ensino Superior pdf e txt gerado e salvo!',\n",
       " 'Artigo A Relação entre a Ludicidade e a Cognição em um Jogo para o Controle Inibitório pdf e txt gerado e salvo!',\n",
       " 'Artigo A Tecnologia Assistiva e a Inclusão de Educandos com Deficiência Visual: um Mapeamento Sistemático da Literatura pdf e txt gerado e salvo!',\n",
       " 'Artigo REPAssistive: um Repositório de Recursos Educacionais para Educandos com Necessidades Educacionais Específicas pdf e txt gerado e salvo!',\n",
       " 'Artigo O Uso do Software SEBRAN ABC como Recurso Potencializador para o Desenvolvimento de Habilidades Matemáticas nas Pessoas com Deficiência Intelectual pdf e txt gerado e salvo!',\n",
       " 'Artigo Mineração dos Perfis Acadêmico e Socioeconômico de Estudantes do 3º Ano do Ensino Médio da Rede Pública de Pernambuco, com Base nos Questionários da Avaliação Nacional da Educação Básica (ANEB) pdf e txt gerado e salvo!',\n",
       " 'Artigo FlexQuest como Promotora de Aprendizagem Significativa no Ensino das Ciências Ambientais na Educação Básica pdf e txt gerado e salvo!',\n",
       " 'Artigo Plataforma Significa: Visibilidade à Aprendizagem em Metodologias Ativas pdf e txt gerado e salvo!',\n",
       " 'Artigo Role-Playing Games Digitais e Ensino-Aprendizagem com Adolescentes em Contexto Escolar: Interfaces Histórico-Culturais e Psicanalíticas pdf e txt gerado e salvo!',\n",
       " 'Artigo As Metodologias Ativas e a Aprendizagem Significativa como Determinantes na Produção de Tecnologias Educacionais pdf e txt gerado e salvo!',\n",
       " 'Artigo Tecnologia Digital na Aprendizagem Baseada em Projetos em Curso de Graduação em Enfermagem pdf e txt gerado e salvo!',\n",
       " 'Artigo O “Maker” na Escola: uma Reflexão sobre Tecnologia, Criatividade e Responsabilidade Social pdf e txt gerado e salvo!',\n",
       " 'Artigo Utilização do Openredu como Ferramenta de Gestão do Conhecimento na Secretaria de Planejamento e Gestão de Pernambuco pdf e txt gerado e salvo!',\n",
       " 'Artigo Docência e Tecnologias Digitais na Formação de Professores: Planejamento e Execução de Aulas por Licenciandos pdf e txt gerado e salvo!',\n",
       " 'Artigo Tecnologias Digitais nos Processos de Ensino e Aprendizagem dos Conteúdos Escolares: Compreensão dos(as) Licenciandos(as) da Disciplina Tecnodocência pdf e txt gerado e salvo!',\n",
       " 'Artigo O Uso das Tecnologias na Formação Inicial de Licenciandos em Ciências Biológicas: o que Dizem as Pesquisas na Área? pdf e txt gerado e salvo!',\n",
       " 'Artigo Pensamento Computacional e Gênero: Avaliando Competências em Séries do Ensino Fundamental II pdf e txt gerado e salvo!',\n",
       " 'Artigo Jogos Digitais como Estratégia para Desenvolver o Pensamento Computacional nos Anos Finais do Ensino Fundamental pdf e txt gerado e salvo!',\n",
       " 'Artigo Um Estudo Comparativo entre Simuladores Computacionais para Apoio à Disciplina de Arquitetura e Organização de Computadores pdf e txt gerado e salvo!',\n",
       " 'Artigo Recompilando o Futuro: o Pensamento Computacional como Parte do Processo de Ressocialização de Detentos pdf e txt gerado e salvo!',\n",
       " 'Artigo Programadores do Amanhã: Introdução ao Pensamento Computacional na Educação Básica pdf e txt gerado e salvo!',\n",
       " 'Artigo Programando a Várias Mãos: um Relato de Experiência da Construção Colaborativa de Algoritmos pdf e txt gerado e salvo!',\n",
       " 'Artigo Narrativas Audiovisuais, Patrimônio Cultural e Comunicação Pública: Oficina de Produção de Vídeos com Celular, em Igarassu/PE pdf e txt gerado e salvo!',\n",
       " 'Artigo Rolando a Bosta pela Mata Atlântica: Utilização de Infográfico Interativo para o Ensino da Diversidade de Besouros Escarabeíneos pdf e txt gerado e salvo!',\n",
       " 'Artigo Dino no Vale dos Dinossauros: um Recurso Educacional Digital para Auxiliar Conceitos Básicos de Contagem pdf e txt gerado e salvo!',\n",
       " 'Artigo Oficina de Apoio a Resolução de Problemas e Lógica Computacional Utilizando a Computação Desplugada e Gamificação pdf e txt gerado e salvo!',\n",
       " 'Artigo Gamificação como Tecnologia Educacional Auxiliadora no Ensino de Curativos pdf e txt gerado e salvo!',\n",
       " 'Artigo Ilha da Tartaruga: Gamificação na Educação Ambiental pdf e txt gerado e salvo!',\n",
       " 'Artigo Pensando Robótica em Versos e Prosa pdf e txt gerado e salvo!',\n",
       " 'Artigo Desenvolvimento de um Jogo Utilizando Robótica para o Estímulo do Pensamento Computacional pdf e txt gerado e salvo!',\n",
       " 'Artigo Robótica Educacional e Pensamento Computacional: uma Avaliação da Percepção dos Alunos sobre o Tema pdf e txt gerado e salvo!',\n",
       " 'Artigo Uma Aplicação Mobile para Mediação de Aulas de Educação Ambiental e Biologia pdf e txt gerado e salvo!',\n",
       " 'Artigo Ensino e Aprendizagem de História através da Construção Colaborativa de Podcasts pdf e txt gerado e salvo!',\n",
       " 'Artigo \"Mãe Quilina”: um Vídeo de uma Escola do Campo e seu Alcance nas Redes Sociais pdf e txt gerado e salvo!',\n",
       " 'Artigo Automatização de Controle de Fluxo de Livros de uma Biblioteca Universitária pdf e txt gerado e salvo!',\n",
       " 'Artigo Intervenção em Turmas de Jovens e Adultos numa Escola da Rede Pública do Recife, Multidisciplinaridade e Uso da Ferramenta Blockly Games: Um Relato de Experiência pdf e txt gerado e salvo!',\n",
       " 'Artigo Jogo Mobile como Ferramenta de Educação para Prevenção da Doença de Chagas pdf e txt gerado e salvo!',\n",
       " 'Artigo Jogos de Tabuleiro e Digitais para Estimular o Desenvolvimento do Raciocínio Lógico: Como escolher? pdf e txt gerado e salvo!',\n",
       " 'Artigo Benefícios de Mapas Mentais para Pessoas com Deficiência Intelectual: um Relato de Experiência pdf e txt gerado e salvo!',\n",
       " 'Artigo Desenvolvimento de um Protótipo de Identificação do Nível de Escrita para Dispositivos Móveis: uma Ferramenta de Sondagem no Ensino pdf e txt gerado e salvo!',\n",
       " 'Artigo Relato de Experiência sobre a Criação de um Clube de Desenvolvimento de Jogos com Foco em Habilidades de Pensamento Computacional pdf e txt gerado e salvo!',\n",
       " 'Artigo Divertix: um Recurso Educacional Digital para a Aprendizagem da Estatística nos Anos Iniciais do Ensino Fundamental pdf e txt gerado e salvo!',\n",
       " 'Artigo Software Educativo Encantando Cordel pdf e txt gerado e salvo!',\n",
       " 'Artigo Uso de Jogo Online no Apoio ao Processo de Alfabetização Infantil: Programa Domlexia pdf e txt gerado e salvo!',\n",
       " 'Artigo Projeto Colmeia: Elaboração de Site Educacional como Ferramenta para a Gamificação pdf e txt gerado e salvo!',\n",
       " 'Artigo Recurso Educacional Digital (RED) para Trabalhar o Gênero Cardápio: Qual o seu Pedido? pdf e txt gerado e salvo!',\n",
       " 'Artigo Jogos Digitais no Ensino de Física: Estudo do Movimento Bidimensional através da Ferramenta Scratch pdf e txt gerado e salvo!',\n",
       " 'Artigo Um Jogo para Dispositivos Móveis com o Objetivo de Auxiliar a Aprendizagem de Libras, ELiS e Português pdf e txt gerado e salvo!']"
      ]
     },
     "execution_count": 42,
     "metadata": {},
     "output_type": "execute_result"
    }
   ],
   "source": [
    "%%time\n",
    "os.makedirs(\"pdf\", exist_ok=True)\n",
    "os.makedirs(\"text\", exist_ok=True)\n",
    "\n",
    "Parallel(verbose=1, n_jobs=10)(delayed(worker)(i) for i in range(len(names_to_download)))"
   ]
  },
  {
   "cell_type": "markdown",
   "metadata": {
    "Collapsed": "false"
   },
   "source": [
    "# Atividade 2: Coleta de Documentos em PDF"
   ]
  },
  {
   "cell_type": "code",
   "execution_count": null,
   "metadata": {
    "Collapsed": "false"
   },
   "outputs": [],
   "source": []
  }
 ],
 "metadata": {
  "kernelspec": {
   "display_name": "Python 3",
   "language": "python",
   "name": "python3"
  },
  "language_info": {
   "codemirror_mode": {
    "name": "ipython",
    "version": 3
   },
   "file_extension": ".py",
   "mimetype": "text/x-python",
   "name": "python",
   "nbconvert_exporter": "python",
   "pygments_lexer": "ipython3",
   "version": "3.7.6"
  }
 },
 "nbformat": 4,
 "nbformat_minor": 4
}
